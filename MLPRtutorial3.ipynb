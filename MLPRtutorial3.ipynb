{
 "cells": [
  {
   "cell_type": "markdown",
   "metadata": {},
   "source": [
    "# Question 1"
   ]
  },
  {
   "cell_type": "code",
   "execution_count": 1,
   "metadata": {
    "ExecuteTime": {
     "end_time": "2018-10-14T20:21:17.288896Z",
     "start_time": "2018-10-14T20:21:17.139475Z"
    }
   },
   "outputs": [],
   "source": [
    "import numpy as np\n",
    "x1 = np.array([0.5,0.1,.2,0.4,.3,0.2,0.2,.1,0.35,0.25])\n",
    "\n",
    "x2 = np.array([0.9,0.8,0.75,1.])\n",
    "\n",
    " \n",
    "\n",
    "x1.mean()\n",
    "\n",
    "x2.var()\n",
    "#.00921875\n",
    "\n",
    "x1.var()\n",
    "#Out[6]: 0.014899999999999997\n",
    "\n",
    "x2.mean()\n",
    "#Out[7]: 0.8625\n",
    "\n",
    "m1 = x1.mean()\n",
    "\n",
    "m2 = x2.mean()\n",
    "\n",
    "s1 = x1.std()\n",
    "\n",
    "s2 = x2.std()\n",
    "p1 = x1.size / (x1.size+x2.size)\n",
    "p2 = 1 - p1"
   ]
  },
  {
   "cell_type": "code",
   "execution_count": 2,
   "metadata": {
    "ExecuteTime": {
     "end_time": "2018-10-14T20:21:17.301613Z",
     "start_time": "2018-10-14T20:21:17.297129Z"
    }
   },
   "outputs": [
    {
     "name": "stdout",
     "output_type": "stream",
     "text": [
      "0.26 0.8625 0.12206555615733701 0.0960143218483576\n"
     ]
    }
   ],
   "source": [
    "print(m1,m2,s1,s2)"
   ]
  },
  {
   "cell_type": "code",
   "execution_count": 3,
   "metadata": {
    "ExecuteTime": {
     "end_time": "2018-10-14T20:21:17.318551Z",
     "start_time": "2018-10-14T20:21:17.305984Z"
    }
   },
   "outputs": [],
   "source": [
    "x = np.linspace(-1,2,500)"
   ]
  },
  {
   "cell_type": "code",
   "execution_count": 4,
   "metadata": {
    "ExecuteTime": {
     "end_time": "2018-10-14T20:21:17.507569Z",
     "start_time": "2018-10-14T20:21:17.321438Z"
    }
   },
   "outputs": [],
   "source": [
    "import matplotlib.mlab as mlab\n",
    "import matplotlib.pyplot as plt"
   ]
  },
  {
   "cell_type": "code",
   "execution_count": 5,
   "metadata": {
    "ExecuteTime": {
     "end_time": "2018-10-14T20:21:17.624510Z",
     "start_time": "2018-10-14T20:21:17.508944Z"
    }
   },
   "outputs": [
    {
     "data": {
      "image/png": "[encoded data removed]",
      "text/plain": [
       "<matplotlib.figure.Figure at 0x7ff2609faa90>"
      ]
     },
     "metadata": {},
     "output_type": "display_data"
    }
   ],
   "source": [
    "%matplotlib inline\n",
    "plt.plot(x,mlab.normpdf(x, m1, s1)*p1);\n",
    "plt.plot(x,mlab.normpdf(x, m2, s2)*p2);"
   ]
  },
  {
   "cell_type": "code",
   "execution_count": 6,
   "metadata": {
    "ExecuteTime": {
     "end_time": "2018-10-14T20:21:17.629290Z",
     "start_time": "2018-10-14T20:21:17.626339Z"
    }
   },
   "outputs": [],
   "source": [
    "sc1 = mlab.normpdf(0.6,m1,s1)*p1"
   ]
  },
  {
   "cell_type": "code",
   "execution_count": 7,
   "metadata": {
    "ExecuteTime": {
     "end_time": "2018-10-14T20:21:17.635147Z",
     "start_time": "2018-10-14T20:21:17.631229Z"
    }
   },
   "outputs": [],
   "source": [
    "sc2 = mlab.normpdf(0.6,m2,s2)*p2"
   ]
  },
  {
   "cell_type": "code",
   "execution_count": 8,
   "metadata": {
    "ExecuteTime": {
     "end_time": "2018-10-14T20:21:17.640285Z",
     "start_time": "2018-10-14T20:21:17.637474Z"
    }
   },
   "outputs": [],
   "source": [
    "P = sc1/(sc1+sc2)"
   ]
  },
  {
   "cell_type": "code",
   "execution_count": 9,
   "metadata": {
    "ExecuteTime": {
     "end_time": "2018-10-14T20:21:17.645724Z",
     "start_time": "2018-10-14T20:21:17.642292Z"
    }
   },
   "outputs": [
    {
     "name": "stdout",
     "output_type": "stream",
     "text": [
      "0.630490900591425\n"
     ]
    }
   ],
   "source": [
    "print(P)"
   ]
  },
  {
   "cell_type": "code",
   "execution_count": 10,
   "metadata": {
    "ExecuteTime": {
     "end_time": "2018-10-14T20:21:17.655250Z",
     "start_time": "2018-10-14T20:21:17.648138Z"
    }
   },
   "outputs": [],
   "source": [
    "f1 = np.maximum(mlab.normpdf(x, m1, s1),0.0001)*p1\n",
    "f2 = np.maximum(mlab.normpdf(x, m2, s2),0.0001)*p2\n",
    "P1 = f1 / (f1 + f2)\n",
    "P2 = f2 / (f1 + f2)"
   ]
  },
  {
   "cell_type": "code",
   "execution_count": 11,
   "metadata": {
    "ExecuteTime": {
     "end_time": "2018-10-14T20:21:17.848952Z",
     "start_time": "2018-10-14T20:21:17.657634Z"
    }
   },
   "outputs": [
    {
     "data": {
      "text/plain": [
       "[<matplotlib.lines.Line2D at 0x7ff25e6e9ba8>]"
      ]
     },
     "execution_count": 11,
     "metadata": {},
     "output_type": "execute_result"
    },
    {
     "data": {
      "image/png": "[encoded data removed]",
      "text/plain": [
       "<matplotlib.figure.Figure at 0x7ff25e6e9c88>"
      ]
     },
     "metadata": {},
     "output_type": "display_data"
    }
   ],
   "source": [
    "plt.plot(x,P1)\n",
    "plt.plot(x,P2)"
   ]
  },
  {
   "cell_type": "code",
   "execution_count": 12,
   "metadata": {
    "ExecuteTime": {
     "end_time": "2018-10-14T20:21:17.853235Z",
     "start_time": "2018-10-14T20:21:17.850694Z"
    }
   },
   "outputs": [],
   "source": [
    "np.where(P1 > 0.49);"
   ]
  },
  {
   "cell_type": "code",
   "execution_count": 13,
   "metadata": {
    "ExecuteTime": {
     "end_time": "2018-10-14T20:21:17.859768Z",
     "start_time": "2018-10-14T20:21:17.854971Z"
    }
   },
   "outputs": [
    {
     "data": {
      "text/plain": [
       "0.49032393219350406"
      ]
     },
     "execution_count": 13,
     "metadata": {},
     "output_type": "execute_result"
    }
   ],
   "source": [
    "P1[268]"
   ]
  },
  {
   "cell_type": "code",
   "execution_count": 14,
   "metadata": {
    "ExecuteTime": {
     "end_time": "2018-10-14T20:21:17.864918Z",
     "start_time": "2018-10-14T20:21:17.862395Z"
    }
   },
   "outputs": [],
   "source": [
    "root = 3/500 * 268 -1 "
   ]
  },
  {
   "cell_type": "code",
   "execution_count": 15,
   "metadata": {
    "ExecuteTime": {
     "end_time": "2018-10-14T20:21:17.870098Z",
     "start_time": "2018-10-14T20:21:17.866879Z"
    }
   },
   "outputs": [
    {
     "name": "stdout",
     "output_type": "stream",
     "text": [
      "0.6080000000000001\n"
     ]
    }
   ],
   "source": [
    "print(root)"
   ]
  },
  {
   "cell_type": "markdown",
   "metadata": {},
   "source": [
    "# Question 2"
   ]
  },
  {
   "cell_type": "code",
   "execution_count": 16,
   "metadata": {
    "ExecuteTime": {
     "end_time": "2018-10-14T20:21:18.194651Z",
     "start_time": "2018-10-14T20:21:17.872554Z"
    }
   },
   "outputs": [],
   "source": [
    "from sklearn.linear_model import LogisticRegression\n",
    "\n",
    "xs = [ [ 1 ,1 ] , [ 0, 0] ,[2, 2],[0,2]\n",
    "    ]\n",
    "ys = [ 1, 1, 0,0]\n",
    "\n"
   ]
  },
  {
   "cell_type": "code",
   "execution_count": 17,
   "metadata": {
    "ExecuteTime": {
     "end_time": "2018-10-14T20:21:18.205091Z",
     "start_time": "2018-10-14T20:21:18.196487Z"
    }
   },
   "outputs": [],
   "source": [
    "clf = LogisticRegression(random_state=0, solver='lbfgs').fit(xs, ys)\n"
   ]
  },
  {
   "cell_type": "code",
   "execution_count": 18,
   "metadata": {
    "ExecuteTime": {
     "end_time": "2018-10-14T20:21:18.217039Z",
     "start_time": "2018-10-14T20:21:18.207758Z"
    }
   },
   "outputs": [
    {
     "data": {
      "text/plain": [
       "LogisticRegression(C=1.0, class_weight=None, dual=False, fit_intercept=True,\n",
       "          intercept_scaling=1, max_iter=100, multi_class='warn',\n",
       "          n_jobs=None, penalty='l2', random_state=0, solver='lbfgs',\n",
       "          tol=0.0001, verbose=0, warm_start=False)"
      ]
     },
     "execution_count": 18,
     "metadata": {},
     "output_type": "execute_result"
    }
   ],
   "source": [
    "clf\n"
   ]
  },
  {
   "cell_type": "code",
   "execution_count": 27,
   "metadata": {
    "ExecuteTime": {
     "end_time": "2018-10-14T20:23:08.353185Z",
     "start_time": "2018-10-14T20:23:08.339974Z"
    }
   },
   "outputs": [],
   "source": [
    "x1 = np.random.uniform(-1,3,size = 5000)"
   ]
  },
  {
   "cell_type": "code",
   "execution_count": 28,
   "metadata": {
    "ExecuteTime": {
     "end_time": "2018-10-14T20:23:08.572546Z",
     "start_time": "2018-10-14T20:23:08.569347Z"
    }
   },
   "outputs": [],
   "source": [
    "x2 = np.random.uniform(-1,3,size = 5000)"
   ]
  },
  {
   "cell_type": "code",
   "execution_count": 29,
   "metadata": {
    "ExecuteTime": {
     "end_time": "2018-10-14T20:23:08.774815Z",
     "start_time": "2018-10-14T20:23:08.771296Z"
    }
   },
   "outputs": [],
   "source": [
    "\n",
    "y = clf.predict(np.vstack((x1,x2)).T)"
   ]
  },
  {
   "cell_type": "code",
   "execution_count": 30,
   "metadata": {
    "ExecuteTime": {
     "end_time": "2018-10-14T20:23:09.316765Z",
     "start_time": "2018-10-14T20:23:09.031404Z"
    }
   },
   "outputs": [
    {
     "data": {
      "text/plain": [
       "<matplotlib.collections.PathCollection at 0x7ff25321c6d8>"
      ]
     },
     "execution_count": 30,
     "metadata": {},
     "output_type": "execute_result"
    },
    {
     "data": {
      "image/png": "[encoded data removed]",
      "text/plain": [
       "<matplotlib.figure.Figure at 0x7ff2532add30>"
      ]
     },
     "metadata": {},
     "output_type": "display_data"
    }
   ],
   "source": [
    "\n",
    "X = np.vstack((x1,x2)).T;\n",
    "xx=X[np.where(y==0)]\n",
    "xxx = X[np.where(y==1)]\n",
    "plt.scatter(xx[:,0],xx[:,1])\n",
    "plt.scatter(xxx[:,0],xxx[:,1])"
   ]
  },
  {
   "cell_type": "code",
   "execution_count": 54,
   "metadata": {
    "ExecuteTime": {
     "end_time": "2018-10-14T20:45:37.125859Z",
     "start_time": "2018-10-14T20:45:37.102673Z"
    }
   },
   "outputs": [
    {
     "name": "stdout",
     "output_type": "stream",
     "text": [
      "[[-0.15381608 -0.89318441]]\n",
      "[1.25277614]\n"
     ]
    }
   ],
   "source": [
    "c = clf.coef_\n",
    "b = clf.intercept_\n",
    "print(c)\n",
    "print(b)"
   ]
  },
  {
   "cell_type": "code",
   "execution_count": 68,
   "metadata": {
    "ExecuteTime": {
     "end_time": "2018-10-14T20:48:52.760123Z",
     "start_time": "2018-10-14T20:48:52.516611Z"
    }
   },
   "outputs": [
    {
     "data": {
      "text/plain": [
       "[<matplotlib.lines.Line2D at 0x7ff2529e2b00>]"
      ]
     },
     "execution_count": 68,
     "metadata": {},
     "output_type": "execute_result"
    },
    {
     "data": {
      "image/png": "[encoded data removed]",
      "text/plain": [
       "<matplotlib.figure.Figure at 0x7ff252a97080>"
      ]
     },
     "metadata": {},
     "output_type": "display_data"
    }
   ],
   "source": [
    "h = np.linspace(-1,3,1000)\n",
    "plt.scatter(xx[:,0],xx[:,1])\n",
    "plt.scatter(xxx[:,0],xxx[:,1])\n",
    "plt.plot(h,-(h*c[0][0]+b)/(c[0][1]),'k')"
   ]
  },
  {
   "cell_type": "code",
   "execution_count": null,
   "metadata": {},
   "outputs": [],
   "source": []
  }
 ],
 "metadata": {
  "kernelspec": {
   "display_name": "Python 3",
   "language": "python",
   "name": "python3"
  },
  "language_info": {
   "codemirror_mode": {
    "name": "ipython",
    "version": 3
   },
   "file_extension": ".py",
   "mimetype": "text/x-python",
   "name": "python",
   "nbconvert_exporter": "python",
   "pygments_lexer": "ipython3",
   "version": "3.5.2"
  },
  "varInspector": {
   "cols": {
    "lenName": 16,
    "lenType": 16,
    "lenVar": 40
   },
   "kernels_config": {
    "python": {
     "delete_cmd_postfix": "",
     "delete_cmd_prefix": "del ",
     "library": "var_list.py",
     "varRefreshCmd": "print(var_dic_list())"
    },
    "r": {
     "delete_cmd_postfix": ") ",
     "delete_cmd_prefix": "rm(",
     "library": "var_list.r",
     "varRefreshCmd": "cat(var_dic_list()) "
    }
   },
   "types_to_exclude": [
    "module",
    "function",
    "builtin_function_or_method",
    "instance",
    "_Feature"
   ],
   "window_display": false
  }
 },
 "nbformat": 4,
 "nbformat_minor": 2
}
