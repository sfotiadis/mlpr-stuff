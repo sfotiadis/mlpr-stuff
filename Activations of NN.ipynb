{
 "cells": [
  {
   "cell_type": "code",
   "execution_count": 6,
   "metadata": {},
   "outputs": [],
   "source": [
    "import numpy as np\n",
    "import matplotlib.pyplot as plt"
   ]
  },
  {
   "cell_type": "code",
   "execution_count": 167,
   "metadata": {},
   "outputs": [],
   "source": [
    "def sigmoid(inputs): \n",
    "    return 1.0/(1.0+np.exp(-inputs))\n",
    "\n",
    "def ReLU(a):\n",
    "    \"\"\"based on https://stackoverflow.com/questions/32109319/how-to-implement-the-relu-function-in-nump\"\"\"\n",
    "    return(np.maximum(a, 0, a))"
   ]
  },
  {
   "cell_type": "code",
   "execution_count": 225,
   "metadata": {},
   "outputs": [
    {
     "data": {
      "application/vnd.jupyter.widget-view+json": {
       "model_id": "85a79f41f8b64ec58d69509664a31370",
       "version_major": 2,
       "version_minor": 0
      },
      "text/plain": [
       "interactive(children=(Select(description='Activation Function', options=('ReLU', 'sigmoid'), value='ReLU'), Fl…"
      ]
     },
     "metadata": {},
     "output_type": "display_data"
    }
   ],
   "source": [
    "from ipywidgets import interact_manual, interact, Select, FloatSlider\n",
    "\n",
    "h1s=100\n",
    "h2s=50\n",
    "\n",
    "afs = Select(options=['ReLU', 'sigmoid'], description='Activation Function')\n",
    "bs = FloatSlider(min=0, max=10, step=0.2)\n",
    "ws = FloatSlider(min=0, max=10, step=0.2)\n",
    "\n",
    "\n",
    "def plot_nn(af, b, w):\n",
    "    if af=='ReLU': activation_func = ReLU \n",
    "    else: activation_func = sigmoid\n",
    "    nn_inputs = np.linspace(-200,200,200)[:, np.newaxis]\n",
    "    nn_bias1 = np.random.randn(1, h1s) * b\n",
    "    nn_bias2 = np.random.randn(1, h2s) * b\n",
    "    nn_bias3 = np.random.randn(1) * b\n",
    "    nn_weights1 = np.random.randn(1,h1s) * w\n",
    "    nn_weights2 = np.random.randn(h1s,h2s) * w\n",
    "    nn_weights3 = np.random.randn(h2s,1) * w\n",
    "    h1 = activation_func(np.dot(nn_inputs,nn_weights1) + nn_bias1)\n",
    "    h2 = activation_func(np.dot(h1,nn_weights2) + nn_bias2)\n",
    "    f = activation_func(np.dot(h2,nn_weights3) + nn_bias3)\n",
    "    plt.figure(figsize=(10,6))\n",
    "    plt.plot(nn_inputs, f)\n",
    "    plt.show()\n",
    "    \n",
    "interact_manual(plot_nn, af=afs, b=bs, w=ws);"
   ]
  },
  {
   "cell_type": "code",
   "execution_count": 227,
   "metadata": {},
   "outputs": [
    {
     "data": {
      "application/vnd.jupyter.widget-view+json": {
       "model_id": "96180bf46e924db0907dea38f2464486",
       "version_major": 2,
       "version_minor": 0
      },
      "text/plain": [
       "interactive(children=(Select(description='Activation Function', index=1, options=('ReLU', 'sigmoid'), value='s…"
      ]
     },
     "metadata": {},
     "output_type": "display_data"
    }
   ],
   "source": [
    "activation_func = sigmoid\n",
    "\n",
    "def plot_nn_contour(af, b, w):\n",
    "    nn1 = np.linspace(-5,5,200)[:, np.newaxis]\n",
    "    mgrid = np.meshgrid(nn1, nn1)\n",
    "    nn_inputs = np.stack(mgrid).reshape(2,-1).T\n",
    "    \n",
    "    nn_bias1 = np.random.randn(1, h1s) * b\n",
    "    nn_bias2 = np.random.randn(1, h2s) * b\n",
    "    nn_bias3 = np.random.randn(1) * b\n",
    "    nn_weights1 = np.random.randn(2,h1s) * w\n",
    "    nn_weights2 = np.random.randn(h1s,h2s) * w\n",
    "    nn_weights3 = np.random.randn(h2s,1) * w\n",
    "    h1 = activation_func(np.dot(nn_inputs,nn_weights1) + nn_bias1)\n",
    "    h2 = activation_func(np.dot(h1,nn_weights2) + nn_bias2)\n",
    "    f = activation_func(np.dot(h2,nn_weights3) + nn_bias3)\n",
    "    \n",
    "#     nn_weights1 = np.random.randn(2,100) \n",
    "#     nn_weights2 = np.random.randn(100,50)\n",
    "#     nn_weights3 = np.random.randn(50,1)\n",
    "    h1 = activation_func(np.dot(nn_inputs,nn_weights1))\n",
    "    h2 = activation_func(np.dot(h1,nn_weights2))\n",
    "    f = activation_func(np.dot(h2,nn_weights3))\n",
    "    z = f.reshape(200,200)\n",
    "    plt.figure(figsize=(12,12))\n",
    "    plt.contourf(mgrid[0], mgrid[1], z, levels=40, cmap='Reds');\n",
    "    \n",
    "interact_manual(plot_nn_contour, af=afs, b=bs, w=ws);"
   ]
  },
  {
   "cell_type": "code",
   "execution_count": null,
   "metadata": {},
   "outputs": [],
   "source": []
  }
 ],
 "metadata": {
  "kernelspec": {
   "display_name": "Python 3",
   "language": "python",
   "name": "python3"
  },
  "language_info": {
   "codemirror_mode": {
    "name": "ipython",
    "version": 3
   },
   "file_extension": ".py",
   "mimetype": "text/x-python",
   "name": "python",
   "nbconvert_exporter": "python",
   "pygments_lexer": "ipython3",
   "version": "3.6.6"
  },
  "widgets": {
   "application/vnd.jupyter.widget-state+json": {
    "state": {
     "00dff9b288ab482dbc5f366915219e79": {
      "model_module": "@jupyter-widgets/controls",
      "model_module_version": "1.4.0",
      "model_name": "FloatSliderModel",
      "state": {
       "description": "b",
       "layout": "IPY_MODEL_8de4a63c0d514799bbd8aead8be04072",
       "max": 10,
       "step": 0.2,
       "style": "IPY_MODEL_ebf9dc0b62e240a381567bb1215eb9ec",
       "value": 2.2
      }
     },
     "02de0e48004d42aebad0d9f62767d23e": {
      "model_module": "@jupyter-widgets/output",
      "model_module_version": "1.0.0",
      "model_name": "OutputModel",
      "state": {
       "layout": "IPY_MODEL_227ccc212d304e7e81e97b3659d8a87e",
       "outputs": [
        {
         "data": {
          "image/png": "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\n",
          "text/plain": "<Figure size 432x288 with 1 Axes>"
         },
         "metadata": {
          "needs_background": "light"
         },
         "output_type": "display_data"
        }
       ]
      }
     },
     "0303f8bfb8ce464d9d06857d26665b3d": {
      "model_module": "@jupyter-widgets/controls",
      "model_module_version": "1.4.0",
      "model_name": "SelectModel",
      "state": {
       "_options_labels": [
        "ReLU",
        "sigmoid"
       ],
       "description": "Activation Function",
       "index": 0,
       "layout": "IPY_MODEL_884597ae979d4e118a39d436cf5c5047",
       "style": "IPY_MODEL_4510ba20db454364b283d671c3df56c3"
      }
     },
     "0476ddaaab564bddb80c563ffd316975": {
      "model_module": "@jupyter-widgets/controls",
      "model_module_version": "1.4.0",
      "model_name": "ButtonModel",
      "state": {
       "description": "Run Interact",
       "layout": "IPY_MODEL_ad20c2ac0f21415d9fc31f8fc26da2e4",
       "style": "IPY_MODEL_93c7c22e579d482f83e65367c659037f"
      }
     },
     "050945d1ed9b421f97bf319b443da38a": {
      "model_module": "@jupyter-widgets/controls",
      "model_module_version": "1.4.0",
      "model_name": "VBoxModel",
      "state": {
       "_dom_classes": [
        "widget-interact"
       ],
       "children": [
        "IPY_MODEL_af6b0cb871f84683923ac6bb12577f80",
        "IPY_MODEL_2043612a418845c1b8ff2e13fab1c424",
        "IPY_MODEL_f718d35ccd624b93b9bf351545e7e89b",
        "IPY_MODEL_ea1028813203461693c3a28810cfaff5"
       ],
       "layout": "IPY_MODEL_ce955d3ba0664c5cb05e8e52e27b0f8c"
      }
     },
     "05ae23d292af4d498e377999ab9f82f6": {
      "model_module": "@jupyter-widgets/base",
      "model_module_version": "1.1.0",
      "model_name": "LayoutModel",
      "state": {}
     },
     "063e1faed3c9403c954eb5cd7640ebe1": {
      "model_module": "@jupyter-widgets/base",
      "model_module_version": "1.1.0",
      "model_name": "LayoutModel",
      "state": {}
     },
     "071a06a62d7442a18706ed1ae6ec0830": {
      "model_module": "@jupyter-widgets/output",
      "model_module_version": "1.0.0",
      "model_name": "OutputModel",
      "state": {
       "layout": "IPY_MODEL_70f61fb2d1f04d88a1d91e309190da87",
       "outputs": [
        {
         "data": {
          "image/png": "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\n",
          "text/plain": "<Figure size 432x288 with 1 Axes>"
         },
         "metadata": {
          "needs_background": "light"
         },
         "output_type": "display_data"
        }
       ]
      }
     },
     "0780fefbb3e8421b80429257318c00e7": {
      "model_module": "@jupyter-widgets/base",
      "model_module_version": "1.1.0",
      "model_name": "LayoutModel",
      "state": {}
     },
     "0823f00f367c422fa1ca487ca6e21a13": {
      "model_module": "@jupyter-widgets/controls",
      "model_module_version": "1.4.0",
      "model_name": "VBoxModel",
      "state": {
       "_dom_classes": [
        "widget-interact"
       ],
       "children": [
        "IPY_MODEL_e1de41be811b42a1bed3a07a0e92323c",
        "IPY_MODEL_fac37ca0fc874c4c9b6b4cc005225b43",
        "IPY_MODEL_35e34243d1854b6c87f6f45caff0b2a6"
       ],
       "layout": "IPY_MODEL_eb48ce9792184a7a8eeea5e5b977d766"
      }
     },
     "0b51be354a034677a49824bf9079558d": {
      "model_module": "@jupyter-widgets/output",
      "model_module_version": "1.0.0",
      "model_name": "OutputModel",
      "state": {
       "layout": "IPY_MODEL_c982ff0d23e7438ba7192e08ae0b2a8c"
      }
     },
     "0d4067a121fe4b958aaf6e73d15a8a53": {
      "model_module": "@jupyter-widgets/output",
      "model_module_version": "1.0.0",
      "model_name": "OutputModel",
      "state": {
       "layout": "IPY_MODEL_12d98db2e3b94070b6116c16f1dd1f20"
      }
     },
     "0e67603368f5448a8b3e9032ee050cf5": {
      "model_module": "@jupyter-widgets/controls",
      "model_module_version": "1.4.0",
      "model_name": "DescriptionStyleModel",
      "state": {
       "description_width": ""
      }
     },
     "0f6ecaf7d9eb4160b503b1b0d04d9020": {
      "model_module": "@jupyter-widgets/base",
      "model_module_version": "1.1.0",
      "model_name": "LayoutModel",
      "state": {}
     },
     "0f83bed178ce4d69973d5bbf44ce880d": {
      "model_module": "@jupyter-widgets/controls",
      "model_module_version": "1.4.0",
      "model_name": "ButtonStyleModel",
      "state": {}
     },
     "10b3718be4984fc5a8b7b198a602ba2c": {
      "model_module": "@jupyter-widgets/output",
      "model_module_version": "1.0.0",
      "model_name": "OutputModel",
      "state": {
       "layout": "IPY_MODEL_4573fae2a508464fbc8bf3261ad2528d",
       "outputs": [
        {
         "data": {
          "image/png": "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\n",
          "text/plain": "<Figure size 432x288 with 1 Axes>"
         },
         "metadata": {
          "needs_background": "light"
         },
         "output_type": "display_data"
        }
       ]
      }
     },
     "11f9951f151842228af1415ddc02f084": {
      "model_module": "@jupyter-widgets/controls",
      "model_module_version": "1.4.0",
      "model_name": "VBoxModel",
      "state": {
       "_dom_classes": [
        "widget-interact"
       ],
       "children": [
        "IPY_MODEL_4a470eff1db74bf193cbbdf0cdb51f39",
        "IPY_MODEL_8ed21a4b7e724178af610294982f5fab"
       ],
       "layout": "IPY_MODEL_7d44d2a8a0924d4887c11e032e33326f"
      }
     },
     "12c325966fb74259a547f11cab39d831": {
      "model_module": "@jupyter-widgets/controls",
      "model_module_version": "1.4.0",
      "model_name": "SliderStyleModel",
      "state": {
       "description_width": ""
      }
     },
     "12d98db2e3b94070b6116c16f1dd1f20": {
      "model_module": "@jupyter-widgets/base",
      "model_module_version": "1.1.0",
      "model_name": "LayoutModel",
      "state": {}
     },
     "14a30abdcedb4b508948099e963e2719": {
      "model_module": "@jupyter-widgets/controls",
      "model_module_version": "1.4.0",
      "model_name": "ButtonStyleModel",
      "state": {}
     },
     "1512bf4e8f6448f09d838df85f9b4d8e": {
      "model_module": "@jupyter-widgets/base",
      "model_module_version": "1.1.0",
      "model_name": "LayoutModel",
      "state": {}
     },
     "161acbddf6ab456588c56aff8137cfc1": {
      "model_module": "@jupyter-widgets/controls",
      "model_module_version": "1.4.0",
      "model_name": "FloatSliderModel",
      "state": {
       "description": "b",
       "layout": "IPY_MODEL_d02a3d9a14c04559a61ae246dd17b610",
       "max": 10,
       "step": 0.2,
       "style": "IPY_MODEL_fdb0ccba06334a4ba8f4c34dcb8b2345",
       "value": 8.4
      }
     },
     "167173519d87415eb49a4086a08b5076": {
      "model_module": "@jupyter-widgets/controls",
      "model_module_version": "1.4.0",
      "model_name": "DescriptionStyleModel",
      "state": {
       "description_width": ""
      }
     },
     "17509b6a6f4a4b0abc2a211712d5ac35": {
      "model_module": "@jupyter-widgets/controls",
      "model_module_version": "1.4.0",
      "model_name": "SelectModel",
      "state": {
       "_options_labels": [
        "ReLU",
        "sigmoid"
       ],
       "description": "Activation Function",
       "index": 0,
       "layout": "IPY_MODEL_0780fefbb3e8421b80429257318c00e7",
       "style": "IPY_MODEL_21b0b6a66da64eac9cd6b8e16fb0c170"
      }
     },
     "1844929d12514b7797c66f082539d193": {
      "model_module": "@jupyter-widgets/output",
      "model_module_version": "1.0.0",
      "model_name": "OutputModel",
      "state": {
       "layout": "IPY_MODEL_b55417e806a14ccb8efeb750edd3dfe2"
      }
     },
     "18546fe8b0eb42dfa02b027c44f19394": {
      "model_module": "@jupyter-widgets/base",
      "model_module_version": "1.1.0",
      "model_name": "LayoutModel",
      "state": {}
     },
     "1962ce9ac74c4733aeaa9452d5bedff1": {
      "model_module": "@jupyter-widgets/base",
      "model_module_version": "1.1.0",
      "model_name": "LayoutModel",
      "state": {}
     },
     "1a846e98326f497da0e623b5dbf00062": {
      "model_module": "@jupyter-widgets/controls",
      "model_module_version": "1.4.0",
      "model_name": "SelectModel",
      "state": {
       "_options_labels": [
        "ReLU",
        "sigmoid"
       ],
       "description": "Activation Function",
       "index": 1,
       "layout": "IPY_MODEL_a0aef016fd20444d838676c82711f16f",
       "style": "IPY_MODEL_486112a57a8049c1a23141d92f508c7e"
      }
     },
     "1be5ccdbf79f496da80c339249391f8b": {
      "model_module": "@jupyter-widgets/controls",
      "model_module_version": "1.4.0",
      "model_name": "VBoxModel",
      "state": {
       "_dom_classes": [
        "widget-interact"
       ],
       "children": [
        "IPY_MODEL_36ac94d6a2754aaa8cf44b4aa7400e44",
        "IPY_MODEL_d8b77ebf007244dea37f62c0fdb3fe25",
        "IPY_MODEL_7fe0eb63a58047b2a15b40d951372cf3"
       ],
       "layout": "IPY_MODEL_70c2b2647df24e9ba36de91653665cf0"
      }
     },
     "1c37d3fe32c941cb8f9b73e11bacfe4e": {
      "model_module": "@jupyter-widgets/base",
      "model_module_version": "1.1.0",
      "model_name": "LayoutModel",
      "state": {}
     },
     "1c440163c6084f6cbfc6c879f7e893d5": {
      "model_module": "@jupyter-widgets/base",
      "model_module_version": "1.1.0",
      "model_name": "LayoutModel",
      "state": {}
     },
     "1c64e8d01fb54bdc91713a1aa2f4074a": {
      "model_module": "@jupyter-widgets/controls",
      "model_module_version": "1.4.0",
      "model_name": "VBoxModel",
      "state": {
       "_dom_classes": [
        "widget-interact"
       ],
       "children": [
        "IPY_MODEL_b9bd88266f4041d19ce2d41ba3741834",
        "IPY_MODEL_8d63b32c1276419496405b5f592706e3",
        "IPY_MODEL_9b3217b020f44b53b8325b650827cc40"
       ],
       "layout": "IPY_MODEL_1962ce9ac74c4733aeaa9452d5bedff1"
      }
     },
     "1e1c0ae5ef6f414eb8c2e7c9347c9d0d": {
      "model_module": "@jupyter-widgets/controls",
      "model_module_version": "1.4.0",
      "model_name": "VBoxModel",
      "state": {
       "_dom_classes": [
        "widget-interact"
       ],
       "children": [
        "IPY_MODEL_5b2404211dcd428d940ce8e6dc6cba52",
        "IPY_MODEL_dba176992e364f8f96bfedd94bcf3708",
        "IPY_MODEL_02de0e48004d42aebad0d9f62767d23e"
       ],
       "layout": "IPY_MODEL_9473350f2cc94926a03555358c59d45a"
      }
     },
     "1e695a846a87440695d7bf4d5292497c": {
      "model_module": "@jupyter-widgets/base",
      "model_module_version": "1.1.0",
      "model_name": "LayoutModel",
      "state": {}
     },
     "1e7c7702780343309212db900ac2b1e3": {
      "model_module": "@jupyter-widgets/base",
      "model_module_version": "1.1.0",
      "model_name": "LayoutModel",
      "state": {}
     },
     "2043612a418845c1b8ff2e13fab1c424": {
      "model_module": "@jupyter-widgets/controls",
      "model_module_version": "1.4.0",
      "model_name": "FloatSliderModel",
      "state": {
       "description": "b",
       "layout": "IPY_MODEL_54af6ad8b63d4f01b00c789311b07cb8",
       "max": 10,
       "step": 0.2,
       "style": "IPY_MODEL_f0dd29b073dd4b62bbdb219c5497c4b3",
       "value": 4.2
      }
     },
     "21b0b6a66da64eac9cd6b8e16fb0c170": {
      "model_module": "@jupyter-widgets/controls",
      "model_module_version": "1.4.0",
      "model_name": "DescriptionStyleModel",
      "state": {
       "description_width": ""
      }
     },
     "227ccc212d304e7e81e97b3659d8a87e": {
      "model_module": "@jupyter-widgets/base",
      "model_module_version": "1.1.0",
      "model_name": "LayoutModel",
      "state": {}
     },
     "268c25747b8041499b6c7a9dd8eda0ca": {
      "model_module": "@jupyter-widgets/controls",
      "model_module_version": "1.4.0",
      "model_name": "ButtonModel",
      "state": {
       "description": "Run Interact",
       "layout": "IPY_MODEL_933d5b9868c249d790e3ef1b5badd9ac",
       "style": "IPY_MODEL_ccc682acbf894ffab6c23e94d33809b2"
      }
     },
     "26d07475fe2749a4965825657c169c54": {
      "model_module": "@jupyter-widgets/controls",
      "model_module_version": "1.4.0",
      "model_name": "VBoxModel",
      "state": {
       "_dom_classes": [
        "widget-interact"
       ],
       "children": [
        "IPY_MODEL_e9877dd22d3e4bdaa24465efe73cacbe",
        "IPY_MODEL_93ee8e5292b3439aa67cd0a540886664"
       ],
       "layout": "IPY_MODEL_bb040a6bd40d4a21bf701bd8d2830dea"
      }
     },
     "273e201dc51b4e66b13d2ae2dfb85e4d": {
      "model_module": "@jupyter-widgets/base",
      "model_module_version": "1.1.0",
      "model_name": "LayoutModel",
      "state": {}
     },
     "280b5ca96d964d578bd74145d979499c": {
      "model_module": "@jupyter-widgets/controls",
      "model_module_version": "1.4.0",
      "model_name": "DescriptionStyleModel",
      "state": {
       "description_width": ""
      }
     },
     "2b3f8bd6ab1b4395affa117fa1dea0e3": {
      "model_module": "@jupyter-widgets/controls",
      "model_module_version": "1.4.0",
      "model_name": "ButtonModel",
      "state": {
       "description": "Run Interact",
       "layout": "IPY_MODEL_a7ec6a82cf14472791259c454f33c2cd",
       "style": "IPY_MODEL_704d019092a24b618df0cec69b4afa89"
      }
     },
     "2c047ce944304d5eb0e1ff094d3ff9a6": {
      "model_module": "@jupyter-widgets/base",
      "model_module_version": "1.1.0",
      "model_name": "LayoutModel",
      "state": {}
     },
     "2d29cb02440b41cbab6b21b70574eb57": {
      "model_module": "@jupyter-widgets/base",
      "model_module_version": "1.1.0",
      "model_name": "LayoutModel",
      "state": {}
     },
     "2df70c74f1ec4c2abdff516f832036f3": {
      "model_module": "@jupyter-widgets/base",
      "model_module_version": "1.1.0",
      "model_name": "LayoutModel",
      "state": {}
     },
     "2e2b185e786d474dbc883b94fd8de642": {
      "model_module": "@jupyter-widgets/base",
      "model_module_version": "1.1.0",
      "model_name": "LayoutModel",
      "state": {}
     },
     "2e7536111256463aa031b07868cad5d2": {
      "model_module": "@jupyter-widgets/controls",
      "model_module_version": "1.4.0",
      "model_name": "SliderStyleModel",
      "state": {
       "description_width": ""
      }
     },
     "2eca03a9f61b4bbbbe3f2f626b52a57e": {
      "model_module": "@jupyter-widgets/base",
      "model_module_version": "1.1.0",
      "model_name": "LayoutModel",
      "state": {}
     },
     "2f7b4f5cc6464d77a0dcb0532388b578": {
      "model_module": "@jupyter-widgets/output",
      "model_module_version": "1.0.0",
      "model_name": "OutputModel",
      "state": {
       "layout": "IPY_MODEL_a82941ffb73b46bc83d190dfbaf68e11",
       "outputs": [
        {
         "data": {
          "image/png": "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\n",
          "text/plain": "<Figure size 432x288 with 1 Axes>"
         },
         "metadata": {
          "needs_background": "light"
         },
         "output_type": "display_data"
        }
       ]
      }
     },
     "3145e832babd4c86b0c2f7ad96c6a1d1": {
      "model_module": "@jupyter-widgets/base",
      "model_module_version": "1.1.0",
      "model_name": "LayoutModel",
      "state": {}
     },
     "317931ec7fca445f9359e3762c0a94bc": {
      "model_module": "@jupyter-widgets/base",
      "model_module_version": "1.1.0",
      "model_name": "LayoutModel",
      "state": {}
     },
     "35e34243d1854b6c87f6f45caff0b2a6": {
      "model_module": "@jupyter-widgets/output",
      "model_module_version": "1.0.0",
      "model_name": "OutputModel",
      "state": {
       "layout": "IPY_MODEL_b4f09a17f9684328bb6f9328b63e90b0",
       "outputs": [
        {
         "data": {
          "image/png": "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\n",
          "text/plain": "<Figure size 432x288 with 1 Axes>"
         },
         "metadata": {
          "needs_background": "light"
         },
         "output_type": "display_data"
        }
       ]
      }
     },
     "36ac94d6a2754aaa8cf44b4aa7400e44": {
      "model_module": "@jupyter-widgets/controls",
      "model_module_version": "1.4.0",
      "model_name": "SelectModel",
      "state": {
       "_options_labels": [
        "ReLU",
        "sigmoid"
       ],
       "description": "Activation Function",
       "index": 1,
       "layout": "IPY_MODEL_a020623bbb3b457b8e90487c35e8d637",
       "style": "IPY_MODEL_fb092a4694e3422887f9e17d627fa779"
      }
     },
     "379fe4e52cd24a4fa82e5e4e6d6b03cc": {
      "model_module": "@jupyter-widgets/controls",
      "model_module_version": "1.4.0",
      "model_name": "DescriptionStyleModel",
      "state": {
       "description_width": ""
      }
     },
     "388082532989435b8cbdc5833e8cd1f2": {
      "model_module": "@jupyter-widgets/controls",
      "model_module_version": "1.4.0",
      "model_name": "VBoxModel",
      "state": {
       "_dom_classes": [
        "widget-interact"
       ],
       "children": [
        "IPY_MODEL_aaa0cf1b1c2b45e5944b02ded076818f",
        "IPY_MODEL_9f533460b1264a6f846336e4c821320c",
        "IPY_MODEL_d13695e6c3564a5fa5e103b0051f92b7"
       ],
       "layout": "IPY_MODEL_7e773fb1c50f408b9e086c9d56f2e6bd"
      }
     },
     "3b39555862a043ce9022652abf0d6703": {
      "model_module": "@jupyter-widgets/base",
      "model_module_version": "1.1.0",
      "model_name": "LayoutModel",
      "state": {}
     },
     "3c1df5d1db1b47048b7faecdb74f88c1": {
      "model_module": "@jupyter-widgets/base",
      "model_module_version": "1.1.0",
      "model_name": "LayoutModel",
      "state": {}
     },
     "3d0524edb88b40978d65a4bc9e381101": {
      "model_module": "@jupyter-widgets/base",
      "model_module_version": "1.1.0",
      "model_name": "LayoutModel",
      "state": {}
     },
     "3d72f10d06c444208d6b412ec787ddb4": {
      "model_module": "@jupyter-widgets/controls",
      "model_module_version": "1.4.0",
      "model_name": "VBoxModel",
      "state": {
       "_dom_classes": [
        "widget-interact"
       ],
       "layout": "IPY_MODEL_ad6a8d9fd0974aa8879a8f93f16b4bd4"
      }
     },
     "3e5ec62d37e44370b4326174060aef03": {
      "model_module": "@jupyter-widgets/controls",
      "model_module_version": "1.4.0",
      "model_name": "IntSliderModel",
      "state": {
       "layout": "IPY_MODEL_b10c131a093f49f3bb98455a130e8295",
       "max": 10,
       "step": 0,
       "style": "IPY_MODEL_12c325966fb74259a547f11cab39d831"
      }
     },
     "3ed18d71c1dd48c991a916e6815470d4": {
      "model_module": "@jupyter-widgets/controls",
      "model_module_version": "1.4.0",
      "model_name": "ButtonModel",
      "state": {
       "description": "Run Interact",
       "layout": "IPY_MODEL_85afe582f7a84ff6b7b6fd38fc06cbc4",
       "style": "IPY_MODEL_5e4cc32e29f44ba39a5cb61433e7cc09"
      }
     },
     "3ee4b719836d4345bbb8001aefff6f96": {
      "model_module": "@jupyter-widgets/controls",
      "model_module_version": "1.4.0",
      "model_name": "VBoxModel",
      "state": {
       "_dom_classes": [
        "widget-interact"
       ],
       "children": [
        "IPY_MODEL_6313949bf4fe464da82f11c694b07eff",
        "IPY_MODEL_071a06a62d7442a18706ed1ae6ec0830"
       ],
       "layout": "IPY_MODEL_273e201dc51b4e66b13d2ae2dfb85e4d"
      }
     },
     "3ee6f1ba5f514122b4f31fe5618657fa": {
      "model_module": "@jupyter-widgets/controls",
      "model_module_version": "1.4.0",
      "model_name": "DescriptionStyleModel",
      "state": {
       "description_width": ""
      }
     },
     "40a29a33dd164ff4bd3bf897b87e0272": {
      "model_module": "@jupyter-widgets/base",
      "model_module_version": "1.1.0",
      "model_name": "LayoutModel",
      "state": {}
     },
     "4510ba20db454364b283d671c3df56c3": {
      "model_module": "@jupyter-widgets/controls",
      "model_module_version": "1.4.0",
      "model_name": "DescriptionStyleModel",
      "state": {
       "description_width": ""
      }
     },
     "4573fae2a508464fbc8bf3261ad2528d": {
      "model_module": "@jupyter-widgets/base",
      "model_module_version": "1.1.0",
      "model_name": "LayoutModel",
      "state": {}
     },
     "464aad62ca5f474287104d56102e174d": {
      "model_module": "@jupyter-widgets/base",
      "model_module_version": "1.1.0",
      "model_name": "LayoutModel",
      "state": {}
     },
     "46aff21af56943c5964855e612a7b566": {
      "model_module": "@jupyter-widgets/base",
      "model_module_version": "1.1.0",
      "model_name": "LayoutModel",
      "state": {}
     },
     "486112a57a8049c1a23141d92f508c7e": {
      "model_module": "@jupyter-widgets/controls",
      "model_module_version": "1.4.0",
      "model_name": "DescriptionStyleModel",
      "state": {
       "description_width": ""
      }
     },
     "49f58c933c10404c82c94a49f1c19a45": {
      "model_module": "@jupyter-widgets/base",
      "model_module_version": "1.1.0",
      "model_name": "LayoutModel",
      "state": {}
     },
     "4a470eff1db74bf193cbbdf0cdb51f39": {
      "model_module": "@jupyter-widgets/controls",
      "model_module_version": "1.4.0",
      "model_name": "ButtonModel",
      "state": {
       "description": "Run Interact",
       "layout": "IPY_MODEL_8d34e07c88654fd2b00d97ff8c967114",
       "style": "IPY_MODEL_814fb1efa44340f28dcc7b6f1141328d"
      }
     },
     "4b5f89d3d0f6425193f7de0793282566": {
      "model_module": "@jupyter-widgets/controls",
      "model_module_version": "1.4.0",
      "model_name": "SelectModel",
      "state": {
       "_options_labels": [
        "ReLU",
        "sigmoid"
       ],
       "description": "Activation Function",
       "index": 0,
       "layout": "IPY_MODEL_c6dc991eb5774f8f93f05984776d2c91",
       "style": "IPY_MODEL_c8b2526e536f44e49217083ebafdc54e"
      }
     },
     "4fc1650e96cd473688312ab15c974c2e": {
      "model_module": "@jupyter-widgets/base",
      "model_module_version": "1.1.0",
      "model_name": "LayoutModel",
      "state": {}
     },
     "524417ed98794225b20154b526a7ccca": {
      "model_module": "@jupyter-widgets/controls",
      "model_module_version": "1.4.0",
      "model_name": "VBoxModel",
      "state": {
       "_dom_classes": [
        "widget-interact"
       ],
       "children": [
        "IPY_MODEL_a4d096c0f2f94178afadb8c4228e7a33",
        "IPY_MODEL_2b3f8bd6ab1b4395affa117fa1dea0e3",
        "IPY_MODEL_977a991eab1547e1982f88f2a413e9b5"
       ],
       "layout": "IPY_MODEL_a97d23566a384474996f1bb49f8d2573"
      }
     },
     "52a207a648214165911410d353db8cea": {
      "model_module": "@jupyter-widgets/controls",
      "model_module_version": "1.4.0",
      "model_name": "ButtonModel",
      "state": {
       "description": "Run Interact",
       "layout": "IPY_MODEL_c63458700c414728b868f0c79968a3dc",
       "style": "IPY_MODEL_57e2b68ff8f64d668fbeccf413f9cff0"
      }
     },
     "543a1a37aadc4d43a7bbd37912d9a940": {
      "model_module": "@jupyter-widgets/output",
      "model_module_version": "1.0.0",
      "model_name": "OutputModel",
      "state": {
       "layout": "IPY_MODEL_877ad9fc8ff44b4b9bb965e3b26b0543",
       "outputs": [
        {
         "data": {
          "image/png": "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\n",
          "text/plain": "<Figure size 720x432 with 1 Axes>"
         },
         "metadata": {
          "needs_background": "light"
         },
         "output_type": "display_data"
        }
       ]
      }
     },
     "54af6ad8b63d4f01b00c789311b07cb8": {
      "model_module": "@jupyter-widgets/base",
      "model_module_version": "1.1.0",
      "model_name": "LayoutModel",
      "state": {}
     },
     "567fdd9600554ff393269a9e8ed7f5e5": {
      "model_module": "@jupyter-widgets/output",
      "model_module_version": "1.0.0",
      "model_name": "OutputModel",
      "state": {
       "layout": "IPY_MODEL_64c65e3a5afb41628d293d36b3b089a6",
       "outputs": [
        {
         "data": {
          "image/png": "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\n",
          "text/plain": "<Figure size 432x288 with 1 Axes>"
         },
         "metadata": {
          "needs_background": "light"
         },
         "output_type": "display_data"
        }
       ]
      }
     },
     "57e2b68ff8f64d668fbeccf413f9cff0": {
      "model_module": "@jupyter-widgets/controls",
      "model_module_version": "1.4.0",
      "model_name": "ButtonStyleModel",
      "state": {}
     },
     "58cf3b7644844a08828216dcd9e88558": {
      "model_module": "@jupyter-widgets/base",
      "model_module_version": "1.1.0",
      "model_name": "LayoutModel",
      "state": {}
     },
     "58d22d8287034c13ad3828c70eb86c37": {
      "model_module": "@jupyter-widgets/controls",
      "model_module_version": "1.4.0",
      "model_name": "ButtonStyleModel",
      "state": {}
     },
     "58d7933289a745ceae9800c8fed1e63d": {
      "model_module": "@jupyter-widgets/output",
      "model_module_version": "1.0.0",
      "model_name": "OutputModel",
      "state": {
       "layout": "IPY_MODEL_fc38ecce95e145f78ee9c62287c60828",
       "outputs": [
        {
         "data": {
          "image/png": "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\n",
          "text/plain": "<Figure size 864x864 with 1 Axes>"
         },
         "metadata": {
          "needs_background": "light"
         },
         "output_type": "display_data"
        }
       ]
      }
     },
     "5b1b52ffea6e4539b61c20e4e4e80fc7": {
      "model_module": "@jupyter-widgets/base",
      "model_module_version": "1.1.0",
      "model_name": "LayoutModel",
      "state": {}
     },
     "5b2404211dcd428d940ce8e6dc6cba52": {
      "model_module": "@jupyter-widgets/controls",
      "model_module_version": "1.4.0",
      "model_name": "SelectModel",
      "state": {
       "_options_labels": [
        "ReLU",
        "sigmoid"
       ],
       "description": "Activation Function",
       "index": 1,
       "layout": "IPY_MODEL_5b1b52ffea6e4539b61c20e4e4e80fc7",
       "style": "IPY_MODEL_3ee6f1ba5f514122b4f31fe5618657fa"
      }
     },
     "5c9a3d2f26344260a39b44249ebf0bb4": {
      "model_module": "@jupyter-widgets/controls",
      "model_module_version": "1.4.0",
      "model_name": "ButtonModel",
      "state": {
       "description": "Run Interact",
       "layout": "IPY_MODEL_f5db0c8ae50b4fb2a9bab263bc491549",
       "style": "IPY_MODEL_58d22d8287034c13ad3828c70eb86c37"
      }
     },
     "5e4cc32e29f44ba39a5cb61433e7cc09": {
      "model_module": "@jupyter-widgets/controls",
      "model_module_version": "1.4.0",
      "model_name": "ButtonStyleModel",
      "state": {}
     },
     "5f5023fd3b894e0ea0525d66f158530c": {
      "model_module": "@jupyter-widgets/controls",
      "model_module_version": "1.4.0",
      "model_name": "SelectModel",
      "state": {
       "_options_labels": [
        "ReLU",
        "sigmoid"
       ],
       "description": "Activation Function",
       "index": 0,
       "layout": "IPY_MODEL_acf71e72127948dfa90672b789b76c53",
       "style": "IPY_MODEL_8873288a1d4643139e3bd4d0753c4be9"
      }
     },
     "6292b000f98a4fd8951dd5bdb1914452": {
      "model_module": "@jupyter-widgets/base",
      "model_module_version": "1.1.0",
      "model_name": "LayoutModel",
      "state": {}
     },
     "62de22bf300a4d569c842752819072af": {
      "model_module": "@jupyter-widgets/controls",
      "model_module_version": "1.4.0",
      "model_name": "SelectModel",
      "state": {
       "_options_labels": [
        "ReLU",
        "sigmoid"
       ],
       "description": "Activation Function",
       "index": 0,
       "layout": "IPY_MODEL_2eca03a9f61b4bbbbe3f2f626b52a57e",
       "style": "IPY_MODEL_89a42ff4a0ac416cb066fd84eb926b64"
      }
     },
     "6313949bf4fe464da82f11c694b07eff": {
      "model_module": "@jupyter-widgets/controls",
      "model_module_version": "1.4.0",
      "model_name": "ButtonModel",
      "state": {
       "description": "Run Interact",
       "layout": "IPY_MODEL_d10fbb4e553d473093e4b04f7f6c0187",
       "style": "IPY_MODEL_e91ddd19cb264bc898a8db3bb9c54a67"
      }
     },
     "64c65e3a5afb41628d293d36b3b089a6": {
      "model_module": "@jupyter-widgets/base",
      "model_module_version": "1.1.0",
      "model_name": "LayoutModel",
      "state": {}
     },
     "65cc7e7918954a21b42ee4b854ab7a40": {
      "model_module": "@jupyter-widgets/output",
      "model_module_version": "1.0.0",
      "model_name": "OutputModel",
      "state": {
       "layout": "IPY_MODEL_1e7c7702780343309212db900ac2b1e3",
       "outputs": [
        {
         "data": {
          "image/png": "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\n",
          "text/plain": "<Figure size 432x288 with 1 Axes>"
         },
         "metadata": {
          "needs_background": "light"
         },
         "output_type": "display_data"
        }
       ]
      }
     },
     "67a4ac35ec9f426a8457573fce1e3d89": {
      "model_module": "@jupyter-widgets/controls",
      "model_module_version": "1.4.0",
      "model_name": "DescriptionStyleModel",
      "state": {
       "description_width": ""
      }
     },
     "67bb2e85340e4222a53d69ebf3f17804": {
      "model_module": "@jupyter-widgets/base",
      "model_module_version": "1.1.0",
      "model_name": "LayoutModel",
      "state": {}
     },
     "689df64ffc024ba0a2d2cf90b45fc1f7": {
      "model_module": "@jupyter-widgets/base",
      "model_module_version": "1.1.0",
      "model_name": "LayoutModel",
      "state": {}
     },
     "68f8ed0714a44985914e86fbf1927f98": {
      "model_module": "@jupyter-widgets/controls",
      "model_module_version": "1.4.0",
      "model_name": "VBoxModel",
      "state": {
       "_dom_classes": [
        "widget-interact"
       ],
       "children": [
        "IPY_MODEL_5c9a3d2f26344260a39b44249ebf0bb4",
        "IPY_MODEL_bfd0d0c11dc14baa9f6c3aa51a47aa4d"
       ],
       "layout": "IPY_MODEL_689df64ffc024ba0a2d2cf90b45fc1f7"
      }
     },
     "6a0e275ca8244126b8c2ffecd3c0908d": {
      "model_module": "@jupyter-widgets/base",
      "model_module_version": "1.1.0",
      "model_name": "LayoutModel",
      "state": {}
     },
     "6a89883125fb42c9a756a9f171b3065f": {
      "model_module": "@jupyter-widgets/base",
      "model_module_version": "1.1.0",
      "model_name": "LayoutModel",
      "state": {}
     },
     "6c7a6dcbb84e4a819e130be82250f475": {
      "model_module": "@jupyter-widgets/controls",
      "model_module_version": "1.4.0",
      "model_name": "VBoxModel",
      "state": {
       "_dom_classes": [
        "widget-interact"
       ],
       "children": [
        "IPY_MODEL_4b5f89d3d0f6425193f7de0793282566",
        "IPY_MODEL_00dff9b288ab482dbc5f366915219e79",
        "IPY_MODEL_c5a3fb0b16084f36931dbafeda7d2780",
        "IPY_MODEL_e7bec52cdd5e4f809b5bcf749af0a6a6",
        "IPY_MODEL_8427e08f459341338e0a13c330cc9121"
       ],
       "layout": "IPY_MODEL_f173e63ecfdc469e906119dfc239e3be"
      }
     },
     "6f86fef2dbcc46609a44aa7e6cad3776": {
      "model_module": "@jupyter-widgets/base",
      "model_module_version": "1.1.0",
      "model_name": "LayoutModel",
      "state": {}
     },
     "704d019092a24b618df0cec69b4afa89": {
      "model_module": "@jupyter-widgets/controls",
      "model_module_version": "1.4.0",
      "model_name": "ButtonStyleModel",
      "state": {}
     },
     "70c2b2647df24e9ba36de91653665cf0": {
      "model_module": "@jupyter-widgets/base",
      "model_module_version": "1.1.0",
      "model_name": "LayoutModel",
      "state": {}
     },
     "70f61fb2d1f04d88a1d91e309190da87": {
      "model_module": "@jupyter-widgets/base",
      "model_module_version": "1.1.0",
      "model_name": "LayoutModel",
      "state": {}
     },
     "729809276aec4ce38ec14a3b3a88287b": {
      "model_module": "@jupyter-widgets/controls",
      "model_module_version": "1.4.0",
      "model_name": "VBoxModel",
      "state": {
       "_dom_classes": [
        "widget-interact"
       ],
       "children": [
        "IPY_MODEL_1a846e98326f497da0e623b5dbf00062",
        "IPY_MODEL_9427cd153f3c4619b069b89ee7391a29",
        "IPY_MODEL_fcf1a635dca04cfbb7b51720c9d75ea1"
       ],
       "layout": "IPY_MODEL_6a0e275ca8244126b8c2ffecd3c0908d"
      }
     },
     "7574f9305eb04ba2a4f85748a2670138": {
      "model_module": "@jupyter-widgets/controls",
      "model_module_version": "1.4.0",
      "model_name": "VBoxModel",
      "state": {
       "_dom_classes": [
        "widget-interact"
       ],
       "children": [
        "IPY_MODEL_b9e56b975e0c49a6b609dbd130c21341",
        "IPY_MODEL_58d7933289a745ceae9800c8fed1e63d"
       ],
       "layout": "IPY_MODEL_d80ad28a08964561b2fe6f50f28f0208"
      }
     },
     "75d22c94440c4fa2a067026908139217": {
      "model_module": "@jupyter-widgets/controls",
      "model_module_version": "1.4.0",
      "model_name": "ButtonModel",
      "state": {
       "description": "Run Interact",
       "layout": "IPY_MODEL_3145e832babd4c86b0c2f7ad96c6a1d1",
       "style": "IPY_MODEL_d67360321f5b4129baa496dddb98fbb7"
      }
     },
     "7636bdd918fd478d90fb5aa00ebf455c": {
      "model_module": "@jupyter-widgets/controls",
      "model_module_version": "1.4.0",
      "model_name": "ButtonStyleModel",
      "state": {}
     },
     "768da55d9e454c64af0f8f8bc6db2f2c": {
      "model_module": "@jupyter-widgets/controls",
      "model_module_version": "1.4.0",
      "model_name": "ButtonStyleModel",
      "state": {}
     },
     "7971f733cf9146b38ec617f8ccee240d": {
      "model_module": "@jupyter-widgets/controls",
      "model_module_version": "1.4.0",
      "model_name": "SelectModel",
      "state": {
       "description": "af",
       "index": null,
       "layout": "IPY_MODEL_a62b23fc1052470296869a4bb36e104a",
       "style": "IPY_MODEL_280b5ca96d964d578bd74145d979499c"
      }
     },
     "7b0b3a3b7fa6429d951c482f9603cb66": {
      "model_module": "@jupyter-widgets/base",
      "model_module_version": "1.1.0",
      "model_name": "LayoutModel",
      "state": {}
     },
     "7d44d2a8a0924d4887c11e032e33326f": {
      "model_module": "@jupyter-widgets/base",
      "model_module_version": "1.1.0",
      "model_name": "LayoutModel",
      "state": {}
     },
     "7e773fb1c50f408b9e086c9d56f2e6bd": {
      "model_module": "@jupyter-widgets/base",
      "model_module_version": "1.1.0",
      "model_name": "LayoutModel",
      "state": {}
     },
     "7e82064990724db2a29c70fec7aa14f3": {
      "model_module": "@jupyter-widgets/base",
      "model_module_version": "1.1.0",
      "model_name": "LayoutModel",
      "state": {}
     },
     "7fe0eb63a58047b2a15b40d951372cf3": {
      "model_module": "@jupyter-widgets/output",
      "model_module_version": "1.0.0",
      "model_name": "OutputModel",
      "state": {
       "layout": "IPY_MODEL_464aad62ca5f474287104d56102e174d",
       "outputs": [
        {
         "data": {
          "image/png": "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\n",
          "text/plain": "<Figure size 432x288 with 1 Axes>"
         },
         "metadata": {
          "needs_background": "light"
         },
         "output_type": "display_data"
        }
       ]
      }
     },
     "8075dc112e9c43a7a4aa72a955041899": {
      "model_module": "@jupyter-widgets/controls",
      "model_module_version": "1.4.0",
      "model_name": "ButtonStyleModel",
      "state": {}
     },
     "814fb1efa44340f28dcc7b6f1141328d": {
      "model_module": "@jupyter-widgets/controls",
      "model_module_version": "1.4.0",
      "model_name": "ButtonStyleModel",
      "state": {}
     },
     "81b7e2bcac424cfdb29e6d9ae915ad52": {
      "model_module": "@jupyter-widgets/base",
      "model_module_version": "1.1.0",
      "model_name": "LayoutModel",
      "state": {}
     },
     "8270af36b78a46cd9242ad56c30e1ac2": {
      "model_module": "@jupyter-widgets/base",
      "model_module_version": "1.1.0",
      "model_name": "LayoutModel",
      "state": {}
     },
     "82d45ec6616047a4b693838e7d636c1b": {
      "model_module": "@jupyter-widgets/controls",
      "model_module_version": "1.4.0",
      "model_name": "VBoxModel",
      "state": {
       "_dom_classes": [
        "widget-interact"
       ],
       "children": [
        "IPY_MODEL_52a207a648214165911410d353db8cea",
        "IPY_MODEL_65cc7e7918954a21b42ee4b854ab7a40"
       ],
       "layout": "IPY_MODEL_1c37d3fe32c941cb8f9b73e11bacfe4e"
      }
     },
     "8427e08f459341338e0a13c330cc9121": {
      "model_module": "@jupyter-widgets/output",
      "model_module_version": "1.0.0",
      "model_name": "OutputModel",
      "state": {
       "layout": "IPY_MODEL_1512bf4e8f6448f09d838df85f9b4d8e",
       "outputs": [
        {
         "ename": "ValueError",
         "evalue": "shapes (40000,2) and (1,100) not aligned: 2 (dim 1) != 1 (dim 0)",
         "output_type": "error",
         "traceback": [
          "\u001b[0;31m---------------------------------------------------------------------------\u001b[0m",
          "\u001b[0;31mValueError\u001b[0m                                Traceback (most recent call last)",
          "\u001b[0;32m~/anaconda3/envs/mlpr/lib/python3.6/site-packages/ipywidgets/widgets/interaction.py\u001b[0m in \u001b[0;36mupdate\u001b[0;34m(self, *args)\u001b[0m\n\u001b[1;32m    249\u001b[0m                     \u001b[0mvalue\u001b[0m \u001b[0;34m=\u001b[0m \u001b[0mwidget\u001b[0m\u001b[0;34m.\u001b[0m\u001b[0mget_interact_value\u001b[0m\u001b[0;34m(\u001b[0m\u001b[0;34m)\u001b[0m\u001b[0;34m\u001b[0m\u001b[0m\n\u001b[1;32m    250\u001b[0m                     \u001b[0mself\u001b[0m\u001b[0;34m.\u001b[0m\u001b[0mkwargs\u001b[0m\u001b[0;34m[\u001b[0m\u001b[0mwidget\u001b[0m\u001b[0;34m.\u001b[0m\u001b[0m_kwarg\u001b[0m\u001b[0;34m]\u001b[0m \u001b[0;34m=\u001b[0m \u001b[0mvalue\u001b[0m\u001b[0;34m\u001b[0m\u001b[0m\n\u001b[0;32m--> 251\u001b[0;31m                 \u001b[0mself\u001b[0m\u001b[0;34m.\u001b[0m\u001b[0mresult\u001b[0m \u001b[0;34m=\u001b[0m \u001b[0mself\u001b[0m\u001b[0;34m.\u001b[0m\u001b[0mf\u001b[0m\u001b[0;34m(\u001b[0m\u001b[0;34m**\u001b[0m\u001b[0mself\u001b[0m\u001b[0;34m.\u001b[0m\u001b[0mkwargs\u001b[0m\u001b[0;34m)\u001b[0m\u001b[0;34m\u001b[0m\u001b[0m\n\u001b[0m\u001b[1;32m    252\u001b[0m                 \u001b[0mshow_inline_matplotlib_plots\u001b[0m\u001b[0;34m(\u001b[0m\u001b[0;34m)\u001b[0m\u001b[0;34m\u001b[0m\u001b[0m\n\u001b[1;32m    253\u001b[0m                 \u001b[0;32mif\u001b[0m \u001b[0mself\u001b[0m\u001b[0;34m.\u001b[0m\u001b[0mauto_display\u001b[0m \u001b[0;32mand\u001b[0m \u001b[0mself\u001b[0m\u001b[0;34m.\u001b[0m\u001b[0mresult\u001b[0m \u001b[0;32mis\u001b[0m \u001b[0;32mnot\u001b[0m \u001b[0;32mNone\u001b[0m\u001b[0;34m:\u001b[0m\u001b[0;34m\u001b[0m\u001b[0m\n",
          "\u001b[0;32m<ipython-input-226-55a075bd86e6>\u001b[0m in \u001b[0;36mplot_nn_contour\u001b[0;34m(af, b, w)\u001b[0m\n\u001b[1;32m     12\u001b[0m     \u001b[0mnn_weights2\u001b[0m \u001b[0;34m=\u001b[0m \u001b[0mnp\u001b[0m\u001b[0;34m.\u001b[0m\u001b[0mrandom\u001b[0m\u001b[0;34m.\u001b[0m\u001b[0mrandn\u001b[0m\u001b[0;34m(\u001b[0m\u001b[0mh1s\u001b[0m\u001b[0;34m,\u001b[0m\u001b[0mh2s\u001b[0m\u001b[0;34m)\u001b[0m \u001b[0;34m*\u001b[0m \u001b[0mw\u001b[0m\u001b[0;34m\u001b[0m\u001b[0m\n\u001b[1;32m     13\u001b[0m     \u001b[0mnn_weights3\u001b[0m \u001b[0;34m=\u001b[0m \u001b[0mnp\u001b[0m\u001b[0;34m.\u001b[0m\u001b[0mrandom\u001b[0m\u001b[0;34m.\u001b[0m\u001b[0mrandn\u001b[0m\u001b[0;34m(\u001b[0m\u001b[0mh2s\u001b[0m\u001b[0;34m,\u001b[0m\u001b[0;36m1\u001b[0m\u001b[0;34m)\u001b[0m \u001b[0;34m*\u001b[0m \u001b[0mw\u001b[0m\u001b[0;34m\u001b[0m\u001b[0m\n\u001b[0;32m---> 14\u001b[0;31m     \u001b[0mh1\u001b[0m \u001b[0;34m=\u001b[0m \u001b[0mactivation_func\u001b[0m\u001b[0;34m(\u001b[0m\u001b[0mnp\u001b[0m\u001b[0;34m.\u001b[0m\u001b[0mdot\u001b[0m\u001b[0;34m(\u001b[0m\u001b[0mnn_inputs\u001b[0m\u001b[0;34m,\u001b[0m\u001b[0mnn_weights1\u001b[0m\u001b[0;34m)\u001b[0m \u001b[0;34m+\u001b[0m \u001b[0mnn_bias1\u001b[0m\u001b[0;34m)\u001b[0m\u001b[0;34m\u001b[0m\u001b[0m\n\u001b[0m\u001b[1;32m     15\u001b[0m     \u001b[0mh2\u001b[0m \u001b[0;34m=\u001b[0m \u001b[0mactivation_func\u001b[0m\u001b[0;34m(\u001b[0m\u001b[0mnp\u001b[0m\u001b[0;34m.\u001b[0m\u001b[0mdot\u001b[0m\u001b[0;34m(\u001b[0m\u001b[0mh1\u001b[0m\u001b[0;34m,\u001b[0m\u001b[0mnn_weights2\u001b[0m\u001b[0;34m)\u001b[0m \u001b[0;34m+\u001b[0m \u001b[0mnn_bias2\u001b[0m\u001b[0;34m)\u001b[0m\u001b[0;34m\u001b[0m\u001b[0m\n\u001b[1;32m     16\u001b[0m     \u001b[0mf\u001b[0m \u001b[0;34m=\u001b[0m \u001b[0mactivation_func\u001b[0m\u001b[0;34m(\u001b[0m\u001b[0mnp\u001b[0m\u001b[0;34m.\u001b[0m\u001b[0mdot\u001b[0m\u001b[0;34m(\u001b[0m\u001b[0mh2\u001b[0m\u001b[0;34m,\u001b[0m\u001b[0mnn_weights3\u001b[0m\u001b[0;34m)\u001b[0m \u001b[0;34m+\u001b[0m \u001b[0mnn_bias3\u001b[0m\u001b[0;34m)\u001b[0m\u001b[0;34m\u001b[0m\u001b[0m\n",
          "\u001b[0;31mValueError\u001b[0m: shapes (40000,2) and (1,100) not aligned: 2 (dim 1) != 1 (dim 0)"
         ]
        }
       ]
      }
     },
     "85a79f41f8b64ec58d69509664a31370": {
      "model_module": "@jupyter-widgets/controls",
      "model_module_version": "1.4.0",
      "model_name": "VBoxModel",
      "state": {
       "_dom_classes": [
        "widget-interact"
       ],
       "children": [
        "IPY_MODEL_4b5f89d3d0f6425193f7de0793282566",
        "IPY_MODEL_00dff9b288ab482dbc5f366915219e79",
        "IPY_MODEL_c5a3fb0b16084f36931dbafeda7d2780",
        "IPY_MODEL_268c25747b8041499b6c7a9dd8eda0ca",
        "IPY_MODEL_d15f03cb702f4d888a3c8f2024763ad7"
       ],
       "layout": "IPY_MODEL_eeb74fbd76044bfc864a66e840e20474"
      }
     },
     "85afe582f7a84ff6b7b6fd38fc06cbc4": {
      "model_module": "@jupyter-widgets/base",
      "model_module_version": "1.1.0",
      "model_name": "LayoutModel",
      "state": {}
     },
     "865204473b7644bd810a8fdd1b8859e2": {
      "model_module": "@jupyter-widgets/controls",
      "model_module_version": "1.4.0",
      "model_name": "DescriptionStyleModel",
      "state": {
       "description_width": ""
      }
     },
     "8666e29930be46d289b5d6ab2a26e6fe": {
      "model_module": "@jupyter-widgets/controls",
      "model_module_version": "1.4.0",
      "model_name": "SliderStyleModel",
      "state": {
       "description_width": ""
      }
     },
     "877ad9fc8ff44b4b9bb965e3b26b0543": {
      "model_module": "@jupyter-widgets/base",
      "model_module_version": "1.1.0",
      "model_name": "LayoutModel",
      "state": {}
     },
     "884597ae979d4e118a39d436cf5c5047": {
      "model_module": "@jupyter-widgets/base",
      "model_module_version": "1.1.0",
      "model_name": "LayoutModel",
      "state": {}
     },
     "8873288a1d4643139e3bd4d0753c4be9": {
      "model_module": "@jupyter-widgets/controls",
      "model_module_version": "1.4.0",
      "model_name": "DescriptionStyleModel",
      "state": {
       "description_width": ""
      }
     },
     "89a42ff4a0ac416cb066fd84eb926b64": {
      "model_module": "@jupyter-widgets/controls",
      "model_module_version": "1.4.0",
      "model_name": "DescriptionStyleModel",
      "state": {
       "description_width": ""
      }
     },
     "8d34e07c88654fd2b00d97ff8c967114": {
      "model_module": "@jupyter-widgets/base",
      "model_module_version": "1.1.0",
      "model_name": "LayoutModel",
      "state": {}
     },
     "8d63b32c1276419496405b5f592706e3": {
      "model_module": "@jupyter-widgets/controls",
      "model_module_version": "1.4.0",
      "model_name": "FloatSliderModel",
      "state": {
       "description": "b",
       "layout": "IPY_MODEL_c65f11fa5f404a31b957bb49510f180c",
       "max": 10,
       "step": 0.2,
       "style": "IPY_MODEL_8fd515affd134925bcd7a8f298e18464"
      }
     },
     "8de4a63c0d514799bbd8aead8be04072": {
      "model_module": "@jupyter-widgets/base",
      "model_module_version": "1.1.0",
      "model_name": "LayoutModel",
      "state": {}
     },
     "8df1fb6d4df74eccafc01f6b1e028111": {
      "model_module": "@jupyter-widgets/controls",
      "model_module_version": "1.4.0",
      "model_name": "VBoxModel",
      "state": {
       "_dom_classes": [
        "widget-interact"
       ],
       "children": [
        "IPY_MODEL_9b8f3c81b4ed4f45a2726dc18aef059b",
        "IPY_MODEL_0b51be354a034677a49824bf9079558d"
       ],
       "layout": "IPY_MODEL_40a29a33dd164ff4bd3bf897b87e0272"
      }
     },
     "8eb420f1914044baa9008b6f85686a10": {
      "model_module": "@jupyter-widgets/base",
      "model_module_version": "1.1.0",
      "model_name": "LayoutModel",
      "state": {}
     },
     "8ed21a4b7e724178af610294982f5fab": {
      "model_module": "@jupyter-widgets/output",
      "model_module_version": "1.0.0",
      "model_name": "OutputModel",
      "state": {
       "layout": "IPY_MODEL_ab6b53565a0c4df08321ff0885c4eba9",
       "outputs": [
        {
         "data": {
          "image/png": "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\n",
          "text/plain": "<Figure size 864x864 with 1 Axes>"
         },
         "metadata": {
          "needs_background": "light"
         },
         "output_type": "display_data"
        }
       ]
      }
     },
     "8f320e87977a46cd9da05abcddf44121": {
      "model_module": "@jupyter-widgets/controls",
      "model_module_version": "1.4.0",
      "model_name": "ButtonStyleModel",
      "state": {}
     },
     "8fd515affd134925bcd7a8f298e18464": {
      "model_module": "@jupyter-widgets/controls",
      "model_module_version": "1.4.0",
      "model_name": "SliderStyleModel",
      "state": {
       "description_width": ""
      }
     },
     "903c258284bc48b19c477a9b9c7c4a98": {
      "model_module": "@jupyter-widgets/controls",
      "model_module_version": "1.4.0",
      "model_name": "VBoxModel",
      "state": {
       "_dom_classes": [
        "widget-interact"
       ],
       "children": [
        "IPY_MODEL_d2c212df41144e298f400f23fae875cc",
        "IPY_MODEL_9d601fd55433493f8a755c170b0f6e40"
       ],
       "layout": "IPY_MODEL_0f6ecaf7d9eb4160b503b1b0d04d9020"
      }
     },
     "91f2988a7e8e4cf88ccfcb1c3834e6c0": {
      "model_module": "@jupyter-widgets/controls",
      "model_module_version": "1.4.0",
      "model_name": "ButtonStyleModel",
      "state": {}
     },
     "933d5b9868c249d790e3ef1b5badd9ac": {
      "model_module": "@jupyter-widgets/base",
      "model_module_version": "1.1.0",
      "model_name": "LayoutModel",
      "state": {}
     },
     "93c7c22e579d482f83e65367c659037f": {
      "model_module": "@jupyter-widgets/controls",
      "model_module_version": "1.4.0",
      "model_name": "ButtonStyleModel",
      "state": {}
     },
     "93ee8e5292b3439aa67cd0a540886664": {
      "model_module": "@jupyter-widgets/output",
      "model_module_version": "1.0.0",
      "model_name": "OutputModel",
      "state": {
       "layout": "IPY_MODEL_9f4db7bd32d2417cb305a0828d5f53bf",
       "outputs": [
        {
         "data": {
          "image/png": "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\n",
          "text/plain": "<Figure size 864x864 with 1 Axes>"
         },
         "metadata": {
          "needs_background": "light"
         },
         "output_type": "display_data"
        }
       ]
      }
     },
     "9427cd153f3c4619b069b89ee7391a29": {
      "model_module": "@jupyter-widgets/controls",
      "model_module_version": "1.4.0",
      "model_name": "FloatSliderModel",
      "state": {
       "description": "b",
       "layout": "IPY_MODEL_fc702b2875f441edbc65d3976f5dc79f",
       "max": 10,
       "step": 0.2,
       "style": "IPY_MODEL_8666e29930be46d289b5d6ab2a26e6fe",
       "value": 8.2
      }
     },
     "9473350f2cc94926a03555358c59d45a": {
      "model_module": "@jupyter-widgets/base",
      "model_module_version": "1.1.0",
      "model_name": "LayoutModel",
      "state": {}
     },
     "96180bf46e924db0907dea38f2464486": {
      "model_module": "@jupyter-widgets/controls",
      "model_module_version": "1.4.0",
      "model_name": "VBoxModel",
      "state": {
       "_dom_classes": [
        "widget-interact"
       ],
       "children": [
        "IPY_MODEL_4b5f89d3d0f6425193f7de0793282566",
        "IPY_MODEL_00dff9b288ab482dbc5f366915219e79",
        "IPY_MODEL_c5a3fb0b16084f36931dbafeda7d2780",
        "IPY_MODEL_f0824ba979164c94bb8387a3fcfe67d1",
        "IPY_MODEL_f3f31999744c467497b30529dd83624e"
       ],
       "layout": "IPY_MODEL_9d041635df784c409ae1509906f57adc"
      }
     },
     "977a991eab1547e1982f88f2a413e9b5": {
      "model_module": "@jupyter-widgets/output",
      "model_module_version": "1.0.0",
      "model_name": "OutputModel",
      "state": {
       "layout": "IPY_MODEL_3d0524edb88b40978d65a4bc9e381101"
      }
     },
     "98840ef8a6364af4b65294674bd64df8": {
      "model_module": "@jupyter-widgets/controls",
      "model_module_version": "1.4.0",
      "model_name": "ButtonStyleModel",
      "state": {}
     },
     "99bda13b4b8542df8cc1fbd4769b04b8": {
      "model_module": "@jupyter-widgets/output",
      "model_module_version": "1.0.0",
      "model_name": "OutputModel",
      "state": {
       "layout": "IPY_MODEL_8270af36b78a46cd9242ad56c30e1ac2",
       "outputs": [
        {
         "data": {
          "image/png": "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\n",
          "text/plain": "<Figure size 432x288 with 1 Axes>"
         },
         "metadata": {
          "needs_background": "light"
         },
         "output_type": "display_data"
        }
       ]
      }
     },
     "9a46743334394ff6bc337c9c61db1ff6": {
      "model_module": "@jupyter-widgets/output",
      "model_module_version": "1.0.0",
      "model_name": "OutputModel",
      "state": {
       "layout": "IPY_MODEL_49f58c933c10404c82c94a49f1c19a45",
       "outputs": [
        {
         "data": {
          "image/png": "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\n",
          "text/plain": "<Figure size 432x288 with 1 Axes>"
         },
         "metadata": {
          "needs_background": "light"
         },
         "output_type": "display_data"
        }
       ]
      }
     },
     "9b3217b020f44b53b8325b650827cc40": {
      "model_module": "@jupyter-widgets/output",
      "model_module_version": "1.0.0",
      "model_name": "OutputModel",
      "state": {
       "layout": "IPY_MODEL_e314ab87a403408c88cc4bab092369bd",
       "outputs": [
        {
         "data": {
          "image/png": "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\n",
          "text/plain": "<Figure size 432x432 with 1 Axes>"
         },
         "metadata": {
          "needs_background": "light"
         },
         "output_type": "display_data"
        }
       ]
      }
     },
     "9b8f3c81b4ed4f45a2726dc18aef059b": {
      "model_module": "@jupyter-widgets/controls",
      "model_module_version": "1.4.0",
      "model_name": "ButtonModel",
      "state": {
       "description": "Run Interact",
       "layout": "IPY_MODEL_3b39555862a043ce9022652abf0d6703",
       "style": "IPY_MODEL_8f320e87977a46cd9da05abcddf44121"
      }
     },
     "9d041635df784c409ae1509906f57adc": {
      "model_module": "@jupyter-widgets/base",
      "model_module_version": "1.1.0",
      "model_name": "LayoutModel",
      "state": {}
     },
     "9d1a59ef3315471c869cf7d595d909ca": {
      "model_module": "@jupyter-widgets/controls",
      "model_module_version": "1.4.0",
      "model_name": "ButtonModel",
      "state": {
       "description": "Run Interact",
       "layout": "IPY_MODEL_2d29cb02440b41cbab6b21b70574eb57",
       "style": "IPY_MODEL_b82f9e8ab4d44c20ae4f71ec23c1e73b"
      }
     },
     "9d601fd55433493f8a755c170b0f6e40": {
      "model_module": "@jupyter-widgets/output",
      "model_module_version": "1.0.0",
      "model_name": "OutputModel",
      "state": {
       "layout": "IPY_MODEL_b3b4af8a6e864a7e82718702cc76a902",
       "outputs": [
        {
         "data": {
          "image/png": "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\n",
          "text/plain": "<Figure size 864x864 with 1 Axes>"
         },
         "metadata": {
          "needs_background": "light"
         },
         "output_type": "display_data"
        }
       ]
      }
     },
     "9f4db7bd32d2417cb305a0828d5f53bf": {
      "model_module": "@jupyter-widgets/base",
      "model_module_version": "1.1.0",
      "model_name": "LayoutModel",
      "state": {}
     },
     "9f533460b1264a6f846336e4c821320c": {
      "model_module": "@jupyter-widgets/controls",
      "model_module_version": "1.4.0",
      "model_name": "ButtonModel",
      "state": {
       "description": "Run Interact",
       "layout": "IPY_MODEL_c7d64b60223e480f9985551109d489c9",
       "style": "IPY_MODEL_91f2988a7e8e4cf88ccfcb1c3834e6c0"
      }
     },
     "a020623bbb3b457b8e90487c35e8d637": {
      "model_module": "@jupyter-widgets/base",
      "model_module_version": "1.1.0",
      "model_name": "LayoutModel",
      "state": {}
     },
     "a0aef016fd20444d838676c82711f16f": {
      "model_module": "@jupyter-widgets/base",
      "model_module_version": "1.1.0",
      "model_name": "LayoutModel",
      "state": {}
     },
     "a25fc957a1d9458c8dedb400f61a3fe7": {
      "model_module": "@jupyter-widgets/base",
      "model_module_version": "1.1.0",
      "model_name": "LayoutModel",
      "state": {}
     },
     "a36e941d31c04a05930f4d6efffdb549": {
      "model_module": "@jupyter-widgets/controls",
      "model_module_version": "1.4.0",
      "model_name": "SliderStyleModel",
      "state": {
       "description_width": ""
      }
     },
     "a3d6036e2bed45209bc4de9157ea9b63": {
      "model_module": "@jupyter-widgets/controls",
      "model_module_version": "1.4.0",
      "model_name": "VBoxModel",
      "state": {
       "_dom_classes": [
        "widget-interact"
       ],
       "children": [
        "IPY_MODEL_df35e99bea4e421694466118c4919b4e",
        "IPY_MODEL_9a46743334394ff6bc337c9c61db1ff6"
       ],
       "layout": "IPY_MODEL_6f86fef2dbcc46609a44aa7e6cad3776"
      }
     },
     "a4b1048843d949d8be6d848ea6fe0a23": {
      "model_module": "@jupyter-widgets/controls",
      "model_module_version": "1.4.0",
      "model_name": "VBoxModel",
      "state": {
       "_dom_classes": [
        "widget-interact"
       ],
       "children": [
        "IPY_MODEL_0303f8bfb8ce464d9d06857d26665b3d",
        "IPY_MODEL_c28e3587a4c3488d8a5208281711ec72",
        "IPY_MODEL_567fdd9600554ff393269a9e8ed7f5e5"
       ],
       "layout": "IPY_MODEL_4fc1650e96cd473688312ab15c974c2e"
      }
     },
     "a4d096c0f2f94178afadb8c4228e7a33": {
      "model_module": "@jupyter-widgets/controls",
      "model_module_version": "1.4.0",
      "model_name": "SelectModel",
      "state": {
       "_options_labels": [
        "ReLU",
        "sigmoid"
       ],
       "description": "Activation Function",
       "index": 0,
       "layout": "IPY_MODEL_b04dbf4b557d49f9a02e64d93d1ccd1f",
       "style": "IPY_MODEL_379fe4e52cd24a4fa82e5e4e6d6b03cc"
      }
     },
     "a62b23fc1052470296869a4bb36e104a": {
      "model_module": "@jupyter-widgets/base",
      "model_module_version": "1.1.0",
      "model_name": "LayoutModel",
      "state": {}
     },
     "a7ec6a82cf14472791259c454f33c2cd": {
      "model_module": "@jupyter-widgets/base",
      "model_module_version": "1.1.0",
      "model_name": "LayoutModel",
      "state": {}
     },
     "a82941ffb73b46bc83d190dfbaf68e11": {
      "model_module": "@jupyter-widgets/base",
      "model_module_version": "1.1.0",
      "model_name": "LayoutModel",
      "state": {}
     },
     "a86f7bd1bef741a989eaa79a8ba91744": {
      "model_module": "@jupyter-widgets/controls",
      "model_module_version": "1.4.0",
      "model_name": "SliderStyleModel",
      "state": {
       "description_width": ""
      }
     },
     "a971a5fa554d420dbd2f29b8889454e1": {
      "model_module": "@jupyter-widgets/controls",
      "model_module_version": "1.4.0",
      "model_name": "ButtonStyleModel",
      "state": {}
     },
     "a97d23566a384474996f1bb49f8d2573": {
      "model_module": "@jupyter-widgets/base",
      "model_module_version": "1.1.0",
      "model_name": "LayoutModel",
      "state": {}
     },
     "aa50f520cf754e249e62bbf64dd8a08e": {
      "model_module": "@jupyter-widgets/controls",
      "model_module_version": "1.4.0",
      "model_name": "ButtonModel",
      "state": {
       "description": "Run Interact",
       "layout": "IPY_MODEL_b34953738dd343bd8b7234903d983206",
       "style": "IPY_MODEL_0f83bed178ce4d69973d5bbf44ce880d"
      }
     },
     "aaa0cf1b1c2b45e5944b02ded076818f": {
      "model_module": "@jupyter-widgets/controls",
      "model_module_version": "1.4.0",
      "model_name": "SelectModel",
      "state": {
       "_options_labels": [
        "ReLU",
        "sigmoid"
       ],
       "description": "Activation Function",
       "index": 0,
       "layout": "IPY_MODEL_81b7e2bcac424cfdb29e6d9ae915ad52",
       "style": "IPY_MODEL_865204473b7644bd810a8fdd1b8859e2"
      }
     },
     "aacdf74999604a24a1c1a0ca6dacb4dd": {
      "model_module": "@jupyter-widgets/controls",
      "model_module_version": "1.4.0",
      "model_name": "SelectModel",
      "state": {
       "_options_labels": [
        "ReLU",
        "sigmoid"
       ],
       "description": "Activation Function",
       "index": 1,
       "layout": "IPY_MODEL_8eb420f1914044baa9008b6f85686a10",
       "style": "IPY_MODEL_0e67603368f5448a8b3e9032ee050cf5"
      }
     },
     "ab6b53565a0c4df08321ff0885c4eba9": {
      "model_module": "@jupyter-widgets/base",
      "model_module_version": "1.1.0",
      "model_name": "LayoutModel",
      "state": {}
     },
     "acc836419e0b4fadb856367348fb20f3": {
      "model_module": "@jupyter-widgets/controls",
      "model_module_version": "1.4.0",
      "model_name": "DescriptionStyleModel",
      "state": {
       "description_width": ""
      }
     },
     "acf71e72127948dfa90672b789b76c53": {
      "model_module": "@jupyter-widgets/base",
      "model_module_version": "1.1.0",
      "model_name": "LayoutModel",
      "state": {}
     },
     "ad20c2ac0f21415d9fc31f8fc26da2e4": {
      "model_module": "@jupyter-widgets/base",
      "model_module_version": "1.1.0",
      "model_name": "LayoutModel",
      "state": {}
     },
     "ad6a8d9fd0974aa8879a8f93f16b4bd4": {
      "model_module": "@jupyter-widgets/base",
      "model_module_version": "1.1.0",
      "model_name": "LayoutModel",
      "state": {}
     },
     "ae0a071e81484660a662418d23ee2a9c": {
      "model_module": "@jupyter-widgets/controls",
      "model_module_version": "1.4.0",
      "model_name": "SelectModel",
      "state": {
       "_options_labels": [
        "ReLU",
        "sigmoid"
       ],
       "description": "Activation Function",
       "index": 0,
       "layout": "IPY_MODEL_dcfdc1c36f4d46ac85be491e933a014b",
       "style": "IPY_MODEL_167173519d87415eb49a4086a08b5076"
      }
     },
     "af6b0cb871f84683923ac6bb12577f80": {
      "model_module": "@jupyter-widgets/controls",
      "model_module_version": "1.4.0",
      "model_name": "SelectModel",
      "state": {
       "_options_labels": [
        "ReLU",
        "sigmoid"
       ],
       "description": "Activation Function",
       "index": 1,
       "layout": "IPY_MODEL_b0edf1c440744c34b5b5869e470d0e78",
       "style": "IPY_MODEL_67a4ac35ec9f426a8457573fce1e3d89"
      }
     },
     "b04dbf4b557d49f9a02e64d93d1ccd1f": {
      "model_module": "@jupyter-widgets/base",
      "model_module_version": "1.1.0",
      "model_name": "LayoutModel",
      "state": {}
     },
     "b063b69d154f42cc8e3975df8eac2913": {
      "model_module": "@jupyter-widgets/controls",
      "model_module_version": "1.4.0",
      "model_name": "VBoxModel",
      "state": {
       "_dom_classes": [
        "widget-interact"
       ],
       "children": [
        "IPY_MODEL_3ed18d71c1dd48c991a916e6815470d4",
        "IPY_MODEL_99bda13b4b8542df8cc1fbd4769b04b8"
       ],
       "layout": "IPY_MODEL_cafd4badf52e420e9020354945c13bcb"
      }
     },
     "b0edf1c440744c34b5b5869e470d0e78": {
      "model_module": "@jupyter-widgets/base",
      "model_module_version": "1.1.0",
      "model_name": "LayoutModel",
      "state": {}
     },
     "b0f5fdbae0db4219990050e23dbfc0d0": {
      "model_module": "@jupyter-widgets/controls",
      "model_module_version": "1.4.0",
      "model_name": "VBoxModel",
      "state": {
       "_dom_classes": [
        "widget-interact"
       ],
       "children": [
        "IPY_MODEL_ae0a071e81484660a662418d23ee2a9c",
        "IPY_MODEL_efd1ae91471d4adfa82c6c9f86df09a7",
        "IPY_MODEL_0476ddaaab564bddb80c563ffd316975",
        "IPY_MODEL_2f7b4f5cc6464d77a0dcb0532388b578"
       ],
       "layout": "IPY_MODEL_2df70c74f1ec4c2abdff516f832036f3"
      }
     },
     "b100af86551148aa9ee5f05ad286af36": {
      "model_module": "@jupyter-widgets/controls",
      "model_module_version": "1.4.0",
      "model_name": "VBoxModel",
      "state": {
       "_dom_classes": [
        "widget-interact"
       ],
       "children": [
        "IPY_MODEL_aacdf74999604a24a1c1a0ca6dacb4dd",
        "IPY_MODEL_f7a8585b76fa4ab7bc480091625cbecc",
        "IPY_MODEL_543a1a37aadc4d43a7bbd37912d9a940"
       ],
       "layout": "IPY_MODEL_6292b000f98a4fd8951dd5bdb1914452"
      }
     },
     "b10c131a093f49f3bb98455a130e8295": {
      "model_module": "@jupyter-widgets/base",
      "model_module_version": "1.1.0",
      "model_name": "LayoutModel",
      "state": {}
     },
     "b34953738dd343bd8b7234903d983206": {
      "model_module": "@jupyter-widgets/base",
      "model_module_version": "1.1.0",
      "model_name": "LayoutModel",
      "state": {}
     },
     "b3b4af8a6e864a7e82718702cc76a902": {
      "model_module": "@jupyter-widgets/base",
      "model_module_version": "1.1.0",
      "model_name": "LayoutModel",
      "state": {}
     },
     "b446b28dca284c4e8bfbaaeffbeddf98": {
      "model_module": "@jupyter-widgets/base",
      "model_module_version": "1.1.0",
      "model_name": "LayoutModel",
      "state": {}
     },
     "b4f09a17f9684328bb6f9328b63e90b0": {
      "model_module": "@jupyter-widgets/base",
      "model_module_version": "1.1.0",
      "model_name": "LayoutModel",
      "state": {}
     },
     "b55417e806a14ccb8efeb750edd3dfe2": {
      "model_module": "@jupyter-widgets/base",
      "model_module_version": "1.1.0",
      "model_name": "LayoutModel",
      "state": {}
     },
     "b82f9e8ab4d44c20ae4f71ec23c1e73b": {
      "model_module": "@jupyter-widgets/controls",
      "model_module_version": "1.4.0",
      "model_name": "ButtonStyleModel",
      "state": {}
     },
     "b9bd88266f4041d19ce2d41ba3741834": {
      "model_module": "@jupyter-widgets/controls",
      "model_module_version": "1.4.0",
      "model_name": "SelectModel",
      "state": {
       "_options_labels": [
        "ReLU",
        "sigmoid"
       ],
       "description": "Activation Function",
       "index": 0,
       "layout": "IPY_MODEL_ed01361f14804e9a90a0b96f2bedf8cb",
       "style": "IPY_MODEL_acc836419e0b4fadb856367348fb20f3"
      }
     },
     "b9d7a54a3525480fa648d0f81d2ba482": {
      "model_module": "@jupyter-widgets/base",
      "model_module_version": "1.1.0",
      "model_name": "LayoutModel",
      "state": {}
     },
     "b9e56b975e0c49a6b609dbd130c21341": {
      "model_module": "@jupyter-widgets/controls",
      "model_module_version": "1.4.0",
      "model_name": "ButtonModel",
      "state": {
       "description": "Run Interact",
       "layout": "IPY_MODEL_e6900fe3225c48dc9a60eaa568882690",
       "style": "IPY_MODEL_7636bdd918fd478d90fb5aa00ebf455c"
      }
     },
     "bb040a6bd40d4a21bf701bd8d2830dea": {
      "model_module": "@jupyter-widgets/base",
      "model_module_version": "1.1.0",
      "model_name": "LayoutModel",
      "state": {}
     },
     "bcc50a3453cd4e4b941c4fae2622263e": {
      "model_module": "@jupyter-widgets/controls",
      "model_module_version": "1.4.0",
      "model_name": "VBoxModel",
      "state": {
       "_dom_classes": [
        "widget-interact"
       ],
       "children": [
        "IPY_MODEL_62de22bf300a4d569c842752819072af",
        "IPY_MODEL_161acbddf6ab456588c56aff8137cfc1",
        "IPY_MODEL_e55272039d894caa8f05e4bbd0fe420a"
       ],
       "layout": "IPY_MODEL_063e1faed3c9403c954eb5cd7640ebe1"
      }
     },
     "bd828973d3544bd78ce9c721d95a5dfa": {
      "model_module": "@jupyter-widgets/controls",
      "model_module_version": "1.4.0",
      "model_name": "VBoxModel",
      "state": {
       "_dom_classes": [
        "widget-interact"
       ],
       "children": [
        "IPY_MODEL_aa50f520cf754e249e62bbf64dd8a08e",
        "IPY_MODEL_e649764fe36943c399e16c143188b45f"
       ],
       "layout": "IPY_MODEL_e3d0020d6aaa4cca900960ae31971b02"
      }
     },
     "be30c19ff7bd49ee95d22bdd122921b6": {
      "model_module": "@jupyter-widgets/base",
      "model_module_version": "1.1.0",
      "model_name": "LayoutModel",
      "state": {}
     },
     "bef0a49b76364e4280b218e31cdc8895": {
      "model_module": "@jupyter-widgets/controls",
      "model_module_version": "1.4.0",
      "model_name": "ButtonStyleModel",
      "state": {}
     },
     "bfd0d0c11dc14baa9f6c3aa51a47aa4d": {
      "model_module": "@jupyter-widgets/output",
      "model_module_version": "1.0.0",
      "model_name": "OutputModel",
      "state": {
       "layout": "IPY_MODEL_f750496a66264ed49114dc5feb31f017"
      }
     },
     "c27c80d1d2774c6d964ed4092f08e5a1": {
      "model_module": "@jupyter-widgets/controls",
      "model_module_version": "1.4.0",
      "model_name": "VBoxModel",
      "state": {
       "_dom_classes": [
        "widget-interact"
       ],
       "children": [
        "IPY_MODEL_5f5023fd3b894e0ea0525d66f158530c",
        "IPY_MODEL_75d22c94440c4fa2a067026908139217",
        "IPY_MODEL_10b3718be4984fc5a8b7b198a602ba2c"
       ],
       "layout": "IPY_MODEL_dafbdb87e601486a88b8fc72b4536330"
      }
     },
     "c28e3587a4c3488d8a5208281711ec72": {
      "model_module": "@jupyter-widgets/controls",
      "model_module_version": "1.4.0",
      "model_name": "FloatSliderModel",
      "state": {
       "description": "b",
       "layout": "IPY_MODEL_7b0b3a3b7fa6429d951c482f9603cb66",
       "max": 10,
       "min": 0.1,
       "step": 0.2,
       "style": "IPY_MODEL_f3f475ef63ce43c99656115c10e36843",
       "value": 0.1
      }
     },
     "c37cc642c7a9434eba1d8c0c6f99c589": {
      "model_module": "@jupyter-widgets/base",
      "model_module_version": "1.1.0",
      "model_name": "LayoutModel",
      "state": {}
     },
     "c53770132854482bbd9d77958a9e0849": {
      "model_module": "@jupyter-widgets/base",
      "model_module_version": "1.1.0",
      "model_name": "LayoutModel",
      "state": {}
     },
     "c5a3fb0b16084f36931dbafeda7d2780": {
      "model_module": "@jupyter-widgets/controls",
      "model_module_version": "1.4.0",
      "model_name": "FloatSliderModel",
      "state": {
       "description": "w",
       "layout": "IPY_MODEL_1c440163c6084f6cbfc6c879f7e893d5",
       "max": 10,
       "step": 0.2,
       "style": "IPY_MODEL_a36e941d31c04a05930f4d6efffdb549",
       "value": 1
      }
     },
     "c63458700c414728b868f0c79968a3dc": {
      "model_module": "@jupyter-widgets/base",
      "model_module_version": "1.1.0",
      "model_name": "LayoutModel",
      "state": {}
     },
     "c65f11fa5f404a31b957bb49510f180c": {
      "model_module": "@jupyter-widgets/base",
      "model_module_version": "1.1.0",
      "model_name": "LayoutModel",
      "state": {}
     },
     "c6dc991eb5774f8f93f05984776d2c91": {
      "model_module": "@jupyter-widgets/base",
      "model_module_version": "1.1.0",
      "model_name": "LayoutModel",
      "state": {}
     },
     "c7d64b60223e480f9985551109d489c9": {
      "model_module": "@jupyter-widgets/base",
      "model_module_version": "1.1.0",
      "model_name": "LayoutModel",
      "state": {}
     },
     "c8b2526e536f44e49217083ebafdc54e": {
      "model_module": "@jupyter-widgets/controls",
      "model_module_version": "1.4.0",
      "model_name": "DescriptionStyleModel",
      "state": {
       "description_width": ""
      }
     },
     "c982ff0d23e7438ba7192e08ae0b2a8c": {
      "model_module": "@jupyter-widgets/base",
      "model_module_version": "1.1.0",
      "model_name": "LayoutModel",
      "state": {}
     },
     "cafd4badf52e420e9020354945c13bcb": {
      "model_module": "@jupyter-widgets/base",
      "model_module_version": "1.1.0",
      "model_name": "LayoutModel",
      "state": {}
     },
     "ccc682acbf894ffab6c23e94d33809b2": {
      "model_module": "@jupyter-widgets/controls",
      "model_module_version": "1.4.0",
      "model_name": "ButtonStyleModel",
      "state": {}
     },
     "ce955d3ba0664c5cb05e8e52e27b0f8c": {
      "model_module": "@jupyter-widgets/base",
      "model_module_version": "1.1.0",
      "model_name": "LayoutModel",
      "state": {}
     },
     "d02a3d9a14c04559a61ae246dd17b610": {
      "model_module": "@jupyter-widgets/base",
      "model_module_version": "1.1.0",
      "model_name": "LayoutModel",
      "state": {}
     },
     "d10fbb4e553d473093e4b04f7f6c0187": {
      "model_module": "@jupyter-widgets/base",
      "model_module_version": "1.1.0",
      "model_name": "LayoutModel",
      "state": {}
     },
     "d13695e6c3564a5fa5e103b0051f92b7": {
      "model_module": "@jupyter-widgets/output",
      "model_module_version": "1.0.0",
      "model_name": "OutputModel",
      "state": {
       "layout": "IPY_MODEL_be30c19ff7bd49ee95d22bdd122921b6"
      }
     },
     "d15f03cb702f4d888a3c8f2024763ad7": {
      "model_module": "@jupyter-widgets/output",
      "model_module_version": "1.0.0",
      "model_name": "OutputModel",
      "state": {
       "layout": "IPY_MODEL_7e82064990724db2a29c70fec7aa14f3",
       "outputs": [
        {
         "data": {
          "image/png": "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\n",
          "text/plain": "<Figure size 720x432 with 1 Axes>"
         },
         "metadata": {
          "needs_background": "light"
         },
         "output_type": "display_data"
        }
       ]
      }
     },
     "d1c7052930054db5a1d2bf7b1f7627c5": {
      "model_module": "@jupyter-widgets/controls",
      "model_module_version": "1.4.0",
      "model_name": "SliderStyleModel",
      "state": {
       "description_width": ""
      }
     },
     "d2c212df41144e298f400f23fae875cc": {
      "model_module": "@jupyter-widgets/controls",
      "model_module_version": "1.4.0",
      "model_name": "ButtonModel",
      "state": {
       "description": "Run Interact",
       "layout": "IPY_MODEL_6a89883125fb42c9a756a9f171b3065f",
       "style": "IPY_MODEL_bef0a49b76364e4280b218e31cdc8895"
      }
     },
     "d67360321f5b4129baa496dddb98fbb7": {
      "model_module": "@jupyter-widgets/controls",
      "model_module_version": "1.4.0",
      "model_name": "ButtonStyleModel",
      "state": {}
     },
     "d80ad28a08964561b2fe6f50f28f0208": {
      "model_module": "@jupyter-widgets/base",
      "model_module_version": "1.1.0",
      "model_name": "LayoutModel",
      "state": {}
     },
     "d8b77ebf007244dea37f62c0fdb3fe25": {
      "model_module": "@jupyter-widgets/controls",
      "model_module_version": "1.4.0",
      "model_name": "IntSliderModel",
      "state": {
       "description": "b",
       "layout": "IPY_MODEL_46aff21af56943c5964855e612a7b566",
       "max": 10,
       "step": 0,
       "style": "IPY_MODEL_2e7536111256463aa031b07868cad5d2"
      }
     },
     "da3bc6a4256849978746179e7312e33d": {
      "model_module": "@jupyter-widgets/controls",
      "model_module_version": "1.4.0",
      "model_name": "VBoxModel",
      "state": {
       "_dom_classes": [
        "widget-interact"
       ],
       "children": [
        "IPY_MODEL_7971f733cf9146b38ec617f8ccee240d",
        "IPY_MODEL_f2ec223658af4b638ecf0e4b4f9d8d0b",
        "IPY_MODEL_0d4067a121fe4b958aaf6e73d15a8a53"
       ],
       "layout": "IPY_MODEL_05ae23d292af4d498e377999ab9f82f6"
      }
     },
     "dafbdb87e601486a88b8fc72b4536330": {
      "model_module": "@jupyter-widgets/base",
      "model_module_version": "1.1.0",
      "model_name": "LayoutModel",
      "state": {}
     },
     "dba176992e364f8f96bfedd94bcf3708": {
      "model_module": "@jupyter-widgets/controls",
      "model_module_version": "1.4.0",
      "model_name": "ButtonModel",
      "state": {
       "description": "Run Interact",
       "layout": "IPY_MODEL_2c047ce944304d5eb0e1ff094d3ff9a6",
       "style": "IPY_MODEL_a971a5fa554d420dbd2f29b8889454e1"
      }
     },
     "dcfdc1c36f4d46ac85be491e933a014b": {
      "model_module": "@jupyter-widgets/base",
      "model_module_version": "1.1.0",
      "model_name": "LayoutModel",
      "state": {}
     },
     "de7f7f9c13bb4d28892d68025e2cb411": {
      "model_module": "@jupyter-widgets/controls",
      "model_module_version": "1.4.0",
      "model_name": "DescriptionStyleModel",
      "state": {
       "description_width": ""
      }
     },
     "df35e99bea4e421694466118c4919b4e": {
      "model_module": "@jupyter-widgets/controls",
      "model_module_version": "1.4.0",
      "model_name": "ButtonModel",
      "state": {
       "description": "Run Interact",
       "layout": "IPY_MODEL_67bb2e85340e4222a53d69ebf3f17804",
       "style": "IPY_MODEL_98840ef8a6364af4b65294674bd64df8"
      }
     },
     "dfec2dd359054d41a50ff730ffe27117": {
      "model_module": "@jupyter-widgets/base",
      "model_module_version": "1.1.0",
      "model_name": "LayoutModel",
      "state": {}
     },
     "e151a1311cd94132bed49f9b141e04a6": {
      "model_module": "@jupyter-widgets/base",
      "model_module_version": "1.1.0",
      "model_name": "LayoutModel",
      "state": {}
     },
     "e1de41be811b42a1bed3a07a0e92323c": {
      "model_module": "@jupyter-widgets/controls",
      "model_module_version": "1.4.0",
      "model_name": "SelectModel",
      "state": {
       "_options_labels": [
        "ReLU",
        "sigmoid"
       ],
       "description": "Activation Function",
       "index": 0,
       "layout": "IPY_MODEL_b9d7a54a3525480fa648d0f81d2ba482",
       "style": "IPY_MODEL_de7f7f9c13bb4d28892d68025e2cb411"
      }
     },
     "e314ab87a403408c88cc4bab092369bd": {
      "model_module": "@jupyter-widgets/base",
      "model_module_version": "1.1.0",
      "model_name": "LayoutModel",
      "state": {}
     },
     "e3d0020d6aaa4cca900960ae31971b02": {
      "model_module": "@jupyter-widgets/base",
      "model_module_version": "1.1.0",
      "model_name": "LayoutModel",
      "state": {}
     },
     "e55272039d894caa8f05e4bbd0fe420a": {
      "model_module": "@jupyter-widgets/output",
      "model_module_version": "1.0.0",
      "model_name": "OutputModel",
      "state": {
       "layout": "IPY_MODEL_2e2b185e786d474dbc883b94fd8de642",
       "outputs": [
        {
         "data": {
          "image/png": "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\n",
          "text/plain": "<Figure size 432x288 with 1 Axes>"
         },
         "metadata": {
          "needs_background": "light"
         },
         "output_type": "display_data"
        }
       ]
      }
     },
     "e649764fe36943c399e16c143188b45f": {
      "model_module": "@jupyter-widgets/output",
      "model_module_version": "1.0.0",
      "model_name": "OutputModel",
      "state": {
       "layout": "IPY_MODEL_18546fe8b0eb42dfa02b027c44f19394"
      }
     },
     "e6900fe3225c48dc9a60eaa568882690": {
      "model_module": "@jupyter-widgets/base",
      "model_module_version": "1.1.0",
      "model_name": "LayoutModel",
      "state": {}
     },
     "e7bec52cdd5e4f809b5bcf749af0a6a6": {
      "model_module": "@jupyter-widgets/controls",
      "model_module_version": "1.4.0",
      "model_name": "ButtonModel",
      "state": {
       "description": "Run Interact",
       "layout": "IPY_MODEL_a25fc957a1d9458c8dedb400f61a3fe7",
       "style": "IPY_MODEL_fc9dbc5bfc34485a9ce9a0279a135ca0"
      }
     },
     "e8048dbb70f543ba9a0892024f5d84d5": {
      "model_module": "@jupyter-widgets/controls",
      "model_module_version": "1.4.0",
      "model_name": "ButtonStyleModel",
      "state": {}
     },
     "e91ddd19cb264bc898a8db3bb9c54a67": {
      "model_module": "@jupyter-widgets/controls",
      "model_module_version": "1.4.0",
      "model_name": "ButtonStyleModel",
      "state": {}
     },
     "e9877dd22d3e4bdaa24465efe73cacbe": {
      "model_module": "@jupyter-widgets/controls",
      "model_module_version": "1.4.0",
      "model_name": "ButtonModel",
      "state": {
       "description": "Run Interact",
       "layout": "IPY_MODEL_b446b28dca284c4e8bfbaaeffbeddf98",
       "style": "IPY_MODEL_768da55d9e454c64af0f8f8bc6db2f2c"
      }
     },
     "ea1028813203461693c3a28810cfaff5": {
      "model_module": "@jupyter-widgets/output",
      "model_module_version": "1.0.0",
      "model_name": "OutputModel",
      "state": {
       "layout": "IPY_MODEL_f777d9fbfea741b5b3a18a28b48aec19",
       "outputs": [
        {
         "data": {
          "image/png": "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\n",
          "text/plain": "<Figure size 720x432 with 1 Axes>"
         },
         "metadata": {
          "needs_background": "light"
         },
         "output_type": "display_data"
        }
       ]
      }
     },
     "eb48ce9792184a7a8eeea5e5b977d766": {
      "model_module": "@jupyter-widgets/base",
      "model_module_version": "1.1.0",
      "model_name": "LayoutModel",
      "state": {}
     },
     "ebf9dc0b62e240a381567bb1215eb9ec": {
      "model_module": "@jupyter-widgets/controls",
      "model_module_version": "1.4.0",
      "model_name": "SliderStyleModel",
      "state": {
       "description_width": ""
      }
     },
     "ed01361f14804e9a90a0b96f2bedf8cb": {
      "model_module": "@jupyter-widgets/base",
      "model_module_version": "1.1.0",
      "model_name": "LayoutModel",
      "state": {}
     },
     "ed8cc41d573d45f0a67d1af463f79377": {
      "model_module": "@jupyter-widgets/base",
      "model_module_version": "1.1.0",
      "model_name": "LayoutModel",
      "state": {}
     },
     "eeb74fbd76044bfc864a66e840e20474": {
      "model_module": "@jupyter-widgets/base",
      "model_module_version": "1.1.0",
      "model_name": "LayoutModel",
      "state": {}
     },
     "ef0e357ddaf641e4b4ac0995d053cea8": {
      "model_module": "@jupyter-widgets/controls",
      "model_module_version": "1.4.0",
      "model_name": "VBoxModel",
      "state": {
       "_dom_classes": [
        "widget-interact"
       ],
       "children": [
        "IPY_MODEL_9d1a59ef3315471c869cf7d595d909ca",
        "IPY_MODEL_1844929d12514b7797c66f082539d193"
       ],
       "layout": "IPY_MODEL_c37cc642c7a9434eba1d8c0c6f99c589"
      }
     },
     "efd1ae91471d4adfa82c6c9f86df09a7": {
      "model_module": "@jupyter-widgets/controls",
      "model_module_version": "1.4.0",
      "model_name": "IntSliderModel",
      "state": {
       "description": "b",
       "layout": "IPY_MODEL_3c1df5d1db1b47048b7faecdb74f88c1",
       "max": 10,
       "step": 0,
       "style": "IPY_MODEL_d1c7052930054db5a1d2bf7b1f7627c5"
      }
     },
     "f0824ba979164c94bb8387a3fcfe67d1": {
      "model_module": "@jupyter-widgets/controls",
      "model_module_version": "1.4.0",
      "model_name": "ButtonModel",
      "state": {
       "description": "Run Interact",
       "layout": "IPY_MODEL_dfec2dd359054d41a50ff730ffe27117",
       "style": "IPY_MODEL_8075dc112e9c43a7a4aa72a955041899"
      }
     },
     "f0dd29b073dd4b62bbdb219c5497c4b3": {
      "model_module": "@jupyter-widgets/controls",
      "model_module_version": "1.4.0",
      "model_name": "SliderStyleModel",
      "state": {
       "description_width": ""
      }
     },
     "f173e63ecfdc469e906119dfc239e3be": {
      "model_module": "@jupyter-widgets/base",
      "model_module_version": "1.1.0",
      "model_name": "LayoutModel",
      "state": {}
     },
     "f2ec223658af4b638ecf0e4b4f9d8d0b": {
      "model_module": "@jupyter-widgets/controls",
      "model_module_version": "1.4.0",
      "model_name": "ButtonModel",
      "state": {
       "description": "Run Interact",
       "layout": "IPY_MODEL_1e695a846a87440695d7bf4d5292497c",
       "style": "IPY_MODEL_fc01ed8406624bd19473fd50175c5fbb"
      }
     },
     "f3f31999744c467497b30529dd83624e": {
      "model_module": "@jupyter-widgets/output",
      "model_module_version": "1.0.0",
      "model_name": "OutputModel",
      "state": {
       "layout": "IPY_MODEL_e151a1311cd94132bed49f9b141e04a6",
       "outputs": [
        {
         "data": {
          "image/png": "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\n",
          "text/plain": "<Figure size 864x864 with 1 Axes>"
         },
         "metadata": {
          "needs_background": "light"
         },
         "output_type": "display_data"
        }
       ]
      }
     },
     "f3f475ef63ce43c99656115c10e36843": {
      "model_module": "@jupyter-widgets/controls",
      "model_module_version": "1.4.0",
      "model_name": "SliderStyleModel",
      "state": {
       "description_width": ""
      }
     },
     "f5db0c8ae50b4fb2a9bab263bc491549": {
      "model_module": "@jupyter-widgets/base",
      "model_module_version": "1.1.0",
      "model_name": "LayoutModel",
      "state": {}
     },
     "f718d35ccd624b93b9bf351545e7e89b": {
      "model_module": "@jupyter-widgets/controls",
      "model_module_version": "1.4.0",
      "model_name": "ButtonModel",
      "state": {
       "description": "Run Interact",
       "layout": "IPY_MODEL_c53770132854482bbd9d77958a9e0849",
       "style": "IPY_MODEL_14a30abdcedb4b508948099e963e2719"
      }
     },
     "f750496a66264ed49114dc5feb31f017": {
      "model_module": "@jupyter-widgets/base",
      "model_module_version": "1.1.0",
      "model_name": "LayoutModel",
      "state": {}
     },
     "f777d9fbfea741b5b3a18a28b48aec19": {
      "model_module": "@jupyter-widgets/base",
      "model_module_version": "1.1.0",
      "model_name": "LayoutModel",
      "state": {}
     },
     "f7a8585b76fa4ab7bc480091625cbecc": {
      "model_module": "@jupyter-widgets/controls",
      "model_module_version": "1.4.0",
      "model_name": "FloatSliderModel",
      "state": {
       "description": "b",
       "layout": "IPY_MODEL_58cf3b7644844a08828216dcd9e88558",
       "max": 10,
       "step": 0.2,
       "style": "IPY_MODEL_a86f7bd1bef741a989eaa79a8ba91744"
      }
     },
     "fac37ca0fc874c4c9b6b4cc005225b43": {
      "model_module": "@jupyter-widgets/controls",
      "model_module_version": "1.4.0",
      "model_name": "ButtonModel",
      "state": {
       "description": "Run Interact",
       "layout": "IPY_MODEL_317931ec7fca445f9359e3762c0a94bc",
       "style": "IPY_MODEL_e8048dbb70f543ba9a0892024f5d84d5"
      }
     },
     "fb092a4694e3422887f9e17d627fa779": {
      "model_module": "@jupyter-widgets/controls",
      "model_module_version": "1.4.0",
      "model_name": "DescriptionStyleModel",
      "state": {
       "description_width": ""
      }
     },
     "fc01ed8406624bd19473fd50175c5fbb": {
      "model_module": "@jupyter-widgets/controls",
      "model_module_version": "1.4.0",
      "model_name": "ButtonStyleModel",
      "state": {}
     },
     "fc38ecce95e145f78ee9c62287c60828": {
      "model_module": "@jupyter-widgets/base",
      "model_module_version": "1.1.0",
      "model_name": "LayoutModel",
      "state": {}
     },
     "fc702b2875f441edbc65d3976f5dc79f": {
      "model_module": "@jupyter-widgets/base",
      "model_module_version": "1.1.0",
      "model_name": "LayoutModel",
      "state": {}
     },
     "fc9dbc5bfc34485a9ce9a0279a135ca0": {
      "model_module": "@jupyter-widgets/controls",
      "model_module_version": "1.4.0",
      "model_name": "ButtonStyleModel",
      "state": {}
     },
     "fcf1a635dca04cfbb7b51720c9d75ea1": {
      "model_module": "@jupyter-widgets/output",
      "model_module_version": "1.0.0",
      "model_name": "OutputModel",
      "state": {
       "layout": "IPY_MODEL_ed8cc41d573d45f0a67d1af463f79377",
       "outputs": [
        {
         "data": {
          "image/png": "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\n",
          "text/plain": "<Figure size 720x432 with 1 Axes>"
         },
         "metadata": {
          "needs_background": "light"
         },
         "output_type": "display_data"
        }
       ]
      }
     },
     "fdb0ccba06334a4ba8f4c34dcb8b2345": {
      "model_module": "@jupyter-widgets/controls",
      "model_module_version": "1.4.0",
      "model_name": "SliderStyleModel",
      "state": {
       "description_width": ""
      }
     }
    },
    "version_major": 2,
    "version_minor": 0
   }
  }
 },
 "nbformat": 4,
 "nbformat_minor": 2
}
