{
 "cells": [
  {
   "cell_type": "code",
   "execution_count": 6,
   "metadata": {},
   "outputs": [],
   "source": [
    "import numpy as np\n",
    "import matplotlib.pyplot as plt"
   ]
  },
  {
   "cell_type": "code",
   "execution_count": 90,
   "metadata": {},
   "outputs": [
    {
     "data": {
      "image/png": "[encoded data removed]",
      "text/plain": [
       "<Figure size 432x288 with 1 Axes>"
      ]
     },
     "metadata": {
      "needs_background": "light"
     },
     "output_type": "display_data"
    }
   ],
   "source": [
    "def activation_func(inputs): \n",
    "    return 1.0/(1.0+np.exp(-inputs))\n",
    "\n",
    "nn_inputs = np.linspace(-20,20,200)[:, np.newaxis]\n",
    "nn_weights1 = np.random.randn(1,1000)\n",
    "nn_weights2 = np.random.randn(1000,500)\n",
    "nn_weights3 = np.random.randn(500,1)\n",
    "h1 = activation_func(np.dot(nn_inputs,nn_weights1))\n",
    "h2 = activation_func(np.dot(h1,nn_weights2))\n",
    "f = activation_func(np.dot(h2,nn_weights3))\n",
    "plt.plot(nn_inputs, f)\n",
    "plt.show()"
   ]
  },
  {
   "cell_type": "code",
   "execution_count": 158,
   "metadata": {},
   "outputs": [
    {
     "data": {
      "application/vnd.jupyter.widget-view+json": {
       "model_id": "11f9951f151842228af1415ddc02f084",
       "version_major": 2,
       "version_minor": 0
      },
      "text/plain": [
       "interactive(children=(Button(description='Run Interact', style=ButtonStyle()), Output()), _dom_classes=('widge…"
      ]
     },
     "metadata": {},
     "output_type": "display_data"
    }
   ],
   "source": [
    "from ipywidgets import interact_manual\n",
    "\n",
    "@interact_manual\n",
    "def plot_nn_contour():\n",
    "    nn1 = np.linspace(-5,5,200)[:, np.newaxis]\n",
    "    mgrid = np.meshgrid(nn1, nn1)\n",
    "    nn_inputs = np.stack(mgrid).reshape(2,-1).T\n",
    "    nn_weights1 = np.random.randn(2,100)\n",
    "    nn_weights2 = np.random.randn(100,50)\n",
    "    nn_weights3 = np.random.randn(50,1)\n",
    "    h1 = activation_func(np.dot(nn_inputs,nn_weights1))\n",
    "    h2 = activation_func(np.dot(h1,nn_weights2))\n",
    "    f = activation_func(np.dot(h2,nn_weights3))\n",
    "    z = f.reshape(200,200)\n",
    "    plt.figure(figsize=(12,12))\n",
    "    plt.contourf(mgrid[0], mgrid[1], z, levels=40, cmap='Reds');"
   ]
  },
  {
   "cell_type": "code",
   "execution_count": null,
   "metadata": {},
   "outputs": [],
   "source": []
  }
 ],
 "metadata": {
  "kernelspec": {
   "display_name": "Python 3",
   "language": "python",
   "name": "python3"
  },
  "language_info": {
   "codemirror_mode": {
    "name": "ipython",
    "version": 3
   },
   "file_extension": ".py",
   "mimetype": "text/x-python",
   "name": "python",
   "nbconvert_exporter": "python",
   "pygments_lexer": "ipython3",
   "version": "3.6.6"
  },
  "widgets": {
   "application/vnd.jupyter.widget-state+json": {
    "state": {
     "071a06a62d7442a18706ed1ae6ec0830": {
      "model_module": "@jupyter-widgets/output",
      "model_module_version": "1.0.0",
      "model_name": "OutputModel",
      "state": {
       "layout": "IPY_MODEL_70f61fb2d1f04d88a1d91e309190da87",
       "outputs": [
        {
         "data": {
          "image/png": "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\n",
          "text/plain": "<Figure size 432x288 with 1 Axes>"
         },
         "metadata": {
          "needs_background": "light"
         },
         "output_type": "display_data"
        }
       ]
      }
     },
     "0b51be354a034677a49824bf9079558d": {
      "model_module": "@jupyter-widgets/output",
      "model_module_version": "1.0.0",
      "model_name": "OutputModel",
      "state": {
       "layout": "IPY_MODEL_c982ff0d23e7438ba7192e08ae0b2a8c"
      }
     },
     "0f83bed178ce4d69973d5bbf44ce880d": {
      "model_module": "@jupyter-widgets/controls",
      "model_module_version": "1.4.0",
      "model_name": "ButtonStyleModel",
      "state": {}
     },
     "11f9951f151842228af1415ddc02f084": {
      "model_module": "@jupyter-widgets/controls",
      "model_module_version": "1.4.0",
      "model_name": "VBoxModel",
      "state": {
       "_dom_classes": [
        "widget-interact"
       ],
       "children": [
        "IPY_MODEL_4a470eff1db74bf193cbbdf0cdb51f39",
        "IPY_MODEL_8ed21a4b7e724178af610294982f5fab"
       ],
       "layout": "IPY_MODEL_7d44d2a8a0924d4887c11e032e33326f"
      }
     },
     "1844929d12514b7797c66f082539d193": {
      "model_module": "@jupyter-widgets/output",
      "model_module_version": "1.0.0",
      "model_name": "OutputModel",
      "state": {
       "layout": "IPY_MODEL_b55417e806a14ccb8efeb750edd3dfe2"
      }
     },
     "18546fe8b0eb42dfa02b027c44f19394": {
      "model_module": "@jupyter-widgets/base",
      "model_module_version": "1.1.0",
      "model_name": "LayoutModel",
      "state": {}
     },
     "1c37d3fe32c941cb8f9b73e11bacfe4e": {
      "model_module": "@jupyter-widgets/base",
      "model_module_version": "1.1.0",
      "model_name": "LayoutModel",
      "state": {}
     },
     "1e7c7702780343309212db900ac2b1e3": {
      "model_module": "@jupyter-widgets/base",
      "model_module_version": "1.1.0",
      "model_name": "LayoutModel",
      "state": {}
     },
     "273e201dc51b4e66b13d2ae2dfb85e4d": {
      "model_module": "@jupyter-widgets/base",
      "model_module_version": "1.1.0",
      "model_name": "LayoutModel",
      "state": {}
     },
     "2d29cb02440b41cbab6b21b70574eb57": {
      "model_module": "@jupyter-widgets/base",
      "model_module_version": "1.1.0",
      "model_name": "LayoutModel",
      "state": {}
     },
     "3b39555862a043ce9022652abf0d6703": {
      "model_module": "@jupyter-widgets/base",
      "model_module_version": "1.1.0",
      "model_name": "LayoutModel",
      "state": {}
     },
     "3ee4b719836d4345bbb8001aefff6f96": {
      "model_module": "@jupyter-widgets/controls",
      "model_module_version": "1.4.0",
      "model_name": "VBoxModel",
      "state": {
       "_dom_classes": [
        "widget-interact"
       ],
       "children": [
        "IPY_MODEL_6313949bf4fe464da82f11c694b07eff",
        "IPY_MODEL_071a06a62d7442a18706ed1ae6ec0830"
       ],
       "layout": "IPY_MODEL_273e201dc51b4e66b13d2ae2dfb85e4d"
      }
     },
     "40a29a33dd164ff4bd3bf897b87e0272": {
      "model_module": "@jupyter-widgets/base",
      "model_module_version": "1.1.0",
      "model_name": "LayoutModel",
      "state": {}
     },
     "4a470eff1db74bf193cbbdf0cdb51f39": {
      "model_module": "@jupyter-widgets/controls",
      "model_module_version": "1.4.0",
      "model_name": "ButtonModel",
      "state": {
       "description": "Run Interact",
       "layout": "IPY_MODEL_8d34e07c88654fd2b00d97ff8c967114",
       "style": "IPY_MODEL_814fb1efa44340f28dcc7b6f1141328d"
      }
     },
     "52a207a648214165911410d353db8cea": {
      "model_module": "@jupyter-widgets/controls",
      "model_module_version": "1.4.0",
      "model_name": "ButtonModel",
      "state": {
       "description": "Run Interact",
       "layout": "IPY_MODEL_c63458700c414728b868f0c79968a3dc",
       "style": "IPY_MODEL_57e2b68ff8f64d668fbeccf413f9cff0"
      }
     },
     "57e2b68ff8f64d668fbeccf413f9cff0": {
      "model_module": "@jupyter-widgets/controls",
      "model_module_version": "1.4.0",
      "model_name": "ButtonStyleModel",
      "state": {}
     },
     "6313949bf4fe464da82f11c694b07eff": {
      "model_module": "@jupyter-widgets/controls",
      "model_module_version": "1.4.0",
      "model_name": "ButtonModel",
      "state": {
       "description": "Run Interact",
       "layout": "IPY_MODEL_d10fbb4e553d473093e4b04f7f6c0187",
       "style": "IPY_MODEL_e91ddd19cb264bc898a8db3bb9c54a67"
      }
     },
     "65cc7e7918954a21b42ee4b854ab7a40": {
      "model_module": "@jupyter-widgets/output",
      "model_module_version": "1.0.0",
      "model_name": "OutputModel",
      "state": {
       "layout": "IPY_MODEL_1e7c7702780343309212db900ac2b1e3",
       "outputs": [
        {
         "data": {
          "image/png": "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\n",
          "text/plain": "<Figure size 432x288 with 1 Axes>"
         },
         "metadata": {
          "needs_background": "light"
         },
         "output_type": "display_data"
        }
       ]
      }
     },
     "70f61fb2d1f04d88a1d91e309190da87": {
      "model_module": "@jupyter-widgets/base",
      "model_module_version": "1.1.0",
      "model_name": "LayoutModel",
      "state": {}
     },
     "7d44d2a8a0924d4887c11e032e33326f": {
      "model_module": "@jupyter-widgets/base",
      "model_module_version": "1.1.0",
      "model_name": "LayoutModel",
      "state": {}
     },
     "814fb1efa44340f28dcc7b6f1141328d": {
      "model_module": "@jupyter-widgets/controls",
      "model_module_version": "1.4.0",
      "model_name": "ButtonStyleModel",
      "state": {}
     },
     "82d45ec6616047a4b693838e7d636c1b": {
      "model_module": "@jupyter-widgets/controls",
      "model_module_version": "1.4.0",
      "model_name": "VBoxModel",
      "state": {
       "_dom_classes": [
        "widget-interact"
       ],
       "children": [
        "IPY_MODEL_52a207a648214165911410d353db8cea",
        "IPY_MODEL_65cc7e7918954a21b42ee4b854ab7a40"
       ],
       "layout": "IPY_MODEL_1c37d3fe32c941cb8f9b73e11bacfe4e"
      }
     },
     "8d34e07c88654fd2b00d97ff8c967114": {
      "model_module": "@jupyter-widgets/base",
      "model_module_version": "1.1.0",
      "model_name": "LayoutModel",
      "state": {}
     },
     "8df1fb6d4df74eccafc01f6b1e028111": {
      "model_module": "@jupyter-widgets/controls",
      "model_module_version": "1.4.0",
      "model_name": "VBoxModel",
      "state": {
       "_dom_classes": [
        "widget-interact"
       ],
       "children": [
        "IPY_MODEL_9b8f3c81b4ed4f45a2726dc18aef059b",
        "IPY_MODEL_0b51be354a034677a49824bf9079558d"
       ],
       "layout": "IPY_MODEL_40a29a33dd164ff4bd3bf897b87e0272"
      }
     },
     "8ed21a4b7e724178af610294982f5fab": {
      "model_module": "@jupyter-widgets/output",
      "model_module_version": "1.0.0",
      "model_name": "OutputModel",
      "state": {
       "layout": "IPY_MODEL_ab6b53565a0c4df08321ff0885c4eba9",
       "outputs": [
        {
         "data": {
          "image/png": "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\n",
          "text/plain": "<Figure size 864x864 with 1 Axes>"
         },
         "metadata": {
          "needs_background": "light"
         },
         "output_type": "display_data"
        }
       ]
      }
     },
     "8f320e87977a46cd9da05abcddf44121": {
      "model_module": "@jupyter-widgets/controls",
      "model_module_version": "1.4.0",
      "model_name": "ButtonStyleModel",
      "state": {}
     },
     "9b8f3c81b4ed4f45a2726dc18aef059b": {
      "model_module": "@jupyter-widgets/controls",
      "model_module_version": "1.4.0",
      "model_name": "ButtonModel",
      "state": {
       "description": "Run Interact",
       "layout": "IPY_MODEL_3b39555862a043ce9022652abf0d6703",
       "style": "IPY_MODEL_8f320e87977a46cd9da05abcddf44121"
      }
     },
     "9d1a59ef3315471c869cf7d595d909ca": {
      "model_module": "@jupyter-widgets/controls",
      "model_module_version": "1.4.0",
      "model_name": "ButtonModel",
      "state": {
       "description": "Run Interact",
       "layout": "IPY_MODEL_2d29cb02440b41cbab6b21b70574eb57",
       "style": "IPY_MODEL_b82f9e8ab4d44c20ae4f71ec23c1e73b"
      }
     },
     "aa50f520cf754e249e62bbf64dd8a08e": {
      "model_module": "@jupyter-widgets/controls",
      "model_module_version": "1.4.0",
      "model_name": "ButtonModel",
      "state": {
       "description": "Run Interact",
       "layout": "IPY_MODEL_b34953738dd343bd8b7234903d983206",
       "style": "IPY_MODEL_0f83bed178ce4d69973d5bbf44ce880d"
      }
     },
     "ab6b53565a0c4df08321ff0885c4eba9": {
      "model_module": "@jupyter-widgets/base",
      "model_module_version": "1.1.0",
      "model_name": "LayoutModel",
      "state": {}
     },
     "b34953738dd343bd8b7234903d983206": {
      "model_module": "@jupyter-widgets/base",
      "model_module_version": "1.1.0",
      "model_name": "LayoutModel",
      "state": {}
     },
     "b55417e806a14ccb8efeb750edd3dfe2": {
      "model_module": "@jupyter-widgets/base",
      "model_module_version": "1.1.0",
      "model_name": "LayoutModel",
      "state": {}
     },
     "b82f9e8ab4d44c20ae4f71ec23c1e73b": {
      "model_module": "@jupyter-widgets/controls",
      "model_module_version": "1.4.0",
      "model_name": "ButtonStyleModel",
      "state": {}
     },
     "bd828973d3544bd78ce9c721d95a5dfa": {
      "model_module": "@jupyter-widgets/controls",
      "model_module_version": "1.4.0",
      "model_name": "VBoxModel",
      "state": {
       "_dom_classes": [
        "widget-interact"
       ],
       "children": [
        "IPY_MODEL_aa50f520cf754e249e62bbf64dd8a08e",
        "IPY_MODEL_e649764fe36943c399e16c143188b45f"
       ],
       "layout": "IPY_MODEL_e3d0020d6aaa4cca900960ae31971b02"
      }
     },
     "c37cc642c7a9434eba1d8c0c6f99c589": {
      "model_module": "@jupyter-widgets/base",
      "model_module_version": "1.1.0",
      "model_name": "LayoutModel",
      "state": {}
     },
     "c63458700c414728b868f0c79968a3dc": {
      "model_module": "@jupyter-widgets/base",
      "model_module_version": "1.1.0",
      "model_name": "LayoutModel",
      "state": {}
     },
     "c982ff0d23e7438ba7192e08ae0b2a8c": {
      "model_module": "@jupyter-widgets/base",
      "model_module_version": "1.1.0",
      "model_name": "LayoutModel",
      "state": {}
     },
     "d10fbb4e553d473093e4b04f7f6c0187": {
      "model_module": "@jupyter-widgets/base",
      "model_module_version": "1.1.0",
      "model_name": "LayoutModel",
      "state": {}
     },
     "e3d0020d6aaa4cca900960ae31971b02": {
      "model_module": "@jupyter-widgets/base",
      "model_module_version": "1.1.0",
      "model_name": "LayoutModel",
      "state": {}
     },
     "e649764fe36943c399e16c143188b45f": {
      "model_module": "@jupyter-widgets/output",
      "model_module_version": "1.0.0",
      "model_name": "OutputModel",
      "state": {
       "layout": "IPY_MODEL_18546fe8b0eb42dfa02b027c44f19394"
      }
     },
     "e91ddd19cb264bc898a8db3bb9c54a67": {
      "model_module": "@jupyter-widgets/controls",
      "model_module_version": "1.4.0",
      "model_name": "ButtonStyleModel",
      "state": {}
     },
     "ef0e357ddaf641e4b4ac0995d053cea8": {
      "model_module": "@jupyter-widgets/controls",
      "model_module_version": "1.4.0",
      "model_name": "VBoxModel",
      "state": {
       "_dom_classes": [
        "widget-interact"
       ],
       "children": [
        "IPY_MODEL_9d1a59ef3315471c869cf7d595d909ca",
        "IPY_MODEL_1844929d12514b7797c66f082539d193"
       ],
       "layout": "IPY_MODEL_c37cc642c7a9434eba1d8c0c6f99c589"
      }
     }
    },
    "version_major": 2,
    "version_minor": 0
   }
  }
 },
 "nbformat": 4,
 "nbformat_minor": 2
}
