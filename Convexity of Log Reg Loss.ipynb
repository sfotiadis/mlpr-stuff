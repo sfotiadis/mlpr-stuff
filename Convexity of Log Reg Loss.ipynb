{
 "cells": [
  {
   "cell_type": "code",
   "execution_count": 110,
   "metadata": {},
   "outputs": [],
   "source": [
    "import numpy as np\n",
    "import matplotlib.pyplot as plt\n",
    "from ipywidgets import IntSlider\n",
    "from ipywidgets import FloatSlider, interact"
   ]
  },
  {
   "cell_type": "code",
   "execution_count": 111,
   "metadata": {},
   "outputs": [],
   "source": [
    "def sig(x):\n",
    "    return 1/(np.exp(-x)+1)"
   ]
  },
  {
   "cell_type": "code",
   "execution_count": 112,
   "metadata": {},
   "outputs": [],
   "source": [
    "sz = 100\n",
    "x = np.linspace(-1,1,sz)\n",
    "# x2 = x1\n",
    "y = np.random.randint(2, size=sz)\n",
    "\n",
    "ws=np.linspace(-3, 3, 100)"
   ]
  },
  {
   "cell_type": "code",
   "execution_count": 113,
   "metadata": {},
   "outputs": [],
   "source": [
    "wrs=IntSlider(min=0,max=30,step=1,value=10)"
   ]
  },
  {
   "cell_type": "code",
   "execution_count": 114,
   "metadata": {},
   "outputs": [
    {
     "data": {
      "application/vnd.jupyter.widget-view+json": {
       "model_id": "ab790905379046558246d2822365440a",
       "version_major": 2,
       "version_minor": 0
      },
      "text/plain": [
       "interactive(children=(IntSlider(value=10, description='wr', max=30), Output()), _dom_classes=('widget-interact…"
      ]
     },
     "metadata": {},
     "output_type": "display_data"
    }
   ],
   "source": [
    "interact(lossplot, wr=wrs);"
   ]
  },
  {
   "cell_type": "code",
   "execution_count": 115,
   "metadata": {},
   "outputs": [],
   "source": [
    "x = np.linspace(-1,1,sz)\n",
    "y = np.random.randint(2, size=sz)\n",
    "sz = 100\n",
    "\n",
    "def lossplote(wr, e):\n",
    "    ws=np.linspace(-wr, wr, 100)\n",
    "    ll = {}\n",
    "    for w in ws:\n",
    "        ll[w] = -np.log((1-e)*sig( (2*y-1) * w*x) + e/2).mean()\n",
    "\n",
    "    plt.plot(ll.keys(), ll.values());\n",
    "    plt.xlabel('w');\n",
    "    plt.ylabel('Mean loss');"
   ]
  },
  {
   "cell_type": "code",
   "execution_count": 120,
   "metadata": {},
   "outputs": [
    {
     "data": {
      "application/vnd.jupyter.widget-view+json": {
       "model_id": "fef9cb1a290b4d059ffb709178c104af",
       "version_major": 2,
       "version_minor": 0
      },
      "text/plain": [
       "interactive(children=(IntSlider(value=10, description='wr', max=30), FloatSlider(value=0.01, description='e', …"
      ]
     },
     "metadata": {},
     "output_type": "display_data"
    }
   ],
   "source": [
    "es = FloatSlider(value=0.01, min = 0, max = 1, step=0.01)\n",
    "interact(lossplote, wr=wrs, e=es, continuous_update=False);"
   ]
  }
 ],
 "metadata": {
  "kernelspec": {
   "display_name": "Python 3",
   "language": "python",
   "name": "python3"
  },
  "language_info": {
   "codemirror_mode": {
    "name": "ipython",
    "version": 3
   },
   "file_extension": ".py",
   "mimetype": "text/x-python",
   "name": "python",
   "nbconvert_exporter": "python",
   "pygments_lexer": "ipython3",
   "version": "3.6.6"
  },
  "widgets": {
   "application/vnd.jupyter.widget-state+json": {
    "state": {
     "02cb4d8feff7441589f59271ebd10354": {
      "model_module": "@jupyter-widgets/controls",
      "model_module_version": "1.4.0",
      "model_name": "IntSliderModel",
      "state": {
       "description": "wr",
       "layout": "IPY_MODEL_56ed93c5c6bc4d4c92b922f22d346740",
       "max": 30,
       "style": "IPY_MODEL_a87dab849a76405aa2c699ed408e0ca9",
       "value": 10
      }
     },
     "045af6d10b714c16b4d9a9b33c6cf02e": {
      "model_module": "@jupyter-widgets/controls",
      "model_module_version": "1.4.0",
      "model_name": "SliderStyleModel",
      "state": {
       "description_width": ""
      }
     },
     "067a5471cd8942e58dabf1502ce6a0a9": {
      "model_module": "@jupyter-widgets/base",
      "model_module_version": "1.1.0",
      "model_name": "LayoutModel",
      "state": {}
     },
     "08010b82a8d44f229ad5afe18cd668fc": {
      "model_module": "@jupyter-widgets/base",
      "model_module_version": "1.1.0",
      "model_name": "LayoutModel",
      "state": {}
     },
     "093bb1d58f4b4318b2f1b79c27150c34": {
      "model_module": "@jupyter-widgets/output",
      "model_module_version": "1.0.0",
      "model_name": "OutputModel",
      "state": {
       "layout": "IPY_MODEL_768cb926b5e249eca5f58ccecc89b850",
       "outputs": [
        {
         "data": {
          "image/png": "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\n",
          "text/plain": "<Figure size 432x288 with 1 Axes>"
         },
         "metadata": {
          "needs_background": "light"
         },
         "output_type": "display_data"
        }
       ]
      }
     },
     "09c0ee0fc6524e4cb3bf92903ef6d214": {
      "model_module": "@jupyter-widgets/base",
      "model_module_version": "1.1.0",
      "model_name": "LayoutModel",
      "state": {}
     },
     "0f3c453420e44609a179668fd217f61e": {
      "model_module": "@jupyter-widgets/controls",
      "model_module_version": "1.4.0",
      "model_name": "SliderStyleModel",
      "state": {
       "description_width": ""
      }
     },
     "10fec77086d847f994a977750be20df6": {
      "model_module": "@jupyter-widgets/controls",
      "model_module_version": "1.4.0",
      "model_name": "FloatSliderModel",
      "state": {
       "layout": "IPY_MODEL_1cb81b52bfdd4f8aa9af270fe0f7ad76",
       "step": 0.1,
       "style": "IPY_MODEL_0f3c453420e44609a179668fd217f61e",
       "value": 3
      }
     },
     "1317192f9182451ca65eced27b240802": {
      "model_module": "@jupyter-widgets/controls",
      "model_module_version": "1.4.0",
      "model_name": "SliderStyleModel",
      "state": {
       "description_width": ""
      }
     },
     "1336e630bfc84bcbaafbd43ab395e010": {
      "model_module": "@jupyter-widgets/base",
      "model_module_version": "1.1.0",
      "model_name": "LayoutModel",
      "state": {}
     },
     "1cb81b52bfdd4f8aa9af270fe0f7ad76": {
      "model_module": "@jupyter-widgets/base",
      "model_module_version": "1.1.0",
      "model_name": "LayoutModel",
      "state": {}
     },
     "1e3067accb084d168c14afb9975459aa": {
      "model_module": "@jupyter-widgets/controls",
      "model_module_version": "1.4.0",
      "model_name": "VBoxModel",
      "state": {
       "_dom_classes": [
        "widget-interact"
       ],
       "children": [
        "IPY_MODEL_1e43d35ff9c241c682ae72d8dc60d8ae",
        "IPY_MODEL_e60d77ef835841e88485488add53292a"
       ],
       "layout": "IPY_MODEL_d923676b05f047799767e69bfc115b70"
      }
     },
     "1e43d35ff9c241c682ae72d8dc60d8ae": {
      "model_module": "@jupyter-widgets/controls",
      "model_module_version": "1.4.0",
      "model_name": "IntSliderModel",
      "state": {
       "description": "wr",
       "layout": "IPY_MODEL_59ce287adbc14126bc5ee0d8b2ba3a14",
       "max": 30,
       "min": -10,
       "style": "IPY_MODEL_045af6d10b714c16b4d9a9b33c6cf02e",
       "value": 2
      }
     },
     "2b90b1e0a56a4480bfcfffdc3f94c2c7": {
      "model_module": "@jupyter-widgets/output",
      "model_module_version": "1.0.0",
      "model_name": "OutputModel",
      "state": {
       "layout": "IPY_MODEL_4aa4fde6a90e4478988276be432937a6",
       "outputs": [
        {
         "name": "stderr",
         "output_type": "stream",
         "text": "/Users/stathis/anaconda3/envs/mlpr/lib/python3.6/site-packages/ipykernel_launcher.py:9: RuntimeWarning: invalid value encountered in log\n  if __name__ == '__main__':\n"
        },
        {
         "data": {
          "image/png": "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\n",
          "text/plain": "<Figure size 432x288 with 1 Axes>"
         },
         "metadata": {
          "needs_background": "light"
         },
         "output_type": "display_data"
        }
       ]
      }
     },
     "2d4b5ae9e6884c49addafbe1b8a86e39": {
      "model_module": "@jupyter-widgets/controls",
      "model_module_version": "1.4.0",
      "model_name": "VBoxModel",
      "state": {
       "_dom_classes": [
        "widget-interact"
       ],
       "children": [
        "IPY_MODEL_64632cfd170240fd940e50944536b49b",
        "IPY_MODEL_a411df9f8d8547d690a4a8e7531f34b9",
        "IPY_MODEL_2b90b1e0a56a4480bfcfffdc3f94c2c7"
       ],
       "layout": "IPY_MODEL_3947a20cc48f41c8afa70ec650405cb4"
      }
     },
     "2fc9c2d30b3d4b48bea7084857808d93": {
      "model_module": "@jupyter-widgets/base",
      "model_module_version": "1.1.0",
      "model_name": "LayoutModel",
      "state": {}
     },
     "3225034c559648f79930b5d463c565b5": {
      "model_module": "@jupyter-widgets/controls",
      "model_module_version": "1.4.0",
      "model_name": "IntSliderModel",
      "state": {
       "description": "x",
       "layout": "IPY_MODEL_456501bd90a2476d8737a27cfae9b239",
       "max": 30,
       "min": -10,
       "style": "IPY_MODEL_ddb72815458e4a878716ba1959593444",
       "value": 10
      }
     },
     "35df534bfa5b430ba74df3328d760954": {
      "model_module": "@jupyter-widgets/controls",
      "model_module_version": "1.4.0",
      "model_name": "SliderStyleModel",
      "state": {
       "description_width": ""
      }
     },
     "37020723720c491bb0bf3519ca862de5": {
      "model_module": "@jupyter-widgets/base",
      "model_module_version": "1.1.0",
      "model_name": "LayoutModel",
      "state": {}
     },
     "3947a20cc48f41c8afa70ec650405cb4": {
      "model_module": "@jupyter-widgets/base",
      "model_module_version": "1.1.0",
      "model_name": "LayoutModel",
      "state": {}
     },
     "3a54445022dd438b93af8507b65095b9": {
      "model_module": "@jupyter-widgets/base",
      "model_module_version": "1.1.0",
      "model_name": "LayoutModel",
      "state": {}
     },
     "4220d936db124cf6a8ef16551f808cfa": {
      "model_module": "@jupyter-widgets/controls",
      "model_module_version": "1.4.0",
      "model_name": "IntSliderModel",
      "state": {
       "description": "wr",
       "layout": "IPY_MODEL_5afa9a7738404ef19f732d7d14345af5",
       "max": 30,
       "min": -10,
       "style": "IPY_MODEL_8235603115fe4c4ea8fc0e3377ea7fc9",
       "value": 7
      }
     },
     "456501bd90a2476d8737a27cfae9b239": {
      "model_module": "@jupyter-widgets/base",
      "model_module_version": "1.1.0",
      "model_name": "LayoutModel",
      "state": {}
     },
     "4aa4fde6a90e4478988276be432937a6": {
      "model_module": "@jupyter-widgets/base",
      "model_module_version": "1.1.0",
      "model_name": "LayoutModel",
      "state": {}
     },
     "4abda5ce181a475e9a3af45b68cebb7f": {
      "model_module": "@jupyter-widgets/output",
      "model_module_version": "1.0.0",
      "model_name": "OutputModel",
      "state": {
       "layout": "IPY_MODEL_952aae706dce4e328aa1408bffe840fd",
       "outputs": [
        {
         "data": {
          "image/png": "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\n",
          "text/plain": "<Figure size 432x288 with 1 Axes>"
         },
         "metadata": {
          "needs_background": "light"
         },
         "output_type": "display_data"
        }
       ]
      }
     },
     "4bfca5caa8fb4ef2a94d4aa52f7a2184": {
      "model_module": "@jupyter-widgets/base",
      "model_module_version": "1.1.0",
      "model_name": "LayoutModel",
      "state": {}
     },
     "4e70e900d540493ab2c62ecb31b66ea8": {
      "model_module": "@jupyter-widgets/base",
      "model_module_version": "1.1.0",
      "model_name": "LayoutModel",
      "state": {}
     },
     "4f41e22ed3da46038b9b5eb54b2607f9": {
      "model_module": "@jupyter-widgets/base",
      "model_module_version": "1.1.0",
      "model_name": "LayoutModel",
      "state": {}
     },
     "56a40af2b4514e95b8469da6c2d3a3f0": {
      "model_module": "@jupyter-widgets/base",
      "model_module_version": "1.1.0",
      "model_name": "LayoutModel",
      "state": {}
     },
     "56ed93c5c6bc4d4c92b922f22d346740": {
      "model_module": "@jupyter-widgets/base",
      "model_module_version": "1.1.0",
      "model_name": "LayoutModel",
      "state": {}
     },
     "58a11c3689de4e5587c8acbf51ac9aee": {
      "model_module": "@jupyter-widgets/controls",
      "model_module_version": "1.4.0",
      "model_name": "FloatSliderModel",
      "state": {
       "description": "e",
       "layout": "IPY_MODEL_8d571cedcc6d4b268d1ef7b07a9538c8",
       "max": 1,
       "step": 0.01,
       "style": "IPY_MODEL_fba52a998ade4bd78520189723b6ef0b",
       "value": 0.01
      }
     },
     "59ce287adbc14126bc5ee0d8b2ba3a14": {
      "model_module": "@jupyter-widgets/base",
      "model_module_version": "1.1.0",
      "model_name": "LayoutModel",
      "state": {}
     },
     "5a6945f76bf2413cbee5be7d25a44e22": {
      "model_module": "@jupyter-widgets/controls",
      "model_module_version": "1.4.0",
      "model_name": "VBoxModel",
      "state": {
       "_dom_classes": [
        "widget-interact"
       ],
       "children": [
        "IPY_MODEL_3225034c559648f79930b5d463c565b5",
        "IPY_MODEL_b213392f01c942f8829df120bf090754"
       ],
       "layout": "IPY_MODEL_8e4e6bf9ebfd41d8a87b7761eb43f3ad"
      }
     },
     "5afa9a7738404ef19f732d7d14345af5": {
      "model_module": "@jupyter-widgets/base",
      "model_module_version": "1.1.0",
      "model_name": "LayoutModel",
      "state": {}
     },
     "600f2db1630f4cf99191e64caf0a9d79": {
      "model_module": "@jupyter-widgets/base",
      "model_module_version": "1.1.0",
      "model_name": "LayoutModel",
      "state": {}
     },
     "6119cc81bdfe43b3915d912526c9dd3c": {
      "model_module": "@jupyter-widgets/controls",
      "model_module_version": "1.4.0",
      "model_name": "FloatSliderModel",
      "state": {
       "description": "e",
       "layout": "IPY_MODEL_3a54445022dd438b93af8507b65095b9",
       "max": 0.03,
       "min": -0.01,
       "step": 0.1,
       "style": "IPY_MODEL_adc1c064ced347dca29b4e1f08e4e237",
       "value": 0.01
      }
     },
     "64632cfd170240fd940e50944536b49b": {
      "model_module": "@jupyter-widgets/controls",
      "model_module_version": "1.4.0",
      "model_name": "IntSliderModel",
      "state": {
       "description": "wr",
       "layout": "IPY_MODEL_c1e4d74ec42e46119f89759fa633f1f1",
       "max": 30,
       "min": -10,
       "style": "IPY_MODEL_731f6104efc24391acdd7d56086c93f7",
       "value": 10
      }
     },
     "653183e02c34498f8078301def0acc04": {
      "model_module": "@jupyter-widgets/controls",
      "model_module_version": "1.4.0",
      "model_name": "VBoxModel",
      "state": {
       "_dom_classes": [
        "widget-interact"
       ],
       "children": [
        "IPY_MODEL_d05b22dbe6144ef29cf0626faa35a345",
        "IPY_MODEL_d964fc66791b47b5963d742e2af7a287"
       ],
       "layout": "IPY_MODEL_83e09c57d3fc457e9321e1091703d103"
      }
     },
     "6a079cc86d90473c96894834152a2036": {
      "model_module": "@jupyter-widgets/base",
      "model_module_version": "1.1.0",
      "model_name": "LayoutModel",
      "state": {}
     },
     "731f6104efc24391acdd7d56086c93f7": {
      "model_module": "@jupyter-widgets/controls",
      "model_module_version": "1.4.0",
      "model_name": "SliderStyleModel",
      "state": {
       "description_width": ""
      }
     },
     "7436e4c9c9114437b657ffc7d0bd495a": {
      "model_module": "@jupyter-widgets/base",
      "model_module_version": "1.1.0",
      "model_name": "LayoutModel",
      "state": {}
     },
     "768cb926b5e249eca5f58ccecc89b850": {
      "model_module": "@jupyter-widgets/base",
      "model_module_version": "1.1.0",
      "model_name": "LayoutModel",
      "state": {}
     },
     "8235603115fe4c4ea8fc0e3377ea7fc9": {
      "model_module": "@jupyter-widgets/controls",
      "model_module_version": "1.4.0",
      "model_name": "SliderStyleModel",
      "state": {
       "description_width": ""
      }
     },
     "8237528619df4b1289044dbc0eddce88": {
      "model_module": "@jupyter-widgets/controls",
      "model_module_version": "1.4.0",
      "model_name": "VBoxModel",
      "state": {
       "_dom_classes": [
        "widget-interact"
       ],
       "children": [
        "IPY_MODEL_f3d3631741eb4bf29b43a6b358a31203",
        "IPY_MODEL_c36898f883514cf7933c2b71ca23dda6",
        "IPY_MODEL_eb45a38c6b9741879911e6157f96ec7c"
       ],
       "layout": "IPY_MODEL_7436e4c9c9114437b657ffc7d0bd495a"
      }
     },
     "83e09c57d3fc457e9321e1091703d103": {
      "model_module": "@jupyter-widgets/base",
      "model_module_version": "1.1.0",
      "model_name": "LayoutModel",
      "state": {}
     },
     "8c597398b415410d9ac6a6b39dda12e9": {
      "model_module": "@jupyter-widgets/controls",
      "model_module_version": "1.4.0",
      "model_name": "VBoxModel",
      "state": {
       "_dom_classes": [
        "widget-interact"
       ],
       "children": [
        "IPY_MODEL_f3d3631741eb4bf29b43a6b358a31203",
        "IPY_MODEL_6119cc81bdfe43b3915d912526c9dd3c",
        "IPY_MODEL_093bb1d58f4b4318b2f1b79c27150c34"
       ],
       "layout": "IPY_MODEL_e727f1f2eff747b283d73c960c24a900"
      }
     },
     "8d571cedcc6d4b268d1ef7b07a9538c8": {
      "model_module": "@jupyter-widgets/base",
      "model_module_version": "1.1.0",
      "model_name": "LayoutModel",
      "state": {}
     },
     "8e4e6bf9ebfd41d8a87b7761eb43f3ad": {
      "model_module": "@jupyter-widgets/base",
      "model_module_version": "1.1.0",
      "model_name": "LayoutModel",
      "state": {}
     },
     "913cebd7a7f64cf9bd1454e1131f204a": {
      "model_module": "@jupyter-widgets/controls",
      "model_module_version": "1.4.0",
      "model_name": "VBoxModel",
      "state": {
       "_dom_classes": [
        "widget-interact"
       ],
       "children": [
        "IPY_MODEL_4220d936db124cf6a8ef16551f808cfa",
        "IPY_MODEL_4abda5ce181a475e9a3af45b68cebb7f"
       ],
       "layout": "IPY_MODEL_600f2db1630f4cf99191e64caf0a9d79"
      }
     },
     "952aae706dce4e328aa1408bffe840fd": {
      "model_module": "@jupyter-widgets/base",
      "model_module_version": "1.1.0",
      "model_name": "LayoutModel",
      "state": {}
     },
     "9cec4b74fad847c5bf573dd764790b74": {
      "model_module": "@jupyter-widgets/controls",
      "model_module_version": "1.4.0",
      "model_name": "SliderStyleModel",
      "state": {
       "description_width": ""
      }
     },
     "a074de821c7b45048f3387015dc5b0c2": {
      "model_module": "@jupyter-widgets/controls",
      "model_module_version": "1.4.0",
      "model_name": "VBoxModel",
      "state": {
       "_dom_classes": [
        "widget-interact"
       ],
       "children": [
        "IPY_MODEL_f3d3631741eb4bf29b43a6b358a31203",
        "IPY_MODEL_d3ceb22f920f49579f25d38611dcf397",
        "IPY_MODEL_ede258b5d98a45799baa8169c6d70a00"
       ],
       "layout": "IPY_MODEL_09c0ee0fc6524e4cb3bf92903ef6d214"
      }
     },
     "a37c47ba6cf4429ca0ee8945b66e5306": {
      "model_module": "@jupyter-widgets/base",
      "model_module_version": "1.1.0",
      "model_name": "LayoutModel",
      "state": {}
     },
     "a411df9f8d8547d690a4a8e7531f34b9": {
      "model_module": "@jupyter-widgets/controls",
      "model_module_version": "1.4.0",
      "model_name": "FloatSliderModel",
      "state": {
       "description": "e",
       "layout": "IPY_MODEL_067a5471cd8942e58dabf1502ce6a0a9",
       "max": 0.03,
       "min": -0.01,
       "step": 0.1,
       "style": "IPY_MODEL_b069d4fcdbf54c3b99af6c1b26f5f688",
       "value": -0.01
      }
     },
     "a57a3e54ba9b450299890d8e971f28f6": {
      "model_module": "@jupyter-widgets/base",
      "model_module_version": "1.1.0",
      "model_name": "LayoutModel",
      "state": {}
     },
     "a87dab849a76405aa2c699ed408e0ca9": {
      "model_module": "@jupyter-widgets/controls",
      "model_module_version": "1.4.0",
      "model_name": "SliderStyleModel",
      "state": {
       "description_width": ""
      }
     },
     "ab790905379046558246d2822365440a": {
      "model_module": "@jupyter-widgets/controls",
      "model_module_version": "1.4.0",
      "model_name": "VBoxModel",
      "state": {
       "_dom_classes": [
        "widget-interact"
       ],
       "children": [
        "IPY_MODEL_f3d3631741eb4bf29b43a6b358a31203",
        "IPY_MODEL_ff6303da1e6e40938da401fdee22c861"
       ],
       "layout": "IPY_MODEL_56a40af2b4514e95b8469da6c2d3a3f0"
      }
     },
     "adc1c064ced347dca29b4e1f08e4e237": {
      "model_module": "@jupyter-widgets/controls",
      "model_module_version": "1.4.0",
      "model_name": "SliderStyleModel",
      "state": {
       "description_width": ""
      }
     },
     "b069d4fcdbf54c3b99af6c1b26f5f688": {
      "model_module": "@jupyter-widgets/controls",
      "model_module_version": "1.4.0",
      "model_name": "SliderStyleModel",
      "state": {
       "description_width": ""
      }
     },
     "b213392f01c942f8829df120bf090754": {
      "model_module": "@jupyter-widgets/output",
      "model_module_version": "1.0.0",
      "model_name": "OutputModel",
      "state": {
       "layout": "IPY_MODEL_4e70e900d540493ab2c62ecb31b66ea8",
       "outputs": [
        {
         "data": {
          "image/png": "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\n",
          "text/plain": "<Figure size 432x288 with 1 Axes>"
         },
         "metadata": {
          "needs_background": "light"
         },
         "output_type": "display_data"
        }
       ]
      }
     },
     "c1e4d74ec42e46119f89759fa633f1f1": {
      "model_module": "@jupyter-widgets/base",
      "model_module_version": "1.1.0",
      "model_name": "LayoutModel",
      "state": {}
     },
     "c2f9378886694d6a908f97219934e137": {
      "model_module": "@jupyter-widgets/output",
      "model_module_version": "1.0.0",
      "model_name": "OutputModel",
      "state": {
       "layout": "IPY_MODEL_2fc9c2d30b3d4b48bea7084857808d93",
       "outputs": [
        {
         "data": {
          "image/png": "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\n",
          "text/plain": "<Figure size 432x288 with 1 Axes>"
         },
         "metadata": {
          "needs_background": "light"
         },
         "output_type": "display_data"
        }
       ]
      }
     },
     "c36898f883514cf7933c2b71ca23dda6": {
      "model_module": "@jupyter-widgets/controls",
      "model_module_version": "1.4.0",
      "model_name": "FloatSliderModel",
      "state": {
       "description": "e",
       "layout": "IPY_MODEL_cc0e59b5f8484b929d068de186808d60",
       "max": 1,
       "step": 0.01,
       "style": "IPY_MODEL_35df534bfa5b430ba74df3328d760954"
      }
     },
     "c75eee02cfed4a7fb66076a48538b01c": {
      "model_module": "@jupyter-widgets/base",
      "model_module_version": "1.1.0",
      "model_name": "LayoutModel",
      "state": {}
     },
     "cc0e59b5f8484b929d068de186808d60": {
      "model_module": "@jupyter-widgets/base",
      "model_module_version": "1.1.0",
      "model_name": "LayoutModel",
      "state": {}
     },
     "d05b22dbe6144ef29cf0626faa35a345": {
      "model_module": "@jupyter-widgets/controls",
      "model_module_version": "1.4.0",
      "model_name": "IntSliderModel",
      "state": {
       "description": "wr",
       "layout": "IPY_MODEL_37020723720c491bb0bf3519ca862de5",
       "max": 30,
       "min": -10,
       "style": "IPY_MODEL_d8e98dd1befc4c7093af8701962d707b",
       "value": -10
      }
     },
     "d129f8503cd741dfbdba1701bc43d56e": {
      "model_module": "@jupyter-widgets/base",
      "model_module_version": "1.1.0",
      "model_name": "LayoutModel",
      "state": {}
     },
     "d3ceb22f920f49579f25d38611dcf397": {
      "model_module": "@jupyter-widgets/controls",
      "model_module_version": "1.4.0",
      "model_name": "FloatSliderModel",
      "state": {
       "description": "e",
       "layout": "IPY_MODEL_a57a3e54ba9b450299890d8e971f28f6",
       "max": 1,
       "min": 0.0001,
       "step": 0.1,
       "style": "IPY_MODEL_9cec4b74fad847c5bf573dd764790b74",
       "value": 0.0001
      }
     },
     "d880a9b7a4b14ed69079b140d4608d9d": {
      "model_module": "@jupyter-widgets/controls",
      "model_module_version": "1.4.0",
      "model_name": "VBoxModel",
      "state": {
       "_dom_classes": [
        "widget-interact"
       ],
       "layout": "IPY_MODEL_a37c47ba6cf4429ca0ee8945b66e5306"
      }
     },
     "d8e98dd1befc4c7093af8701962d707b": {
      "model_module": "@jupyter-widgets/controls",
      "model_module_version": "1.4.0",
      "model_name": "SliderStyleModel",
      "state": {
       "description_width": ""
      }
     },
     "d923676b05f047799767e69bfc115b70": {
      "model_module": "@jupyter-widgets/base",
      "model_module_version": "1.1.0",
      "model_name": "LayoutModel",
      "state": {}
     },
     "d964fc66791b47b5963d742e2af7a287": {
      "model_module": "@jupyter-widgets/output",
      "model_module_version": "1.0.0",
      "model_name": "OutputModel",
      "state": {
       "layout": "IPY_MODEL_c75eee02cfed4a7fb66076a48538b01c",
       "outputs": [
        {
         "data": {
          "image/png": "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\n",
          "text/plain": "<Figure size 432x288 with 1 Axes>"
         },
         "metadata": {
          "needs_background": "light"
         },
         "output_type": "display_data"
        }
       ]
      }
     },
     "dd9254df7d3041e4b7d578b945190b5b": {
      "model_module": "@jupyter-widgets/base",
      "model_module_version": "1.1.0",
      "model_name": "LayoutModel",
      "state": {}
     },
     "ddb72815458e4a878716ba1959593444": {
      "model_module": "@jupyter-widgets/controls",
      "model_module_version": "1.4.0",
      "model_name": "SliderStyleModel",
      "state": {
       "description_width": ""
      }
     },
     "e0f563b11bca4dd2a89e3f639d6b33a3": {
      "model_module": "@jupyter-widgets/base",
      "model_module_version": "1.1.0",
      "model_name": "LayoutModel",
      "state": {}
     },
     "e3956c87612448539fd1881b9ea1cdd1": {
      "model_module": "@jupyter-widgets/controls",
      "model_module_version": "1.4.0",
      "model_name": "VBoxModel",
      "state": {
       "_dom_classes": [
        "widget-interact"
       ],
       "children": [
        "IPY_MODEL_02cb4d8feff7441589f59271ebd10354",
        "IPY_MODEL_ff0a952f20984e4d9367b6885edbe596"
       ],
       "layout": "IPY_MODEL_4f41e22ed3da46038b9b5eb54b2607f9"
      }
     },
     "e60d77ef835841e88485488add53292a": {
      "model_module": "@jupyter-widgets/output",
      "model_module_version": "1.0.0",
      "model_name": "OutputModel",
      "state": {
       "layout": "IPY_MODEL_e0f563b11bca4dd2a89e3f639d6b33a3",
       "outputs": [
        {
         "data": {
          "image/png": "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\n",
          "text/plain": "<Figure size 432x288 with 1 Axes>"
         },
         "metadata": {
          "needs_background": "light"
         },
         "output_type": "display_data"
        }
       ]
      }
     },
     "e727f1f2eff747b283d73c960c24a900": {
      "model_module": "@jupyter-widgets/base",
      "model_module_version": "1.1.0",
      "model_name": "LayoutModel",
      "state": {}
     },
     "eb45a38c6b9741879911e6157f96ec7c": {
      "model_module": "@jupyter-widgets/output",
      "model_module_version": "1.0.0",
      "model_name": "OutputModel",
      "state": {
       "layout": "IPY_MODEL_6a079cc86d90473c96894834152a2036",
       "outputs": [
        {
         "data": {
          "image/png": "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\n",
          "text/plain": "<Figure size 432x288 with 1 Axes>"
         },
         "metadata": {
          "needs_background": "light"
         },
         "output_type": "display_data"
        }
       ]
      }
     },
     "ede258b5d98a45799baa8169c6d70a00": {
      "model_module": "@jupyter-widgets/output",
      "model_module_version": "1.0.0",
      "model_name": "OutputModel",
      "state": {
       "layout": "IPY_MODEL_4bfca5caa8fb4ef2a94d4aa52f7a2184",
       "outputs": [
        {
         "data": {
          "image/png": "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\n",
          "text/plain": "<Figure size 432x288 with 1 Axes>"
         },
         "metadata": {
          "needs_background": "light"
         },
         "output_type": "display_data"
        }
       ]
      }
     },
     "f3d3631741eb4bf29b43a6b358a31203": {
      "model_module": "@jupyter-widgets/controls",
      "model_module_version": "1.4.0",
      "model_name": "IntSliderModel",
      "state": {
       "description": "wr",
       "layout": "IPY_MODEL_1336e630bfc84bcbaafbd43ab395e010",
       "max": 30,
       "style": "IPY_MODEL_1317192f9182451ca65eced27b240802",
       "value": 10
      }
     },
     "fba52a998ade4bd78520189723b6ef0b": {
      "model_module": "@jupyter-widgets/controls",
      "model_module_version": "1.4.0",
      "model_name": "SliderStyleModel",
      "state": {
       "description_width": ""
      }
     },
     "fef9cb1a290b4d059ffb709178c104af": {
      "model_module": "@jupyter-widgets/controls",
      "model_module_version": "1.4.0",
      "model_name": "VBoxModel",
      "state": {
       "_dom_classes": [
        "widget-interact"
       ],
       "children": [
        "IPY_MODEL_f3d3631741eb4bf29b43a6b358a31203",
        "IPY_MODEL_58a11c3689de4e5587c8acbf51ac9aee",
        "IPY_MODEL_c2f9378886694d6a908f97219934e137"
       ],
       "layout": "IPY_MODEL_d129f8503cd741dfbdba1701bc43d56e"
      }
     },
     "ff0a952f20984e4d9367b6885edbe596": {
      "model_module": "@jupyter-widgets/output",
      "model_module_version": "1.0.0",
      "model_name": "OutputModel",
      "state": {
       "layout": "IPY_MODEL_08010b82a8d44f229ad5afe18cd668fc",
       "outputs": [
        {
         "data": {
          "image/png": "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\n",
          "text/plain": "<Figure size 432x288 with 1 Axes>"
         },
         "metadata": {
          "needs_background": "light"
         },
         "output_type": "display_data"
        }
       ]
      }
     },
     "ff6303da1e6e40938da401fdee22c861": {
      "model_module": "@jupyter-widgets/output",
      "model_module_version": "1.0.0",
      "model_name": "OutputModel",
      "state": {
       "layout": "IPY_MODEL_dd9254df7d3041e4b7d578b945190b5b",
       "outputs": [
        {
         "data": {
          "image/png": "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\n",
          "text/plain": "<Figure size 432x288 with 1 Axes>"
         },
         "metadata": {
          "needs_background": "light"
         },
         "output_type": "display_data"
        }
       ]
      }
     }
    },
    "version_major": 2,
    "version_minor": 0
   }
  }
 },
 "nbformat": 4,
 "nbformat_minor": 2
}
