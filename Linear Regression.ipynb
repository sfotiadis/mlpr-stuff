{
 "cells": [
  {
   "cell_type": "code",
   "execution_count": 103,
   "metadata": {},
   "outputs": [],
   "source": [
    "import numpy as np"
   ]
  },
  {
   "cell_type": "code",
   "execution_count": 104,
   "metadata": {},
   "outputs": [],
   "source": [
    "N = 10\n",
    "D = 5\n",
    "mu = np.random.rand(N, 1)"
   ]
  },
  {
   "cell_type": "code",
   "execution_count": 118,
   "metadata": {},
   "outputs": [
    {
     "data": {
      "text/plain": [
       "(10, 1)"
      ]
     },
     "execution_count": 118,
     "metadata": {},
     "output_type": "execute_result"
    }
   ],
   "source": [
    "mu.shape"
   ]
  },
  {
   "cell_type": "code",
   "execution_count": 106,
   "metadata": {},
   "outputs": [],
   "source": [
    "X = np.tile(mu,  D) + 0.01*np.random.randn(N, D)"
   ]
  },
  {
   "cell_type": "code",
   "execution_count": 107,
   "metadata": {
    "scrolled": false
   },
   "outputs": [],
   "source": [
    "yy = mu + 0.1*np.random.randn(N,1)"
   ]
  },
  {
   "cell_type": "code",
   "execution_count": 108,
   "metadata": {},
   "outputs": [
    {
     "data": {
      "text/plain": [
       "array([[-0.03707708],\n",
       "       [ 0.76168091],\n",
       "       [ 0.07321083],\n",
       "       [ 0.78700874],\n",
       "       [ 0.03851095],\n",
       "       [ 0.98279704],\n",
       "       [ 0.99480649],\n",
       "       [ 0.53249316],\n",
       "       [ 0.43311187],\n",
       "       [ 0.2044777 ]])"
      ]
     },
     "execution_count": 108,
     "metadata": {},
     "output_type": "execute_result"
    }
   ],
   "source": [
    "yy"
   ]
  },
  {
   "cell_type": "code",
   "execution_count": 109,
   "metadata": {},
   "outputs": [
    {
     "name": "stderr",
     "output_type": "stream",
     "text": [
      "/Users/stathis/anaconda3/envs/mlpr/lib/python3.6/site-packages/ipykernel_launcher.py:1: FutureWarning: `rcond` parameter will change to the default of machine precision times ``max(M, N)`` where M and N are the input matrix dimensions.\n",
      "To use the future default and silence this warning we advise to pass `rcond=None`, to keep using the old, explicitly pass `rcond=-1`.\n",
      "  \"\"\"Entry point for launching an IPython kernel.\n"
     ]
    }
   ],
   "source": [
    "w_fit = np.linalg.lstsq(X, yy)[0]\n"
   ]
  },
  {
   "cell_type": "code",
   "execution_count": 110,
   "metadata": {},
   "outputs": [
    {
     "data": {
      "text/plain": [
       "array([[-0.00100583, -0.0038645 ,  0.01471907,  0.01278415, -0.01599315],\n",
       "       [ 0.82338479,  0.80593344,  0.82142759,  0.80406128,  0.79640659],\n",
       "       [ 0.21529474,  0.19399986,  0.1989811 ,  0.19730747,  0.21307252],\n",
       "       [ 0.78268778,  0.77996089,  0.77147121,  0.78782065,  0.79018983],\n",
       "       [ 0.0048578 ,  0.01982628,  0.01644526,  0.02118201,  0.02319237],\n",
       "       [ 0.78689321,  0.76378892,  0.758946  ,  0.7782952 ,  0.79022292],\n",
       "       [ 0.94130979,  0.92652798,  0.91838645,  0.92542831,  0.91684177],\n",
       "       [ 0.49262834,  0.48247419,  0.49886801,  0.50010415,  0.50585071],\n",
       "       [ 0.47880251,  0.4452168 ,  0.4673387 ,  0.45740879,  0.46007707],\n",
       "       [ 0.10132773,  0.09441814,  0.10100736,  0.09619209,  0.08896423]])"
      ]
     },
     "execution_count": 110,
     "metadata": {},
     "output_type": "execute_result"
    }
   ],
   "source": [
    "X"
   ]
  },
  {
   "cell_type": "code",
   "execution_count": 111,
   "metadata": {},
   "outputs": [
    {
     "data": {
      "text/plain": [
       "array([[-0.03707708],\n",
       "       [ 0.76168091],\n",
       "       [ 0.07321083],\n",
       "       [ 0.78700874],\n",
       "       [ 0.03851095],\n",
       "       [ 0.98279704],\n",
       "       [ 0.99480649],\n",
       "       [ 0.53249316],\n",
       "       [ 0.43311187],\n",
       "       [ 0.2044777 ]])"
      ]
     },
     "execution_count": 111,
     "metadata": {},
     "output_type": "execute_result"
    }
   ],
   "source": [
    "yy"
   ]
  },
  {
   "cell_type": "code",
   "execution_count": 112,
   "metadata": {},
   "outputs": [
    {
     "data": {
      "text/plain": [
       "array([[ 1.13613156],\n",
       "       [-0.15306144],\n",
       "       [-5.24190707],\n",
       "       [ 6.36176145],\n",
       "       [-1.08842579]])"
      ]
     },
     "execution_count": 112,
     "metadata": {},
     "output_type": "execute_result"
    }
   ],
   "source": [
    "w_fit"
   ]
  },
  {
   "cell_type": "code",
   "execution_count": 117,
   "metadata": {},
   "outputs": [
    {
     "data": {
      "text/plain": [
       "0.202899740843204"
      ]
     },
     "execution_count": 117,
     "metadata": {},
     "output_type": "execute_result"
    }
   ],
   "source": [
    "np.mean(w_fit)"
   ]
  },
  {
   "cell_type": "code",
   "execution_count": 113,
   "metadata": {},
   "outputs": [
    {
     "data": {
      "text/plain": [
       "array([[0.02102982],\n",
       "       [0.75468559],\n",
       "       [0.19517822],\n",
       "       [0.87773799],\n",
       "       [0.02579166],\n",
       "       [0.89001257],\n",
       "       [1.00297952],\n",
       "       [0.50178498],\n",
       "       [0.43525693],\n",
       "       [0.08631885]])"
      ]
     },
     "execution_count": 113,
     "metadata": {},
     "output_type": "execute_result"
    }
   ],
   "source": [
    "np.matmul(X, w_fit)"
   ]
  },
  {
   "cell_type": "code",
   "execution_count": 114,
   "metadata": {},
   "outputs": [
    {
     "data": {
      "text/plain": [
       "0.4570292517664114"
      ]
     },
     "execution_count": 114,
     "metadata": {},
     "output_type": "execute_result"
    }
   ],
   "source": [
    "np.mean(X)"
   ]
  },
  {
   "cell_type": "code",
   "execution_count": 115,
   "metadata": {},
   "outputs": [],
   "source": [
    "w_fit2 = np.ones([5,1 ])/5"
   ]
  },
  {
   "cell_type": "code",
   "execution_count": 116,
   "metadata": {},
   "outputs": [
    {
     "data": {
      "text/plain": [
       "array([[0.00132795],\n",
       "       [0.81024274],\n",
       "       [0.20373114],\n",
       "       [0.78242607],\n",
       "       [0.01710074],\n",
       "       [0.77562925],\n",
       "       [0.92569886],\n",
       "       [0.49598508],\n",
       "       [0.46176877],\n",
       "       [0.09638191]])"
      ]
     },
     "execution_count": 116,
     "metadata": {},
     "output_type": "execute_result"
    }
   ],
   "source": [
    "np.matmul(X, w_fit2)"
   ]
  },
  {
   "cell_type": "code",
   "execution_count": null,
   "metadata": {},
   "outputs": [],
   "source": []
  }
 ],
 "metadata": {
  "kernelspec": {
   "display_name": "Python 3",
   "language": "python",
   "name": "python3"
  },
  "language_info": {
   "codemirror_mode": {
    "name": "ipython",
    "version": 3
   },
   "file_extension": ".py",
   "mimetype": "text/x-python",
   "name": "python",
   "nbconvert_exporter": "python",
   "pygments_lexer": "ipython3",
   "version": "3.6.6"
  }
 },
 "nbformat": 4,
 "nbformat_minor": 2
}
