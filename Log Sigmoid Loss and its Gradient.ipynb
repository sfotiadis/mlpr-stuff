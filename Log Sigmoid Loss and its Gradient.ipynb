{
 "cells": [
  {
   "cell_type": "code",
   "execution_count": 1,
   "metadata": {},
   "outputs": [],
   "source": [
    "import numpy as np\n",
    "import matplotlib.pyplot as plt"
   ]
  },
  {
   "cell_type": "code",
   "execution_count": 2,
   "metadata": {},
   "outputs": [],
   "source": []
  },
  {
   "cell_type": "code",
   "execution_count": 3,
   "metadata": {},
   "outputs": [],
   "source": [
    "def sigmoid(x):\n",
    "    return 1/(1+np.exp(-x))"
   ]
  },
  {
   "cell_type": "code",
   "execution_count": 23,
   "metadata": {},
   "outputs": [],
   "source": [
    "from ipywidgets import FloatSlider,interact"
   ]
  },
  {
   "cell_type": "code",
   "execution_count": 24,
   "metadata": {},
   "outputs": [
    {
     "data": {
      "application/vnd.jupyter.widget-view+json": {
       "model_id": "b5c0f329197b4d06800c7b516285a070",
       "version_major": 2,
       "version_minor": 0
      },
      "text/plain": [
       "interactive(children=(FloatSlider(value=5.0, description='r', max=20.0, min=0.1), Output()), _dom_classes=('wi…"
      ]
     },
     "metadata": {},
     "output_type": "display_data"
    }
   ],
   "source": [
    "@interact(r=FloatSlider(value=5, min=0.1, max=20, step=0.1))\n",
    "def plot_log_sigmoid_loss(r):\n",
    "    x = np.linspace(-r,r,1000)\n",
    "    y = -np.log(sigmoid(x))\n",
    "    plt.plot(x, y)"
   ]
  },
  {
   "cell_type": "code",
   "execution_count": 25,
   "metadata": {},
   "outputs": [
    {
     "data": {
      "text/plain": [
       "0.5"
      ]
     },
     "execution_count": 25,
     "metadata": {},
     "output_type": "execute_result"
    }
   ],
   "source": [
    "sigmoid(0)"
   ]
  },
  {
   "cell_type": "code",
   "execution_count": 26,
   "metadata": {},
   "outputs": [
    {
     "data": {
      "application/vnd.jupyter.widget-view+json": {
       "model_id": "276c34602d6e4dcfb276d6e7e99a0292",
       "version_major": 2,
       "version_minor": 0
      },
      "text/plain": [
       "interactive(children=(FloatSlider(value=5.0, description='r', max=20.0, min=0.1), Output()), _dom_classes=('wi…"
      ]
     },
     "metadata": {},
     "output_type": "display_data"
    }
   ],
   "source": [
    "@interact(r=FloatSlider(value=5, min=0.1, max=20, step=0.1))\n",
    "def plot_log_sigmoid_loss_derivative(r):\n",
    "    x = np.linspace(-r,r,1000)\n",
    "    y = -(1-sigmoid(x))\n",
    "    plt.plot(x, y)"
   ]
  },
  {
   "cell_type": "code",
   "execution_count": null,
   "metadata": {},
   "outputs": [],
   "source": []
  }
 ],
 "metadata": {
  "kernelspec": {
   "display_name": "Python 3",
   "language": "python",
   "name": "python3"
  },
  "language_info": {
   "codemirror_mode": {
    "name": "ipython",
    "version": 3
   },
   "file_extension": ".py",
   "mimetype": "text/x-python",
   "name": "python",
   "nbconvert_exporter": "python",
   "pygments_lexer": "ipython3",
   "version": "3.6.6"
  },
  "widgets": {
   "application/vnd.jupyter.widget-state+json": {
    "state": {
     "00fd987c850a4c78a2ec95b589d3a71a": {
      "model_module": "@jupyter-widgets/output",
      "model_module_version": "1.0.0",
      "model_name": "OutputModel",
      "state": {
       "layout": "IPY_MODEL_52249d6f5d9244a5a11ab67ae95f1369",
       "outputs": [
        {
         "data": {
          "image/png": "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\n",
          "text/plain": "<Figure size 432x288 with 1 Axes>"
         },
         "metadata": {
          "needs_background": "light"
         },
         "output_type": "display_data"
        }
       ]
      }
     },
     "0197ebd65b1644faabbe63be4464bbb6": {
      "model_module": "@jupyter-widgets/output",
      "model_module_version": "1.0.0",
      "model_name": "OutputModel",
      "state": {
       "layout": "IPY_MODEL_8afb35e8a32447c2bee7300382f88517",
       "outputs": [
        {
         "data": {
          "image/png": "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\n",
          "text/plain": "<Figure size 432x288 with 1 Axes>"
         },
         "metadata": {
          "needs_background": "light"
         },
         "output_type": "display_data"
        }
       ]
      }
     },
     "01c913faa8e64690a8661b7dafdef0d8": {
      "model_module": "@jupyter-widgets/controls",
      "model_module_version": "1.4.0",
      "model_name": "VBoxModel",
      "state": {
       "_dom_classes": [
        "widget-interact"
       ],
       "children": [
        "IPY_MODEL_630f02df9fbc4abeb655abe6ca55c71b",
        "IPY_MODEL_0197ebd65b1644faabbe63be4464bbb6"
       ],
       "layout": "IPY_MODEL_eb3913dc17044ce1a757fc59bf739a5a"
      }
     },
     "081d17fc2c98479f81d601e681118a3e": {
      "model_module": "@jupyter-widgets/controls",
      "model_module_version": "1.4.0",
      "model_name": "FloatSliderModel",
      "state": {
       "description": "r",
       "layout": "IPY_MODEL_654f0b5ce15c4b63917e4fda5c95f592",
       "max": 20,
       "min": 0.1,
       "step": 0.1,
       "style": "IPY_MODEL_c4d0698f3e364ed4b4d0764192ed9b03",
       "value": 3.2
      }
     },
     "0c21cc21d0b84687a9c5ebbd81fb4a65": {
      "model_module": "@jupyter-widgets/controls",
      "model_module_version": "1.4.0",
      "model_name": "SliderStyleModel",
      "state": {
       "description_width": ""
      }
     },
     "16f5e251c74b4429aad204580b738caa": {
      "model_module": "@jupyter-widgets/base",
      "model_module_version": "1.1.0",
      "model_name": "LayoutModel",
      "state": {}
     },
     "1be85ebc6f424f969c07858262bf9c5a": {
      "model_module": "@jupyter-widgets/controls",
      "model_module_version": "1.4.0",
      "model_name": "VBoxModel",
      "state": {
       "_dom_classes": [
        "widget-interact"
       ],
       "children": [
        "IPY_MODEL_081d17fc2c98479f81d601e681118a3e",
        "IPY_MODEL_2f1f67fcc3b2465aab727f3cb9275917"
       ],
       "layout": "IPY_MODEL_1f152eb4963a4de09b4e49686006bcae"
      }
     },
     "1f152eb4963a4de09b4e49686006bcae": {
      "model_module": "@jupyter-widgets/base",
      "model_module_version": "1.1.0",
      "model_name": "LayoutModel",
      "state": {}
     },
     "276c34602d6e4dcfb276d6e7e99a0292": {
      "model_module": "@jupyter-widgets/controls",
      "model_module_version": "1.4.0",
      "model_name": "VBoxModel",
      "state": {
       "_dom_classes": [
        "widget-interact"
       ],
       "children": [
        "IPY_MODEL_bee7e7ef5fec4e469afbe7ba6093f363",
        "IPY_MODEL_e3a058436faa4b9d84cbd404e83d8ead"
       ],
       "layout": "IPY_MODEL_826be71946254486bfe59273f07174fb"
      }
     },
     "2797f0544726466abfebb821b3b8939e": {
      "model_module": "@jupyter-widgets/output",
      "model_module_version": "1.0.0",
      "model_name": "OutputModel",
      "state": {
       "layout": "IPY_MODEL_e799f0ce760b441d804f44636f03e447",
       "outputs": [
        {
         "data": {
          "image/png": "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\n",
          "text/plain": "<Figure size 432x288 with 1 Axes>"
         },
         "metadata": {
          "needs_background": "light"
         },
         "output_type": "display_data"
        }
       ]
      }
     },
     "27eb3004bdf844559d330291ffe7a61e": {
      "model_module": "@jupyter-widgets/controls",
      "model_module_version": "1.4.0",
      "model_name": "SliderStyleModel",
      "state": {
       "description_width": ""
      }
     },
     "2ad61adaba0f4643964aad4414c32b4d": {
      "model_module": "@jupyter-widgets/output",
      "model_module_version": "1.0.0",
      "model_name": "OutputModel",
      "state": {
       "layout": "IPY_MODEL_e1b35b773e1143c88c83646c976b6204",
       "outputs": [
        {
         "data": {
          "image/png": "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\n",
          "text/plain": "<Figure size 432x288 with 1 Axes>"
         },
         "metadata": {
          "needs_background": "light"
         },
         "output_type": "display_data"
        }
       ]
      }
     },
     "2cdc7f379e2c44aeb1878205779dba14": {
      "model_module": "@jupyter-widgets/base",
      "model_module_version": "1.1.0",
      "model_name": "LayoutModel",
      "state": {}
     },
     "2f1f67fcc3b2465aab727f3cb9275917": {
      "model_module": "@jupyter-widgets/output",
      "model_module_version": "1.0.0",
      "model_name": "OutputModel",
      "state": {
       "layout": "IPY_MODEL_59816e0f5c2443e493c78fa65ea1ecde",
       "outputs": [
        {
         "data": {
          "image/png": "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\n",
          "text/plain": "<Figure size 432x288 with 1 Axes>"
         },
         "metadata": {
          "needs_background": "light"
         },
         "output_type": "display_data"
        }
       ]
      }
     },
     "3127bb8447b244bbaad78194e316aa32": {
      "model_module": "@jupyter-widgets/base",
      "model_module_version": "1.1.0",
      "model_name": "LayoutModel",
      "state": {}
     },
     "32441befd0d94c2595d26b5b23898ebb": {
      "model_module": "@jupyter-widgets/controls",
      "model_module_version": "1.4.0",
      "model_name": "SliderStyleModel",
      "state": {
       "description_width": ""
      }
     },
     "32b6fa1795064861a625c7e0a0aaec3c": {
      "model_module": "@jupyter-widgets/base",
      "model_module_version": "1.1.0",
      "model_name": "LayoutModel",
      "state": {}
     },
     "39048b12a8ec435fab4348d4d6084e78": {
      "model_module": "@jupyter-widgets/base",
      "model_module_version": "1.1.0",
      "model_name": "LayoutModel",
      "state": {}
     },
     "3904f717838e49998d91fecc3e86374c": {
      "model_module": "@jupyter-widgets/base",
      "model_module_version": "1.1.0",
      "model_name": "LayoutModel",
      "state": {}
     },
     "3d63e0f2988344d8a9c7e9aede5b0bda": {
      "model_module": "@jupyter-widgets/controls",
      "model_module_version": "1.4.0",
      "model_name": "SliderStyleModel",
      "state": {
       "description_width": ""
      }
     },
     "3d6fa0b47335478d98a552173c223e20": {
      "model_module": "@jupyter-widgets/base",
      "model_module_version": "1.1.0",
      "model_name": "LayoutModel",
      "state": {}
     },
     "3eed074333914552b40d39f3b8842af3": {
      "model_module": "@jupyter-widgets/controls",
      "model_module_version": "1.4.0",
      "model_name": "SliderStyleModel",
      "state": {
       "description_width": ""
      }
     },
     "41f85ce068d24d8698bf6ea9b11bdd9f": {
      "model_module": "@jupyter-widgets/output",
      "model_module_version": "1.0.0",
      "model_name": "OutputModel",
      "state": {
       "layout": "IPY_MODEL_e7df053894c849e8bd7cb91d8281c74b",
       "outputs": [
        {
         "data": {
          "image/png": "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\n",
          "text/plain": "<Figure size 432x288 with 1 Axes>"
         },
         "metadata": {
          "needs_background": "light"
         },
         "output_type": "display_data"
        }
       ]
      }
     },
     "4266f66cd82d4a18a2f59836a95aec85": {
      "model_module": "@jupyter-widgets/controls",
      "model_module_version": "1.4.0",
      "model_name": "VBoxModel",
      "state": {
       "_dom_classes": [
        "widget-interact"
       ],
       "children": [
        "IPY_MODEL_977e185719124028aa032ee9f8e3edee",
        "IPY_MODEL_41f85ce068d24d8698bf6ea9b11bdd9f"
       ],
       "layout": "IPY_MODEL_f7eec060c0894074b556a975e685fc96"
      }
     },
     "477bdba41825467c9b620a36b7689641": {
      "model_module": "@jupyter-widgets/output",
      "model_module_version": "1.0.0",
      "model_name": "OutputModel",
      "state": {
       "layout": "IPY_MODEL_dcc7f03f14bc46c188782a68de93c79c",
       "outputs": [
        {
         "data": {
          "image/png": "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\n",
          "text/plain": "<Figure size 432x288 with 1 Axes>"
         },
         "metadata": {
          "needs_background": "light"
         },
         "output_type": "display_data"
        }
       ]
      }
     },
     "5165ea46d69145a59401ce315a220736": {
      "model_module": "@jupyter-widgets/controls",
      "model_module_version": "1.4.0",
      "model_name": "VBoxModel",
      "state": {
       "_dom_classes": [
        "widget-interact"
       ],
       "children": [
        "IPY_MODEL_6e370ebc17724b36b7e33ff1c30e84c3",
        "IPY_MODEL_cce112217729444c98f0e18b188b9bce"
       ],
       "layout": "IPY_MODEL_39048b12a8ec435fab4348d4d6084e78"
      }
     },
     "52249d6f5d9244a5a11ab67ae95f1369": {
      "model_module": "@jupyter-widgets/base",
      "model_module_version": "1.1.0",
      "model_name": "LayoutModel",
      "state": {}
     },
     "53dcbd336be04f36922881582c2ff122": {
      "model_module": "@jupyter-widgets/controls",
      "model_module_version": "1.4.0",
      "model_name": "SliderStyleModel",
      "state": {
       "description_width": ""
      }
     },
     "568c4c6f378f458aab28b1d6377e2ae4": {
      "model_module": "@jupyter-widgets/base",
      "model_module_version": "1.1.0",
      "model_name": "LayoutModel",
      "state": {}
     },
     "59816e0f5c2443e493c78fa65ea1ecde": {
      "model_module": "@jupyter-widgets/base",
      "model_module_version": "1.1.0",
      "model_name": "LayoutModel",
      "state": {}
     },
     "5d71f111174b4dd58e352b1b3dfbdb95": {
      "model_module": "@jupyter-widgets/controls",
      "model_module_version": "1.4.0",
      "model_name": "SliderStyleModel",
      "state": {
       "description_width": ""
      }
     },
     "5e93ef3a48c44d168666591ab8273849": {
      "model_module": "@jupyter-widgets/base",
      "model_module_version": "1.1.0",
      "model_name": "LayoutModel",
      "state": {}
     },
     "5fed830e856b49eaa9ae57d1db86197d": {
      "model_module": "@jupyter-widgets/output",
      "model_module_version": "1.0.0",
      "model_name": "OutputModel",
      "state": {
       "layout": "IPY_MODEL_16f5e251c74b4429aad204580b738caa",
       "outputs": [
        {
         "data": {
          "image/png": "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\n",
          "text/plain": "<Figure size 432x288 with 1 Axes>"
         },
         "metadata": {
          "needs_background": "light"
         },
         "output_type": "display_data"
        }
       ]
      }
     },
     "61ec0b338e664a938ef3a9385e4388bf": {
      "model_module": "@jupyter-widgets/controls",
      "model_module_version": "1.4.0",
      "model_name": "FloatSliderModel",
      "state": {
       "description": "r",
       "layout": "IPY_MODEL_5e93ef3a48c44d168666591ab8273849",
       "max": 20,
       "min": 0.1,
       "step": 0.1,
       "style": "IPY_MODEL_3eed074333914552b40d39f3b8842af3",
       "value": 5
      }
     },
     "62790fdb3f8543f0bc05e3fce6d92685": {
      "model_module": "@jupyter-widgets/controls",
      "model_module_version": "1.4.0",
      "model_name": "FloatSliderModel",
      "state": {
       "description": "r",
       "layout": "IPY_MODEL_9675dcdb2c2d4a9fbfd71731ac517d28",
       "step": 0.1,
       "style": "IPY_MODEL_32441befd0d94c2595d26b5b23898ebb",
       "value": 100
      }
     },
     "62d77017ebfb4e40a2ae1ee3a6d8e483": {
      "model_module": "@jupyter-widgets/base",
      "model_module_version": "1.1.0",
      "model_name": "LayoutModel",
      "state": {}
     },
     "630f02df9fbc4abeb655abe6ca55c71b": {
      "model_module": "@jupyter-widgets/controls",
      "model_module_version": "1.4.0",
      "model_name": "FloatSliderModel",
      "state": {
       "description": "r",
       "layout": "IPY_MODEL_3127bb8447b244bbaad78194e316aa32",
       "max": 20,
       "min": 0.1,
       "step": 0.1,
       "style": "IPY_MODEL_5d71f111174b4dd58e352b1b3dfbdb95",
       "value": 7
      }
     },
     "654f0b5ce15c4b63917e4fda5c95f592": {
      "model_module": "@jupyter-widgets/base",
      "model_module_version": "1.1.0",
      "model_name": "LayoutModel",
      "state": {}
     },
     "6e370ebc17724b36b7e33ff1c30e84c3": {
      "model_module": "@jupyter-widgets/controls",
      "model_module_version": "1.4.0",
      "model_name": "FloatSliderModel",
      "state": {
       "description": "r",
       "layout": "IPY_MODEL_df3aa45d90bc45ef905596af0a3a1d29",
       "max": 20,
       "min": 1,
       "step": 0.1,
       "style": "IPY_MODEL_7a25174fc8b4450d932f5c00ed0374bf",
       "value": 1
      }
     },
     "6fc34ce16e704b109a779e0b4c582434": {
      "model_module": "@jupyter-widgets/base",
      "model_module_version": "1.1.0",
      "model_name": "LayoutModel",
      "state": {}
     },
     "71617c9d91f144638dc4892cb025dc8b": {
      "model_module": "@jupyter-widgets/base",
      "model_module_version": "1.1.0",
      "model_name": "LayoutModel",
      "state": {}
     },
     "7a25174fc8b4450d932f5c00ed0374bf": {
      "model_module": "@jupyter-widgets/controls",
      "model_module_version": "1.4.0",
      "model_name": "SliderStyleModel",
      "state": {
       "description_width": ""
      }
     },
     "811ed857dd5047c891e0c9839f502158": {
      "model_module": "@jupyter-widgets/base",
      "model_module_version": "1.1.0",
      "model_name": "LayoutModel",
      "state": {}
     },
     "826be71946254486bfe59273f07174fb": {
      "model_module": "@jupyter-widgets/base",
      "model_module_version": "1.1.0",
      "model_name": "LayoutModel",
      "state": {}
     },
     "838fca82fefc4f9a9ddfc891206bef9b": {
      "model_module": "@jupyter-widgets/base",
      "model_module_version": "1.1.0",
      "model_name": "LayoutModel",
      "state": {}
     },
     "85ab331f174e4f4ab0c81960d02dd80f": {
      "model_module": "@jupyter-widgets/base",
      "model_module_version": "1.1.0",
      "model_name": "LayoutModel",
      "state": {}
     },
     "8afb35e8a32447c2bee7300382f88517": {
      "model_module": "@jupyter-widgets/base",
      "model_module_version": "1.1.0",
      "model_name": "LayoutModel",
      "state": {}
     },
     "8d4b0c155be54b5a8b5884de65641571": {
      "model_module": "@jupyter-widgets/controls",
      "model_module_version": "1.4.0",
      "model_name": "FloatSliderModel",
      "state": {
       "description": "r",
       "layout": "IPY_MODEL_c405f20177df495899ecf264a56d0802",
       "max": 20,
       "min": 0.1,
       "step": 0.1,
       "style": "IPY_MODEL_bf8e6b47e5c84dabb664e814153361e8",
       "value": 5
      }
     },
     "9043729f425449d08a4d5d8ea4b0b958": {
      "model_module": "@jupyter-widgets/output",
      "model_module_version": "1.0.0",
      "model_name": "OutputModel",
      "state": {
       "layout": "IPY_MODEL_d63e4380d2de444dba7470ef101e30f1",
       "outputs": [
        {
         "data": {
          "image/png": "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\n",
          "text/plain": "<Figure size 432x288 with 1 Axes>"
         },
         "metadata": {
          "needs_background": "light"
         },
         "output_type": "display_data"
        }
       ]
      }
     },
     "9675dcdb2c2d4a9fbfd71731ac517d28": {
      "model_module": "@jupyter-widgets/base",
      "model_module_version": "1.1.0",
      "model_name": "LayoutModel",
      "state": {}
     },
     "977e185719124028aa032ee9f8e3edee": {
      "model_module": "@jupyter-widgets/controls",
      "model_module_version": "1.4.0",
      "model_name": "FloatSliderModel",
      "state": {
       "description": "r",
       "layout": "IPY_MODEL_32b6fa1795064861a625c7e0a0aaec3c",
       "max": 20,
       "step": 0.1,
       "style": "IPY_MODEL_f8bd0cdb50024d4c97810b42ebbf2e2f"
      }
     },
     "a6458a9dbc7f4e95bd82beca1e25db87": {
      "model_module": "@jupyter-widgets/base",
      "model_module_version": "1.1.0",
      "model_name": "LayoutModel",
      "state": {}
     },
     "a773d01e464c42f78d788a333c96759b": {
      "model_module": "@jupyter-widgets/controls",
      "model_module_version": "1.4.0",
      "model_name": "VBoxModel",
      "state": {
       "_dom_classes": [
        "widget-interact"
       ],
       "children": [
        "IPY_MODEL_e0e412cdaf9249239a5c3b4cd8f9bd11",
        "IPY_MODEL_477bdba41825467c9b620a36b7689641"
       ],
       "layout": "IPY_MODEL_6fc34ce16e704b109a779e0b4c582434"
      }
     },
     "a7d0f45d7d0841d795496654f945d3f2": {
      "model_module": "@jupyter-widgets/controls",
      "model_module_version": "1.4.0",
      "model_name": "VBoxModel",
      "state": {
       "_dom_classes": [
        "widget-interact"
       ],
       "children": [
        "IPY_MODEL_b3cc998237344ce299d09224851d3822",
        "IPY_MODEL_2797f0544726466abfebb821b3b8939e"
       ],
       "layout": "IPY_MODEL_d5b7bc9e311c4b4297a82fff97e3f840"
      }
     },
     "aa7dd982333246c9be7e39f546f420dd": {
      "model_module": "@jupyter-widgets/controls",
      "model_module_version": "1.4.0",
      "model_name": "FloatSliderModel",
      "state": {
       "description": "r",
       "layout": "IPY_MODEL_a6458a9dbc7f4e95bd82beca1e25db87",
       "max": 20,
       "min": 0.1,
       "step": 0.1,
       "style": "IPY_MODEL_27eb3004bdf844559d330291ffe7a61e",
       "value": 5
      }
     },
     "b3cc998237344ce299d09224851d3822": {
      "model_module": "@jupyter-widgets/controls",
      "model_module_version": "1.4.0",
      "model_name": "FloatSliderModel",
      "state": {
       "description": "r",
       "layout": "IPY_MODEL_838fca82fefc4f9a9ddfc891206bef9b",
       "max": 20,
       "step": 0.1,
       "style": "IPY_MODEL_3d63e0f2988344d8a9c7e9aede5b0bda"
      }
     },
     "b5c0f329197b4d06800c7b516285a070": {
      "model_module": "@jupyter-widgets/controls",
      "model_module_version": "1.4.0",
      "model_name": "VBoxModel",
      "state": {
       "_dom_classes": [
        "widget-interact"
       ],
       "children": [
        "IPY_MODEL_8d4b0c155be54b5a8b5884de65641571",
        "IPY_MODEL_f9cbe7cfadae4069b66bb5ad65cbac71"
       ],
       "layout": "IPY_MODEL_3904f717838e49998d91fecc3e86374c"
      }
     },
     "bee7e7ef5fec4e469afbe7ba6093f363": {
      "model_module": "@jupyter-widgets/controls",
      "model_module_version": "1.4.0",
      "model_name": "FloatSliderModel",
      "state": {
       "description": "r",
       "layout": "IPY_MODEL_c273b348023c4a3ab265fac317daa70a",
       "max": 20,
       "min": 0.1,
       "step": 0.1,
       "style": "IPY_MODEL_e5ca948246d94efbb6f6cc48241f0c35",
       "value": 5
      }
     },
     "bf8e6b47e5c84dabb664e814153361e8": {
      "model_module": "@jupyter-widgets/controls",
      "model_module_version": "1.4.0",
      "model_name": "SliderStyleModel",
      "state": {
       "description_width": ""
      }
     },
     "bf9b9c2ccc8c4d5f822e1cb755a72920": {
      "model_module": "@jupyter-widgets/controls",
      "model_module_version": "1.4.0",
      "model_name": "VBoxModel",
      "state": {
       "_dom_classes": [
        "widget-interact"
       ],
       "children": [
        "IPY_MODEL_e994c2a8169d487fb981ae8687a7c033",
        "IPY_MODEL_f566bc580f4542db92f10e42fbf398cf"
       ],
       "layout": "IPY_MODEL_cbbbb46dbc1a41c0bf34af77793eb451"
      }
     },
     "c273b348023c4a3ab265fac317daa70a": {
      "model_module": "@jupyter-widgets/base",
      "model_module_version": "1.1.0",
      "model_name": "LayoutModel",
      "state": {}
     },
     "c405f20177df495899ecf264a56d0802": {
      "model_module": "@jupyter-widgets/base",
      "model_module_version": "1.1.0",
      "model_name": "LayoutModel",
      "state": {}
     },
     "c4d0698f3e364ed4b4d0764192ed9b03": {
      "model_module": "@jupyter-widgets/controls",
      "model_module_version": "1.4.0",
      "model_name": "SliderStyleModel",
      "state": {
       "description_width": ""
      }
     },
     "cbbbb46dbc1a41c0bf34af77793eb451": {
      "model_module": "@jupyter-widgets/base",
      "model_module_version": "1.1.0",
      "model_name": "LayoutModel",
      "state": {}
     },
     "cce112217729444c98f0e18b188b9bce": {
      "model_module": "@jupyter-widgets/output",
      "model_module_version": "1.0.0",
      "model_name": "OutputModel",
      "state": {
       "layout": "IPY_MODEL_62d77017ebfb4e40a2ae1ee3a6d8e483",
       "outputs": [
        {
         "data": {
          "image/png": "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\n",
          "text/plain": "<Figure size 432x288 with 1 Axes>"
         },
         "metadata": {
          "needs_background": "light"
         },
         "output_type": "display_data"
        }
       ]
      }
     },
     "cd4915f905b04ca3affe526ba40f7764": {
      "model_module": "@jupyter-widgets/base",
      "model_module_version": "1.1.0",
      "model_name": "LayoutModel",
      "state": {}
     },
     "ce72fe266fa8485e96f8e1b827c9da32": {
      "model_module": "@jupyter-widgets/controls",
      "model_module_version": "1.4.0",
      "model_name": "SliderStyleModel",
      "state": {
       "description_width": ""
      }
     },
     "d1b435902fbd4d569da5511c851059bc": {
      "model_module": "@jupyter-widgets/controls",
      "model_module_version": "1.4.0",
      "model_name": "VBoxModel",
      "state": {
       "_dom_classes": [
        "widget-interact"
       ],
       "children": [
        "IPY_MODEL_62790fdb3f8543f0bc05e3fce6d92685",
        "IPY_MODEL_5fed830e856b49eaa9ae57d1db86197d"
       ],
       "layout": "IPY_MODEL_f063eecebf3647f694491266e2b443bd"
      }
     },
     "d22ab3d7511241d9b8fc40a3103c25aa": {
      "model_module": "@jupyter-widgets/output",
      "model_module_version": "1.0.0",
      "model_name": "OutputModel",
      "state": {
       "layout": "IPY_MODEL_71617c9d91f144638dc4892cb025dc8b",
       "outputs": [
        {
         "data": {
          "image/png": "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\n",
          "text/plain": "<Figure size 432x288 with 1 Axes>"
         },
         "metadata": {
          "needs_background": "light"
         },
         "output_type": "display_data"
        }
       ]
      }
     },
     "d5b7bc9e311c4b4297a82fff97e3f840": {
      "model_module": "@jupyter-widgets/base",
      "model_module_version": "1.1.0",
      "model_name": "LayoutModel",
      "state": {}
     },
     "d63e4380d2de444dba7470ef101e30f1": {
      "model_module": "@jupyter-widgets/base",
      "model_module_version": "1.1.0",
      "model_name": "LayoutModel",
      "state": {}
     },
     "dcc7f03f14bc46c188782a68de93c79c": {
      "model_module": "@jupyter-widgets/base",
      "model_module_version": "1.1.0",
      "model_name": "LayoutModel",
      "state": {}
     },
     "de94ff4d47b049b8b7592a8f1b646e97": {
      "model_module": "@jupyter-widgets/base",
      "model_module_version": "1.1.0",
      "model_name": "LayoutModel",
      "state": {}
     },
     "df3aa45d90bc45ef905596af0a3a1d29": {
      "model_module": "@jupyter-widgets/base",
      "model_module_version": "1.1.0",
      "model_name": "LayoutModel",
      "state": {}
     },
     "e041c3170f374803883575ceac3abca0": {
      "model_module": "@jupyter-widgets/base",
      "model_module_version": "1.1.0",
      "model_name": "LayoutModel",
      "state": {}
     },
     "e0e412cdaf9249239a5c3b4cd8f9bd11": {
      "model_module": "@jupyter-widgets/controls",
      "model_module_version": "1.4.0",
      "model_name": "FloatSliderModel",
      "state": {
       "description": "r",
       "layout": "IPY_MODEL_cd4915f905b04ca3affe526ba40f7764",
       "max": 20,
       "min": 0.1,
       "step": 0.1,
       "style": "IPY_MODEL_ce72fe266fa8485e96f8e1b827c9da32",
       "value": 5
      }
     },
     "e1b35b773e1143c88c83646c976b6204": {
      "model_module": "@jupyter-widgets/base",
      "model_module_version": "1.1.0",
      "model_name": "LayoutModel",
      "state": {}
     },
     "e3a058436faa4b9d84cbd404e83d8ead": {
      "model_module": "@jupyter-widgets/output",
      "model_module_version": "1.0.0",
      "model_name": "OutputModel",
      "state": {
       "layout": "IPY_MODEL_568c4c6f378f458aab28b1d6377e2ae4",
       "outputs": [
        {
         "data": {
          "image/png": "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\n",
          "text/plain": "<Figure size 432x288 with 1 Axes>"
         },
         "metadata": {
          "needs_background": "light"
         },
         "output_type": "display_data"
        }
       ]
      }
     },
     "e5ca948246d94efbb6f6cc48241f0c35": {
      "model_module": "@jupyter-widgets/controls",
      "model_module_version": "1.4.0",
      "model_name": "SliderStyleModel",
      "state": {
       "description_width": ""
      }
     },
     "e607b9f7c2574f90b241cdf650c2b57f": {
      "model_module": "@jupyter-widgets/base",
      "model_module_version": "1.1.0",
      "model_name": "LayoutModel",
      "state": {}
     },
     "e799f0ce760b441d804f44636f03e447": {
      "model_module": "@jupyter-widgets/base",
      "model_module_version": "1.1.0",
      "model_name": "LayoutModel",
      "state": {}
     },
     "e7df053894c849e8bd7cb91d8281c74b": {
      "model_module": "@jupyter-widgets/base",
      "model_module_version": "1.1.0",
      "model_name": "LayoutModel",
      "state": {}
     },
     "e994c2a8169d487fb981ae8687a7c033": {
      "model_module": "@jupyter-widgets/controls",
      "model_module_version": "1.4.0",
      "model_name": "FloatSliderModel",
      "state": {
       "description": "r",
       "layout": "IPY_MODEL_811ed857dd5047c891e0c9839f502158",
       "max": 20,
       "min": 0.0001,
       "step": 0.1,
       "style": "IPY_MODEL_53dcbd336be04f36922881582c2ff122",
       "value": 0.0001
      }
     },
     "eb3913dc17044ce1a757fc59bf739a5a": {
      "model_module": "@jupyter-widgets/base",
      "model_module_version": "1.1.0",
      "model_name": "LayoutModel",
      "state": {}
     },
     "f0577fd3f1e64acaa3b917eea36aa63d": {
      "model_module": "@jupyter-widgets/controls",
      "model_module_version": "1.4.0",
      "model_name": "SliderStyleModel",
      "state": {
       "description_width": ""
      }
     },
     "f063eecebf3647f694491266e2b443bd": {
      "model_module": "@jupyter-widgets/base",
      "model_module_version": "1.1.0",
      "model_name": "LayoutModel",
      "state": {}
     },
     "f200c0d3f57643c8b504cbb18926bb8a": {
      "model_module": "@jupyter-widgets/controls",
      "model_module_version": "1.4.0",
      "model_name": "FloatSliderModel",
      "state": {
       "description": "r",
       "layout": "IPY_MODEL_85ab331f174e4f4ab0c81960d02dd80f",
       "max": 20,
       "min": 0.1,
       "step": 0.1,
       "style": "IPY_MODEL_f0577fd3f1e64acaa3b917eea36aa63d",
       "value": 5.5
      }
     },
     "f237415c7bcc41bf9891eccc830e616a": {
      "model_module": "@jupyter-widgets/controls",
      "model_module_version": "1.4.0",
      "model_name": "VBoxModel",
      "state": {
       "_dom_classes": [
        "widget-interact"
       ],
       "children": [
        "IPY_MODEL_f200c0d3f57643c8b504cbb18926bb8a",
        "IPY_MODEL_00fd987c850a4c78a2ec95b589d3a71a"
       ],
       "layout": "IPY_MODEL_de94ff4d47b049b8b7592a8f1b646e97"
      }
     },
     "f566bc580f4542db92f10e42fbf398cf": {
      "model_module": "@jupyter-widgets/output",
      "model_module_version": "1.0.0",
      "model_name": "OutputModel",
      "state": {
       "layout": "IPY_MODEL_3d6fa0b47335478d98a552173c223e20",
       "outputs": [
        {
         "data": {
          "image/png": "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\n",
          "text/plain": "<Figure size 432x288 with 1 Axes>"
         },
         "metadata": {
          "needs_background": "light"
         },
         "output_type": "display_data"
        }
       ]
      }
     },
     "f7eec060c0894074b556a975e685fc96": {
      "model_module": "@jupyter-widgets/base",
      "model_module_version": "1.1.0",
      "model_name": "LayoutModel",
      "state": {}
     },
     "f8bd0cdb50024d4c97810b42ebbf2e2f": {
      "model_module": "@jupyter-widgets/controls",
      "model_module_version": "1.4.0",
      "model_name": "SliderStyleModel",
      "state": {
       "description_width": ""
      }
     },
     "f8d7e339bdbb42c4ac5baa078ad2ef2c": {
      "model_module": "@jupyter-widgets/controls",
      "model_module_version": "1.4.0",
      "model_name": "VBoxModel",
      "state": {
       "_dom_classes": [
        "widget-interact"
       ],
       "children": [
        "IPY_MODEL_fe8f5bce4abc47b7810d9bad0a707c80",
        "IPY_MODEL_2ad61adaba0f4643964aad4414c32b4d"
       ],
       "layout": "IPY_MODEL_e041c3170f374803883575ceac3abca0"
      }
     },
     "f9cbe7cfadae4069b66bb5ad65cbac71": {
      "model_module": "@jupyter-widgets/output",
      "model_module_version": "1.0.0",
      "model_name": "OutputModel",
      "state": {
       "layout": "IPY_MODEL_e607b9f7c2574f90b241cdf650c2b57f",
       "outputs": [
        {
         "data": {
          "image/png": "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\n",
          "text/plain": "<Figure size 432x288 with 1 Axes>"
         },
         "metadata": {
          "needs_background": "light"
         },
         "output_type": "display_data"
        }
       ]
      }
     },
     "fa659776c8254063b626f39feadbb98f": {
      "model_module": "@jupyter-widgets/controls",
      "model_module_version": "1.4.0",
      "model_name": "VBoxModel",
      "state": {
       "_dom_classes": [
        "widget-interact"
       ],
       "children": [
        "IPY_MODEL_aa7dd982333246c9be7e39f546f420dd",
        "IPY_MODEL_d22ab3d7511241d9b8fc40a3103c25aa"
       ],
       "layout": "IPY_MODEL_2cdc7f379e2c44aeb1878205779dba14"
      }
     },
     "fcbe5adbdf294987bece1118cb62b27d": {
      "model_module": "@jupyter-widgets/base",
      "model_module_version": "1.1.0",
      "model_name": "LayoutModel",
      "state": {}
     },
     "fd75754b89434d8c9ce55f3ef7853546": {
      "model_module": "@jupyter-widgets/controls",
      "model_module_version": "1.4.0",
      "model_name": "VBoxModel",
      "state": {
       "_dom_classes": [
        "widget-interact"
       ],
       "children": [
        "IPY_MODEL_61ec0b338e664a938ef3a9385e4388bf",
        "IPY_MODEL_9043729f425449d08a4d5d8ea4b0b958"
       ],
       "layout": "IPY_MODEL_fcbe5adbdf294987bece1118cb62b27d"
      }
     },
     "fe8f5bce4abc47b7810d9bad0a707c80": {
      "model_module": "@jupyter-widgets/controls",
      "model_module_version": "1.4.0",
      "model_name": "FloatSliderModel",
      "state": {
       "description": "r",
       "layout": "IPY_MODEL_ffcaf762f32f4fa9bc839ccbc264788a",
       "max": 20,
       "min": 0.1,
       "step": 0.1,
       "style": "IPY_MODEL_0c21cc21d0b84687a9c5ebbd81fb4a65",
       "value": 5.1
      }
     },
     "ffcaf762f32f4fa9bc839ccbc264788a": {
      "model_module": "@jupyter-widgets/base",
      "model_module_version": "1.1.0",
      "model_name": "LayoutModel",
      "state": {}
     }
    },
    "version_major": 2,
    "version_minor": 0
   }
  }
 },
 "nbformat": 4,
 "nbformat_minor": 2
}
