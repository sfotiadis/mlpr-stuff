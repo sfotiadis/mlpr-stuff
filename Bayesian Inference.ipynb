{
 "cells": [
  {
   "cell_type": "code",
   "execution_count": 3,
   "metadata": {},
   "outputs": [
    {
     "data": {
      "text/plain": [
       "0.33370017828664733"
      ]
     },
     "execution_count": 3,
     "metadata": {},
     "output_type": "execute_result"
    }
   ],
   "source": [
    "import numpy as np\n",
    "import random\n",
    "cards = np.array([[1,1],[0,0],[1,0]])\n",
    "num_cards = len(cards)\n",
    "\n",
    "N = 0 # Number of times first side is black\n",
    "kk = 0 # Out of those, how many times the other side is white\n",
    "\n",
    "for trial in range(1,1000000):\n",
    "    card = random.randint(0,num_cards - 1)\n",
    "    side = random.randint(0,1)\n",
    "    other_side = int(not side)\n",
    "    x1 = cards[card,side]\n",
    "    x2 = cards[card,other_side]\n",
    "\n",
    "    # if first side is black\n",
    "    if x1 == 0: \n",
    "        N += 1 # increment counter\n",
    "        if x2 == 1:\n",
    "            kk += 1\n",
    "\n",
    "approx_probability = kk / N\n",
    "approx_probability"
   ]
  },
  {
   "cell_type": "code",
   "execution_count": null,
   "metadata": {},
   "outputs": [],
   "source": []
  }
 ],
 "metadata": {
  "kernelspec": {
   "display_name": "Python 3",
   "language": "python",
   "name": "python3"
  },
  "language_info": {
   "codemirror_mode": {
    "name": "ipython",
    "version": 3
   },
   "file_extension": ".py",
   "mimetype": "text/x-python",
   "name": "python",
   "nbconvert_exporter": "python",
   "pygments_lexer": "ipython3",
   "version": "3.6.6"
  }
 },
 "nbformat": 4,
 "nbformat_minor": 2
}
